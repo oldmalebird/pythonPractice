{
 "cells": [
  {
   "cell_type": "code",
   "execution_count": 1,
   "metadata": {},
   "outputs": [],
   "source": [
    "class Stack:    \n",
    "    def __init__(self): \n",
    "        self.items = []\n",
    "    def isEmpty(self):\n",
    "        return self.items == []  # True False\n",
    " \n",
    "    def push(self, item): \n",
    "        self.items.append(item)\n",
    " \n",
    "    def pop(self):\n",
    "        self.items.pop()\n",
    " \n",
    "    def peek(self): \n",
    "        return self.items[len(self.items) - 1]\n",
    " \n",
    "    def size(self):\n",
    "        return len(self.items)"
   ]
  },
  {
   "cell_type": "code",
   "execution_count": 2,
   "metadata": {},
   "outputs": [
    {
     "data": {
      "text/plain": [
       "'like'"
      ]
     },
     "execution_count": 2,
     "metadata": {},
     "output_type": "execute_result"
    }
   ],
   "source": [
    "s = Stack() \n",
    "s.isEmpty() \n",
    "s.push('I') \n",
    "s.push('like') \n",
    "s.push('python') \n",
    "s.pop() \n",
    "s.peek() \n",
    "# s.size()\n"
   ]
  },
  {
   "cell_type": "code",
   "execution_count": 1,
   "metadata": {},
   "outputs": [],
   "source": [
    "import pandas as pd\n",
    "import numpy as np"
   ]
  },
  {
   "cell_type": "code",
   "execution_count": 3,
   "metadata": {},
   "outputs": [],
   "source": [
    "r\"D:\\Data\\信息中心进出口\\数据处理\\2020\\蔬菜水果_贸202001-02.xlsx\"\n",
    "docAddress = r\"D:\\Data\\信息中心进出口\\数据处理\\2020\\蔬菜水果_贸202001-02.xlsx\"\n",
    "data = pd.read_excel(docAddress,encoding='iso-8859-1')"
   ]
  },
  {
   "cell_type": "code",
   "execution_count": 4,
   "metadata": {},
   "outputs": [
    {
     "name": "stdout",
     "output_type": "stream",
     "text": [
      "<class 'pandas.core.frame.DataFrame'>\n",
      "RangeIndex: 663 entries, 0 to 662\n",
      "Data columns (total 13 columns):\n",
      "产品               663 non-null object\n",
      "类别               663 non-null object\n",
      "贸易方式             663 non-null object\n",
      "截至时间             663 non-null object\n",
      "时间               663 non-null datetime64[ns]\n",
      "当期出口金额（万美元）      663 non-null float64\n",
      "当期进口金额（万美元）      663 non-null float64\n",
      "当期出口数量（吨）        663 non-null float64\n",
      "当期进口数量（吨）        663 non-null float64\n",
      "一至当月出口金额（万美元）    663 non-null float64\n",
      "一至当月进口金额（万美元）    663 non-null float64\n",
      "一至当月出口数量（吨）      663 non-null float64\n",
      "一至当月进口数量（吨）      663 non-null float64\n",
      "dtypes: datetime64[ns](1), float64(8), object(4)\n",
      "memory usage: 67.4+ KB\n"
     ]
    }
   ],
   "source": [
    "data.info()"
   ]
  },
  {
   "cell_type": "code",
   "execution_count": 11,
   "metadata": {},
   "outputs": [
    {
     "data": {
      "text/html": [
       "<div>\n",
       "<style scoped>\n",
       "    .dataframe tbody tr th:only-of-type {\n",
       "        vertical-align: middle;\n",
       "    }\n",
       "\n",
       "    .dataframe tbody tr th {\n",
       "        vertical-align: top;\n",
       "    }\n",
       "\n",
       "    .dataframe thead th {\n",
       "        text-align: right;\n",
       "    }\n",
       "</style>\n",
       "<table border=\"1\" class=\"dataframe\">\n",
       "  <thead>\n",
       "    <tr style=\"text-align: right;\">\n",
       "      <th></th>\n",
       "      <th>当期出口金额（万美元）</th>\n",
       "      <th>当期进口金额（万美元）</th>\n",
       "      <th>当期出口数量（吨）</th>\n",
       "      <th>当期进口数量（吨）</th>\n",
       "      <th>一至当月出口金额（万美元）</th>\n",
       "      <th>一至当月进口金额（万美元）</th>\n",
       "      <th>一至当月出口数量（吨）</th>\n",
       "      <th>一至当月进口数量（吨）</th>\n",
       "    </tr>\n",
       "  </thead>\n",
       "  <tbody>\n",
       "    <tr>\n",
       "      <th>count</th>\n",
       "      <td>663</td>\n",
       "      <td>663</td>\n",
       "      <td>663</td>\n",
       "      <td>663</td>\n",
       "      <td>663</td>\n",
       "      <td>663</td>\n",
       "      <td>663</td>\n",
       "      <td>663</td>\n",
       "    </tr>\n",
       "    <tr>\n",
       "      <th>mean</th>\n",
       "      <td>840</td>\n",
       "      <td>46</td>\n",
       "      <td>6133</td>\n",
       "      <td>374</td>\n",
       "      <td>1382</td>\n",
       "      <td>65</td>\n",
       "      <td>9761</td>\n",
       "      <td>577</td>\n",
       "    </tr>\n",
       "    <tr>\n",
       "      <th>std</th>\n",
       "      <td>5721</td>\n",
       "      <td>282</td>\n",
       "      <td>42238</td>\n",
       "      <td>2629</td>\n",
       "      <td>9202</td>\n",
       "      <td>394</td>\n",
       "      <td>68096</td>\n",
       "      <td>3996</td>\n",
       "    </tr>\n",
       "    <tr>\n",
       "      <th>min</th>\n",
       "      <td>0</td>\n",
       "      <td>0</td>\n",
       "      <td>0</td>\n",
       "      <td>0</td>\n",
       "      <td>0</td>\n",
       "      <td>0</td>\n",
       "      <td>0</td>\n",
       "      <td>0</td>\n",
       "    </tr>\n",
       "    <tr>\n",
       "      <th>25%</th>\n",
       "      <td>0</td>\n",
       "      <td>0</td>\n",
       "      <td>0</td>\n",
       "      <td>0</td>\n",
       "      <td>0</td>\n",
       "      <td>0</td>\n",
       "      <td>0</td>\n",
       "      <td>0</td>\n",
       "    </tr>\n",
       "    <tr>\n",
       "      <th>50%</th>\n",
       "      <td>1</td>\n",
       "      <td>0</td>\n",
       "      <td>3</td>\n",
       "      <td>0</td>\n",
       "      <td>2</td>\n",
       "      <td>0</td>\n",
       "      <td>9</td>\n",
       "      <td>0</td>\n",
       "    </tr>\n",
       "    <tr>\n",
       "      <th>75%</th>\n",
       "      <td>62</td>\n",
       "      <td>2</td>\n",
       "      <td>320</td>\n",
       "      <td>6</td>\n",
       "      <td>93</td>\n",
       "      <td>4</td>\n",
       "      <td>426</td>\n",
       "      <td>12</td>\n",
       "    </tr>\n",
       "    <tr>\n",
       "      <th>max</th>\n",
       "      <td>109019</td>\n",
       "      <td>5087</td>\n",
       "      <td>724376</td>\n",
       "      <td>53375</td>\n",
       "      <td>168341</td>\n",
       "      <td>7648</td>\n",
       "      <td>1214348</td>\n",
       "      <td>64567</td>\n",
       "    </tr>\n",
       "  </tbody>\n",
       "</table>\n",
       "</div>"
      ],
      "text/plain": [
       "       当期出口金额（万美元）  当期进口金额（万美元）  当期出口数量（吨）  当期进口数量（吨）  一至当月出口金额（万美元）  \\\n",
       "count          663          663        663        663            663   \n",
       "mean           840           46       6133        374           1382   \n",
       "std           5721          282      42238       2629           9202   \n",
       "min              0            0          0          0              0   \n",
       "25%              0            0          0          0              0   \n",
       "50%              1            0          3          0              2   \n",
       "75%             62            2        320          6             93   \n",
       "max         109019         5087     724376      53375         168341   \n",
       "\n",
       "       一至当月进口金额（万美元）  一至当月出口数量（吨）  一至当月进口数量（吨）  \n",
       "count            663          663          663  \n",
       "mean              65         9761          577  \n",
       "std              394        68096         3996  \n",
       "min                0            0            0  \n",
       "25%                0            0            0  \n",
       "50%                0            9            0  \n",
       "75%                4          426           12  \n",
       "max             7648      1214348        64567  "
      ]
     },
     "execution_count": 11,
     "metadata": {},
     "output_type": "execute_result"
    }
   ],
   "source": [
    "pd.set_option('float_format', lambda x: '%.0f' % x)\n",
    "data.describe()\n"
   ]
  },
  {
   "cell_type": "code",
   "execution_count": 20,
   "metadata": {},
   "outputs": [],
   "source": [
    "list1=data['产品']"
   ]
  },
  {
   "cell_type": "code",
   "execution_count": 21,
   "metadata": {},
   "outputs": [
    {
     "name": "stdout",
     "output_type": "stream",
     "text": [
      "0             蔬菜\n",
      "1             蔬菜\n",
      "2             蔬菜\n",
      "3             蔬菜\n",
      "4             蔬菜\n",
      "5             蔬菜\n",
      "6             蔬菜\n",
      "7             蔬菜\n",
      "8             蔬菜\n",
      "9             蔬菜\n",
      "10            蔬菜\n",
      "11            蔬菜\n",
      "12            蔬菜\n",
      "13            蔬菜\n",
      "14            蔬菜\n",
      "15            蔬菜\n",
      "16            蔬菜\n",
      "17            蔬菜\n",
      "18            蔬菜\n",
      "19            蔬菜\n",
      "20           干蔬菜\n",
      "21           干蔬菜\n",
      "22           干蔬菜\n",
      "23           干蔬菜\n",
      "24           干蔬菜\n",
      "25           干蔬菜\n",
      "26           干蔬菜\n",
      "27           干蔬菜\n",
      "28           干蔬菜\n",
      "29           干蔬菜\n",
      "         ...    \n",
      "633    豇豆及菜豆（加工）\n",
      "634    豇豆及菜豆（加工）\n",
      "635    豇豆及菜豆（加工）\n",
      "636    豇豆及菜豆（加工）\n",
      "637    豇豆及菜豆（加工）\n",
      "638    豇豆及菜豆（加工）\n",
      "639           甜瓜\n",
      "640           甜瓜\n",
      "641           西瓜\n",
      "642           西瓜\n",
      "643           山药\n",
      "644           山药\n",
      "645           山药\n",
      "646          甜玉米\n",
      "647          甜玉米\n",
      "648          甜玉米\n",
      "649          甜玉米\n",
      "650           荸荠\n",
      "651           荸荠\n",
      "652           榨菜\n",
      "653           榨菜\n",
      "654           榨菜\n",
      "655           榨菜\n",
      "656           榨菜\n",
      "657           榨菜\n",
      "658           榨菜\n",
      "659         蔬菜种子\n",
      "660         蔬菜种子\n",
      "661         蔬菜种子\n",
      "662         蔬菜种子\n",
      "Name: 产品, Length: 663, dtype: object\n"
     ]
    }
   ],
   "source": [
    "print(list1)"
   ]
  },
  {
   "cell_type": "code",
   "execution_count": 22,
   "metadata": {},
   "outputs": [],
   "source": [
    "list1 = list1.tolist()"
   ]
  },
  {
   "cell_type": "code",
   "execution_count": 24,
   "metadata": {},
   "outputs": [],
   "source": [
    "del(list1)"
   ]
  },
  {
   "cell_type": "code",
   "execution_count": 25,
   "metadata": {},
   "outputs": [
    {
     "ename": "NameError",
     "evalue": "name 'list1' is not defined",
     "output_type": "error",
     "traceback": [
      "\u001b[1;31m---------------------------------------------------------------------------\u001b[0m",
      "\u001b[1;31mNameError\u001b[0m                                 Traceback (most recent call last)",
      "\u001b[1;32m<ipython-input-25-32e3a55f6bef>\u001b[0m in \u001b[0;36m<module>\u001b[1;34m()\u001b[0m\n\u001b[1;32m----> 1\u001b[1;33m \u001b[0mlist1\u001b[0m\u001b[1;33m\u001b[0m\u001b[0m\n\u001b[0m",
      "\u001b[1;31mNameError\u001b[0m: name 'list1' is not defined"
     ]
    }
   ],
   "source": [
    "list1"
   ]
  },
  {
   "cell_type": "code",
   "execution_count": null,
   "metadata": {},
   "outputs": [],
   "source": []
  }
 ],
 "metadata": {
  "kernelspec": {
   "display_name": "Python 3",
   "language": "python",
   "name": "python3"
  },
  "language_info": {
   "codemirror_mode": {
    "name": "ipython",
    "version": 3
   },
   "file_extension": ".py",
   "mimetype": "text/x-python",
   "name": "python",
   "nbconvert_exporter": "python",
   "pygments_lexer": "ipython3",
   "version": "3.6.6"
  },
  "toc": {
   "base_numbering": 1,
   "nav_menu": {},
   "number_sections": true,
   "sideBar": true,
   "skip_h1_title": false,
   "title_cell": "Table of Contents",
   "title_sidebar": "Contents",
   "toc_cell": false,
   "toc_position": {},
   "toc_section_display": true,
   "toc_window_display": false
  }
 },
 "nbformat": 4,
 "nbformat_minor": 2
}
