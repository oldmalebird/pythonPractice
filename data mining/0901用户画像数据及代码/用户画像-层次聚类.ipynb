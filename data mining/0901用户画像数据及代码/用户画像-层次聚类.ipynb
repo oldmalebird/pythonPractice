{
 "cells": [
  {
   "cell_type": "code",
   "execution_count": 1,
   "metadata": {},
   "outputs": [
    {
     "data": {
      "text/html": [
       "<div>\n",
       "<style scoped>\n",
       "    .dataframe tbody tr th:only-of-type {\n",
       "        vertical-align: middle;\n",
       "    }\n",
       "\n",
       "    .dataframe tbody tr th {\n",
       "        vertical-align: top;\n",
       "    }\n",
       "\n",
       "    .dataframe thead th {\n",
       "        text-align: right;\n",
       "    }\n",
       "</style>\n",
       "<table border=\"1\" class=\"dataframe\">\n",
       "  <thead>\n",
       "    <tr style=\"text-align: right;\">\n",
       "      <th></th>\n",
       "      <th>购物距离注册时长</th>\n",
       "      <th>购物时是否咨询客服</th>\n",
       "      <th>是否团购</th>\n",
       "      <th>是否是新用户</th>\n",
       "      <th>是否直降</th>\n",
       "      <th>是否换购</th>\n",
       "      <th>是够满减</th>\n",
       "      <th>是否买赠</th>\n",
       "      <th>是够加价购</th>\n",
       "      <th>留存标签</th>\n",
       "      <th>咨询数量</th>\n",
       "      <th>同时购买同样物品数量</th>\n",
       "    </tr>\n",
       "  </thead>\n",
       "  <tbody>\n",
       "    <tr>\n",
       "      <td>0</td>\n",
       "      <td>102</td>\n",
       "      <td>0</td>\n",
       "      <td>1</td>\n",
       "      <td>0</td>\n",
       "      <td>0</td>\n",
       "      <td>0</td>\n",
       "      <td>0</td>\n",
       "      <td>0</td>\n",
       "      <td>0</td>\n",
       "      <td>1</td>\n",
       "      <td>0</td>\n",
       "      <td>0</td>\n",
       "    </tr>\n",
       "    <tr>\n",
       "      <td>1</td>\n",
       "      <td>102</td>\n",
       "      <td>0</td>\n",
       "      <td>0</td>\n",
       "      <td>0</td>\n",
       "      <td>0</td>\n",
       "      <td>0</td>\n",
       "      <td>0</td>\n",
       "      <td>0</td>\n",
       "      <td>0</td>\n",
       "      <td>1</td>\n",
       "      <td>0</td>\n",
       "      <td>0</td>\n",
       "    </tr>\n",
       "    <tr>\n",
       "      <td>2</td>\n",
       "      <td>37</td>\n",
       "      <td>1</td>\n",
       "      <td>0</td>\n",
       "      <td>0</td>\n",
       "      <td>0</td>\n",
       "      <td>0</td>\n",
       "      <td>0</td>\n",
       "      <td>0</td>\n",
       "      <td>1</td>\n",
       "      <td>1</td>\n",
       "      <td>0</td>\n",
       "      <td>2</td>\n",
       "    </tr>\n",
       "    <tr>\n",
       "      <td>3</td>\n",
       "      <td>12</td>\n",
       "      <td>0</td>\n",
       "      <td>0</td>\n",
       "      <td>0</td>\n",
       "      <td>0</td>\n",
       "      <td>0</td>\n",
       "      <td>0</td>\n",
       "      <td>0</td>\n",
       "      <td>0</td>\n",
       "      <td>1</td>\n",
       "      <td>0</td>\n",
       "      <td>2</td>\n",
       "    </tr>\n",
       "    <tr>\n",
       "      <td>4</td>\n",
       "      <td>29</td>\n",
       "      <td>0</td>\n",
       "      <td>0</td>\n",
       "      <td>1</td>\n",
       "      <td>0</td>\n",
       "      <td>0</td>\n",
       "      <td>0</td>\n",
       "      <td>0</td>\n",
       "      <td>0</td>\n",
       "      <td>1</td>\n",
       "      <td>0</td>\n",
       "      <td>2</td>\n",
       "    </tr>\n",
       "  </tbody>\n",
       "</table>\n",
       "</div>"
      ],
      "text/plain": [
       "   购物距离注册时长  购物时是否咨询客服  是否团购  是否是新用户  是否直降  是否换购  是够满减  是否买赠  是够加价购  留存标签  \\\n",
       "0       102          0     1       0     0     0     0     0      0     1   \n",
       "1       102          0     0       0     0     0     0     0      0     1   \n",
       "2        37          1     0       0     0     0     0     0      1     1   \n",
       "3        12          0     0       0     0     0     0     0      0     1   \n",
       "4        29          0     0       1     0     0     0     0      0     1   \n",
       "\n",
       "   咨询数量  同时购买同样物品数量  \n",
       "0     0           0  \n",
       "1     0           0  \n",
       "2     0           2  \n",
       "3     0           2  \n",
       "4     0           2  "
      ]
     },
     "execution_count": 1,
     "metadata": {},
     "output_type": "execute_result"
    }
   ],
   "source": [
    "## 获取数据\n",
    "from sklearn.tree import DecisionTreeClassifier\n",
    "import numpy as np \n",
    "import pandas as pd \n",
    "import matplotlib.pyplot as plt\n",
    "data =  pd.read_table('gouwu.txt',sep='\\t',engine=\"python\",encoding = 'utf-8')\n",
    "data.columns.values\n",
    "data.head()"
   ]
  },
  {
   "cell_type": "code",
   "execution_count": 2,
   "metadata": {},
   "outputs": [
    {
     "data": {
      "text/plain": [
       "(5951, 12)"
      ]
     },
     "execution_count": 2,
     "metadata": {},
     "output_type": "execute_result"
    }
   ],
   "source": [
    "data.shape"
   ]
  },
  {
   "cell_type": "code",
   "execution_count": 3,
   "metadata": {},
   "outputs": [],
   "source": [
    "data = data.drop(['留存标签'],axis=1)"
   ]
  },
  {
   "cell_type": "code",
   "execution_count": 4,
   "metadata": {},
   "outputs": [
    {
     "data": {
      "text/html": [
       "<div>\n",
       "<style scoped>\n",
       "    .dataframe tbody tr th:only-of-type {\n",
       "        vertical-align: middle;\n",
       "    }\n",
       "\n",
       "    .dataframe tbody tr th {\n",
       "        vertical-align: top;\n",
       "    }\n",
       "\n",
       "    .dataframe thead th {\n",
       "        text-align: right;\n",
       "    }\n",
       "</style>\n",
       "<table border=\"1\" class=\"dataframe\">\n",
       "  <thead>\n",
       "    <tr style=\"text-align: right;\">\n",
       "      <th></th>\n",
       "      <th>0</th>\n",
       "      <th>1</th>\n",
       "      <th>2</th>\n",
       "      <th>3</th>\n",
       "      <th>4</th>\n",
       "      <th>5</th>\n",
       "      <th>6</th>\n",
       "      <th>7</th>\n",
       "      <th>8</th>\n",
       "      <th>9</th>\n",
       "      <th>10</th>\n",
       "    </tr>\n",
       "  </thead>\n",
       "  <tbody>\n",
       "    <tr>\n",
       "      <td>0</td>\n",
       "      <td>1.629213</td>\n",
       "      <td>-1.188378</td>\n",
       "      <td>2.198707</td>\n",
       "      <td>-0.811247</td>\n",
       "      <td>-0.15859</td>\n",
       "      <td>0.0</td>\n",
       "      <td>-0.502572</td>\n",
       "      <td>0.0</td>\n",
       "      <td>-0.257481</td>\n",
       "      <td>-0.269779</td>\n",
       "      <td>-0.901794</td>\n",
       "    </tr>\n",
       "    <tr>\n",
       "      <td>1</td>\n",
       "      <td>1.629213</td>\n",
       "      <td>-1.188378</td>\n",
       "      <td>-0.454813</td>\n",
       "      <td>-0.811247</td>\n",
       "      <td>-0.15859</td>\n",
       "      <td>0.0</td>\n",
       "      <td>-0.502572</td>\n",
       "      <td>0.0</td>\n",
       "      <td>-0.257481</td>\n",
       "      <td>-0.269779</td>\n",
       "      <td>-0.901794</td>\n",
       "    </tr>\n",
       "    <tr>\n",
       "      <td>2</td>\n",
       "      <td>-0.429625</td>\n",
       "      <td>0.841483</td>\n",
       "      <td>-0.454813</td>\n",
       "      <td>-0.811247</td>\n",
       "      <td>-0.15859</td>\n",
       "      <td>0.0</td>\n",
       "      <td>-0.502572</td>\n",
       "      <td>0.0</td>\n",
       "      <td>3.883785</td>\n",
       "      <td>-0.269779</td>\n",
       "      <td>0.736105</td>\n",
       "    </tr>\n",
       "    <tr>\n",
       "      <td>3</td>\n",
       "      <td>-1.221485</td>\n",
       "      <td>-1.188378</td>\n",
       "      <td>-0.454813</td>\n",
       "      <td>-0.811247</td>\n",
       "      <td>-0.15859</td>\n",
       "      <td>0.0</td>\n",
       "      <td>-0.502572</td>\n",
       "      <td>0.0</td>\n",
       "      <td>-0.257481</td>\n",
       "      <td>-0.269779</td>\n",
       "      <td>0.736105</td>\n",
       "    </tr>\n",
       "    <tr>\n",
       "      <td>4</td>\n",
       "      <td>-0.683020</td>\n",
       "      <td>-1.188378</td>\n",
       "      <td>-0.454813</td>\n",
       "      <td>1.232670</td>\n",
       "      <td>-0.15859</td>\n",
       "      <td>0.0</td>\n",
       "      <td>-0.502572</td>\n",
       "      <td>0.0</td>\n",
       "      <td>-0.257481</td>\n",
       "      <td>-0.269779</td>\n",
       "      <td>0.736105</td>\n",
       "    </tr>\n",
       "  </tbody>\n",
       "</table>\n",
       "</div>"
      ],
      "text/plain": [
       "          0         1         2         3        4    5         6    7  \\\n",
       "0  1.629213 -1.188378  2.198707 -0.811247 -0.15859  0.0 -0.502572  0.0   \n",
       "1  1.629213 -1.188378 -0.454813 -0.811247 -0.15859  0.0 -0.502572  0.0   \n",
       "2 -0.429625  0.841483 -0.454813 -0.811247 -0.15859  0.0 -0.502572  0.0   \n",
       "3 -1.221485 -1.188378 -0.454813 -0.811247 -0.15859  0.0 -0.502572  0.0   \n",
       "4 -0.683020 -1.188378 -0.454813  1.232670 -0.15859  0.0 -0.502572  0.0   \n",
       "\n",
       "          8         9        10  \n",
       "0 -0.257481 -0.269779 -0.901794  \n",
       "1 -0.257481 -0.269779 -0.901794  \n",
       "2  3.883785 -0.269779  0.736105  \n",
       "3 -0.257481 -0.269779  0.736105  \n",
       "4 -0.257481 -0.269779  0.736105  "
      ]
     },
     "execution_count": 4,
     "metadata": {},
     "output_type": "execute_result"
    }
   ],
   "source": [
    "from sklearn import preprocessing\n",
    "scaler = preprocessing.StandardScaler().fit(data)\n",
    "data_s = pd.DataFrame(scaler.fit_transform(data,y=data.columns)) \n",
    "data_s.head()"
   ]
  },
  {
   "cell_type": "code",
   "execution_count": 5,
   "metadata": {},
   "outputs": [
    {
     "data": {
      "text/html": [
       "<div>\n",
       "<style scoped>\n",
       "    .dataframe tbody tr th:only-of-type {\n",
       "        vertical-align: middle;\n",
       "    }\n",
       "\n",
       "    .dataframe tbody tr th {\n",
       "        vertical-align: top;\n",
       "    }\n",
       "\n",
       "    .dataframe thead th {\n",
       "        text-align: right;\n",
       "    }\n",
       "</style>\n",
       "<table border=\"1\" class=\"dataframe\">\n",
       "  <thead>\n",
       "    <tr style=\"text-align: right;\">\n",
       "      <th></th>\n",
       "      <th>购物距离注册时长</th>\n",
       "      <th>购物时是否咨询客服</th>\n",
       "      <th>是否团购</th>\n",
       "      <th>是否是新用户</th>\n",
       "      <th>是否直降</th>\n",
       "      <th>是否换购</th>\n",
       "      <th>是够满减</th>\n",
       "      <th>是否买赠</th>\n",
       "      <th>是够加价购</th>\n",
       "      <th>咨询数量</th>\n",
       "      <th>同时购买同样物品数量</th>\n",
       "    </tr>\n",
       "  </thead>\n",
       "  <tbody>\n",
       "    <tr>\n",
       "      <td>0</td>\n",
       "      <td>1.629213</td>\n",
       "      <td>-1.188378</td>\n",
       "      <td>2.198707</td>\n",
       "      <td>-0.811247</td>\n",
       "      <td>-0.15859</td>\n",
       "      <td>0.0</td>\n",
       "      <td>-0.502572</td>\n",
       "      <td>0.0</td>\n",
       "      <td>-0.257481</td>\n",
       "      <td>-0.269779</td>\n",
       "      <td>-0.901794</td>\n",
       "    </tr>\n",
       "    <tr>\n",
       "      <td>1</td>\n",
       "      <td>1.629213</td>\n",
       "      <td>-1.188378</td>\n",
       "      <td>-0.454813</td>\n",
       "      <td>-0.811247</td>\n",
       "      <td>-0.15859</td>\n",
       "      <td>0.0</td>\n",
       "      <td>-0.502572</td>\n",
       "      <td>0.0</td>\n",
       "      <td>-0.257481</td>\n",
       "      <td>-0.269779</td>\n",
       "      <td>-0.901794</td>\n",
       "    </tr>\n",
       "    <tr>\n",
       "      <td>2</td>\n",
       "      <td>-0.429625</td>\n",
       "      <td>0.841483</td>\n",
       "      <td>-0.454813</td>\n",
       "      <td>-0.811247</td>\n",
       "      <td>-0.15859</td>\n",
       "      <td>0.0</td>\n",
       "      <td>-0.502572</td>\n",
       "      <td>0.0</td>\n",
       "      <td>3.883785</td>\n",
       "      <td>-0.269779</td>\n",
       "      <td>0.736105</td>\n",
       "    </tr>\n",
       "    <tr>\n",
       "      <td>3</td>\n",
       "      <td>-1.221485</td>\n",
       "      <td>-1.188378</td>\n",
       "      <td>-0.454813</td>\n",
       "      <td>-0.811247</td>\n",
       "      <td>-0.15859</td>\n",
       "      <td>0.0</td>\n",
       "      <td>-0.502572</td>\n",
       "      <td>0.0</td>\n",
       "      <td>-0.257481</td>\n",
       "      <td>-0.269779</td>\n",
       "      <td>0.736105</td>\n",
       "    </tr>\n",
       "    <tr>\n",
       "      <td>4</td>\n",
       "      <td>-0.683020</td>\n",
       "      <td>-1.188378</td>\n",
       "      <td>-0.454813</td>\n",
       "      <td>1.232670</td>\n",
       "      <td>-0.15859</td>\n",
       "      <td>0.0</td>\n",
       "      <td>-0.502572</td>\n",
       "      <td>0.0</td>\n",
       "      <td>-0.257481</td>\n",
       "      <td>-0.269779</td>\n",
       "      <td>0.736105</td>\n",
       "    </tr>\n",
       "  </tbody>\n",
       "</table>\n",
       "</div>"
      ],
      "text/plain": [
       "   购物距离注册时长  购物时是否咨询客服      是否团购    是否是新用户     是否直降  是否换购      是够满减  是否买赠  \\\n",
       "0  1.629213  -1.188378  2.198707 -0.811247 -0.15859   0.0 -0.502572   0.0   \n",
       "1  1.629213  -1.188378 -0.454813 -0.811247 -0.15859   0.0 -0.502572   0.0   \n",
       "2 -0.429625   0.841483 -0.454813 -0.811247 -0.15859   0.0 -0.502572   0.0   \n",
       "3 -1.221485  -1.188378 -0.454813 -0.811247 -0.15859   0.0 -0.502572   0.0   \n",
       "4 -0.683020  -1.188378 -0.454813  1.232670 -0.15859   0.0 -0.502572   0.0   \n",
       "\n",
       "      是够加价购      咨询数量  同时购买同样物品数量  \n",
       "0 -0.257481 -0.269779   -0.901794  \n",
       "1 -0.257481 -0.269779   -0.901794  \n",
       "2  3.883785 -0.269779    0.736105  \n",
       "3 -0.257481 -0.269779    0.736105  \n",
       "4 -0.257481 -0.269779    0.736105  "
      ]
     },
     "execution_count": 5,
     "metadata": {},
     "output_type": "execute_result"
    }
   ],
   "source": [
    "new_col = ['购物距离注册时长', '购物时是否咨询客服', '是否团购',\n",
    "           '是否是新用户','是否直降','是否换购','是够满减','是否买赠',\n",
    "          '是够加价购','咨询数量','同时购买同样物品数量']\n",
    "data_s.columns = new_col\n",
    "data_s.head()"
   ]
  },
  {
   "cell_type": "code",
   "execution_count": 6,
   "metadata": {},
   "outputs": [
    {
     "data": {
      "image/png": "[encoded data removed]",
      "text/plain": [
       "<Figure size 432x288 with 1 Axes>"
      ]
     },
     "metadata": {
      "needs_background": "light"
     },
     "output_type": "display_data"
    }
   ],
   "source": [
    "# 查看元数据散点图\n",
    "import numpy as np\n",
    "import matplotlib.pyplot as plt\n",
    "plt.rcParams['font.sans-serif'] = ['SimHei']     # win\n",
    "plt.rcParams[\"font.family\"] = 'Arial Unicode MS' # mac\n",
    "plt.rcParams['axes.unicode_minus'] = False\n",
    "plt.scatter(data_s['购物距离注册时长'],data_s['购物时是否咨询客服'], s=6, c='r', \n",
    "            alpha=0.4, label='散点1')\n",
    "plt.show()"
   ]
  },
  {
   "cell_type": "code",
   "execution_count": 7,
   "metadata": {},
   "outputs": [
    {
     "data": {
      "image/png": "[encoded data removed]",
      "text/plain": [
       "<Figure size 432x288 with 1 Axes>"
      ]
     },
     "metadata": {
      "needs_background": "light"
     },
     "output_type": "display_data"
    }
   ],
   "source": [
    "# 轮廓系数\n",
    "from sklearn import metrics\n",
    "from sklearn.cluster import AgglomerativeClustering  #  层次聚类\n",
    "rand = []  \n",
    "plt.rcParams['font.sans-serif'] = ['SimHei']     # win\n",
    "plt.rcParams[\"font.family\"] = 'Arial Unicode MS' # mac\n",
    "plt.rcParams['axes.unicode_minus']=False #用来正常显示负号\n",
    "for k in range(2, 9):\n",
    "    estimator = AgglomerativeClustering(n_clusters=k)  # 构造聚类器\n",
    "    estimator.fit(data_s)\n",
    "    rand.append(metrics.silhouette_score(data_s,estimator.labels_, metric='euclidean'))\n",
    "X = range(2, 9)\n",
    "plt.xlabel('k')\n",
    "plt.ylabel('轮廓系数')\n",
    "plt.plot(X, rand, 'o-')\n",
    "plt.show()"
   ]
  },
  {
   "cell_type": "code",
   "execution_count": 8,
   "metadata": {},
   "outputs": [
    {
     "data": {
      "text/plain": [
       "0.3132080711494989"
      ]
     },
     "execution_count": 8,
     "metadata": {},
     "output_type": "execute_result"
    }
   ],
   "source": [
    "from sklearn import metrics\n",
    "metrics.silhouette_score(data_s,estimator.labels_, metric='euclidean')"
   ]
  },
  {
   "cell_type": "code",
   "execution_count": 9,
   "metadata": {},
   "outputs": [],
   "source": [
    "# 层次聚类\n",
    "from sklearn.cluster import AgglomerativeClustering\n",
    "from sklearn.metrics import confusion_matrix\n",
    "clustering = AgglomerativeClustering(linkage='ward', n_clusters=3)\n",
    "res = clustering.fit(data_s)"
   ]
  },
  {
   "cell_type": "code",
   "execution_count": 10,
   "metadata": {},
   "outputs": [
    {
     "data": {
      "text/plain": [
       "array([0, 1, 2, ..., 1, 1, 1])"
      ]
     },
     "execution_count": 10,
     "metadata": {},
     "output_type": "execute_result"
    }
   ],
   "source": [
    "res.labels_    #  X对应index列表"
   ]
  },
  {
   "cell_type": "code",
   "execution_count": 11,
   "metadata": {},
   "outputs": [
    {
     "data": {
      "image/png": "[encoded data removed]",
      "text/plain": [
       "<Figure size 432x288 with 1 Axes>"
      ]
     },
     "metadata": {
      "needs_background": "light"
     },
     "output_type": "display_data"
    }
   ],
   "source": [
    "#画图\n",
    "markers = ['^', 'x', 'o', '*']\n",
    "for i in range(4):\n",
    "    members = res.labels_ == i\n",
    "    plt.scatter(data_s.values[members,0], data_s.values[members,1], s=60, \n",
    "                marker=markers[i], c='b', alpha=0.5)\n",
    "plt.title('')\n",
    "plt.show()"
   ]
  },
  {
   "cell_type": "code",
   "execution_count": 12,
   "metadata": {},
   "outputs": [
    {
     "data": {
      "text/html": [
       "<div>\n",
       "<style scoped>\n",
       "    .dataframe tbody tr th:only-of-type {\n",
       "        vertical-align: middle;\n",
       "    }\n",
       "\n",
       "    .dataframe tbody tr th {\n",
       "        vertical-align: top;\n",
       "    }\n",
       "\n",
       "    .dataframe thead th {\n",
       "        text-align: right;\n",
       "    }\n",
       "</style>\n",
       "<table border=\"1\" class=\"dataframe\">\n",
       "  <thead>\n",
       "    <tr style=\"text-align: right;\">\n",
       "      <th></th>\n",
       "      <th>标签</th>\n",
       "    </tr>\n",
       "  </thead>\n",
       "  <tbody>\n",
       "    <tr>\n",
       "      <td>0</td>\n",
       "      <td>0</td>\n",
       "    </tr>\n",
       "    <tr>\n",
       "      <td>1</td>\n",
       "      <td>1</td>\n",
       "    </tr>\n",
       "    <tr>\n",
       "      <td>2</td>\n",
       "      <td>2</td>\n",
       "    </tr>\n",
       "    <tr>\n",
       "      <td>3</td>\n",
       "      <td>1</td>\n",
       "    </tr>\n",
       "    <tr>\n",
       "      <td>4</td>\n",
       "      <td>1</td>\n",
       "    </tr>\n",
       "    <tr>\n",
       "      <td>...</td>\n",
       "      <td>...</td>\n",
       "    </tr>\n",
       "    <tr>\n",
       "      <td>5946</td>\n",
       "      <td>1</td>\n",
       "    </tr>\n",
       "    <tr>\n",
       "      <td>5947</td>\n",
       "      <td>2</td>\n",
       "    </tr>\n",
       "    <tr>\n",
       "      <td>5948</td>\n",
       "      <td>1</td>\n",
       "    </tr>\n",
       "    <tr>\n",
       "      <td>5949</td>\n",
       "      <td>1</td>\n",
       "    </tr>\n",
       "    <tr>\n",
       "      <td>5950</td>\n",
       "      <td>1</td>\n",
       "    </tr>\n",
       "  </tbody>\n",
       "</table>\n",
       "<p>5951 rows × 1 columns</p>\n",
       "</div>"
      ],
      "text/plain": [
       "      标签\n",
       "0      0\n",
       "1      1\n",
       "2      2\n",
       "3      1\n",
       "4      1\n",
       "...   ..\n",
       "5946   1\n",
       "5947   2\n",
       "5948   1\n",
       "5949   1\n",
       "5950   1\n",
       "\n",
       "[5951 rows x 1 columns]"
      ]
     },
     "execution_count": 12,
     "metadata": {},
     "output_type": "execute_result"
    }
   ],
   "source": [
    "from pandas.core.frame import DataFrame\n",
    "c_preds = DataFrame(res.labels_ )\n",
    "c_preds.rename(columns={0:'标签'},inplace=True)\n",
    "c_preds"
   ]
  },
  {
   "cell_type": "code",
   "execution_count": 13,
   "metadata": {},
   "outputs": [
    {
     "data": {
      "text/html": [
       "<div>\n",
       "<style scoped>\n",
       "    .dataframe tbody tr th:only-of-type {\n",
       "        vertical-align: middle;\n",
       "    }\n",
       "\n",
       "    .dataframe tbody tr th {\n",
       "        vertical-align: top;\n",
       "    }\n",
       "\n",
       "    .dataframe thead th {\n",
       "        text-align: right;\n",
       "    }\n",
       "</style>\n",
       "<table border=\"1\" class=\"dataframe\">\n",
       "  <thead>\n",
       "    <tr style=\"text-align: right;\">\n",
       "      <th></th>\n",
       "      <th>购物距离注册时长</th>\n",
       "      <th>购物时是否咨询客服</th>\n",
       "      <th>是否团购</th>\n",
       "      <th>是否是新用户</th>\n",
       "      <th>是否直降</th>\n",
       "      <th>是否换购</th>\n",
       "      <th>是够满减</th>\n",
       "      <th>是否买赠</th>\n",
       "      <th>是够加价购</th>\n",
       "      <th>咨询数量</th>\n",
       "      <th>同时购买同样物品数量</th>\n",
       "      <th>标签</th>\n",
       "    </tr>\n",
       "  </thead>\n",
       "  <tbody>\n",
       "    <tr>\n",
       "      <td>0</td>\n",
       "      <td>102</td>\n",
       "      <td>0</td>\n",
       "      <td>1</td>\n",
       "      <td>0</td>\n",
       "      <td>0</td>\n",
       "      <td>0</td>\n",
       "      <td>0</td>\n",
       "      <td>0</td>\n",
       "      <td>0</td>\n",
       "      <td>0</td>\n",
       "      <td>0</td>\n",
       "      <td>0</td>\n",
       "    </tr>\n",
       "    <tr>\n",
       "      <td>1</td>\n",
       "      <td>102</td>\n",
       "      <td>0</td>\n",
       "      <td>0</td>\n",
       "      <td>0</td>\n",
       "      <td>0</td>\n",
       "      <td>0</td>\n",
       "      <td>0</td>\n",
       "      <td>0</td>\n",
       "      <td>0</td>\n",
       "      <td>0</td>\n",
       "      <td>0</td>\n",
       "      <td>1</td>\n",
       "    </tr>\n",
       "    <tr>\n",
       "      <td>2</td>\n",
       "      <td>37</td>\n",
       "      <td>1</td>\n",
       "      <td>0</td>\n",
       "      <td>0</td>\n",
       "      <td>0</td>\n",
       "      <td>0</td>\n",
       "      <td>0</td>\n",
       "      <td>0</td>\n",
       "      <td>1</td>\n",
       "      <td>0</td>\n",
       "      <td>2</td>\n",
       "      <td>2</td>\n",
       "    </tr>\n",
       "    <tr>\n",
       "      <td>3</td>\n",
       "      <td>12</td>\n",
       "      <td>0</td>\n",
       "      <td>0</td>\n",
       "      <td>0</td>\n",
       "      <td>0</td>\n",
       "      <td>0</td>\n",
       "      <td>0</td>\n",
       "      <td>0</td>\n",
       "      <td>0</td>\n",
       "      <td>0</td>\n",
       "      <td>2</td>\n",
       "      <td>1</td>\n",
       "    </tr>\n",
       "    <tr>\n",
       "      <td>4</td>\n",
       "      <td>29</td>\n",
       "      <td>0</td>\n",
       "      <td>0</td>\n",
       "      <td>1</td>\n",
       "      <td>0</td>\n",
       "      <td>0</td>\n",
       "      <td>0</td>\n",
       "      <td>0</td>\n",
       "      <td>0</td>\n",
       "      <td>0</td>\n",
       "      <td>2</td>\n",
       "      <td>1</td>\n",
       "    </tr>\n",
       "  </tbody>\n",
       "</table>\n",
       "</div>"
      ],
      "text/plain": [
       "   购物距离注册时长  购物时是否咨询客服  是否团购  是否是新用户  是否直降  是否换购  是够满减  是否买赠  是够加价购  咨询数量  \\\n",
       "0       102          0     1       0     0     0     0     0      0     0   \n",
       "1       102          0     0       0     0     0     0     0      0     0   \n",
       "2        37          1     0       0     0     0     0     0      1     0   \n",
       "3        12          0     0       0     0     0     0     0      0     0   \n",
       "4        29          0     0       1     0     0     0     0      0     0   \n",
       "\n",
       "   同时购买同样物品数量  标签  \n",
       "0           0   0  \n",
       "1           0   1  \n",
       "2           2   2  \n",
       "3           2   1  \n",
       "4           2   1  "
      ]
     },
     "execution_count": 13,
     "metadata": {},
     "output_type": "execute_result"
    }
   ],
   "source": [
    "# 数据组合\n",
    "dataju = pd.concat([data,c_preds],axis=1 )\n",
    "dataju.head()"
   ]
  },
  {
   "cell_type": "code",
   "execution_count": 14,
   "metadata": {},
   "outputs": [
    {
     "data": {
      "image/png": "[encoded data removed]",
      "text/plain": [
       "<Figure size 432x288 with 3 Axes>"
      ]
     },
     "metadata": {
      "needs_background": "light"
     },
     "output_type": "display_data"
    }
   ],
   "source": [
    "# 绘制子图\n",
    "import matplotlib.pyplot as plt\n",
    "fig = plt.figure()\n",
    "for i in range(3):\n",
    "    ax = fig.add_subplot(241+i)\n",
    "    plt.hist(x = dataju[dataju.标签==i].购物距离注册时长, # 指定绘图数据\n",
    "             bins = 10, # 指定直方图中条块的个数\n",
    "             color = 'steelblue', # 指定直方图的填充色\n",
    "             edgecolor = 'black' # 指定直方图的边框色\n",
    "            )\n",
    "    ax.set_title('第'+str(i)+'类')\n",
    "plt.show()"
   ]
  },
  {
   "cell_type": "code",
   "execution_count": 15,
   "metadata": {},
   "outputs": [
    {
     "data": {
      "image/png": "[encoded data removed]",
      "text/plain": [
       "<Figure size 432x288 with 3 Axes>"
      ]
     },
     "metadata": {
      "needs_background": "light"
     },
     "output_type": "display_data"
    }
   ],
   "source": [
    "# 绘制子图\n",
    "import matplotlib.pyplot as plt\n",
    "fig = plt.figure()\n",
    "for i in range(3):\n",
    "    ax = fig.add_subplot(241+i)\n",
    "    plt.hist(x = dataju[dataju.标签==i].同时购买同样物品数量, # 指定绘图数据\n",
    "             bins = 5, # 指定直方图中条块的个数\n",
    "             color = 'steelblue', # 指定直方图的填充色\n",
    "             edgecolor = 'black' # 指定直方图的边框色\n",
    "            )\n",
    "    ax.set_title('第'+str(i)+'类')\n",
    "plt.show()"
   ]
  },
  {
   "cell_type": "code",
   "execution_count": 16,
   "metadata": {},
   "outputs": [
    {
     "data": {
      "image/png": "[encoded data removed]",
      "text/plain": [
       "<Figure size 432x288 with 3 Axes>"
      ]
     },
     "metadata": {
      "needs_background": "light"
     },
     "output_type": "display_data"
    }
   ],
   "source": [
    "# 绘制子图\n",
    "import matplotlib.pyplot as plt\n",
    "fig = plt.figure()\n",
    "for i in range(3):\n",
    "    ax = fig.add_subplot(241+i)\n",
    "    plt.hist(x = dataju[dataju.标签==i].咨询数量, # 指定绘图数据\n",
    "             bins = 20, # 指定直方图中条块的个数\n",
    "             color = 'steelblue', # 指定直方图的填充色\n",
    "             edgecolor = 'black' # 指定直方图的边框色\n",
    "            )\n",
    "    ax.set_title('第'+str(i)+'类')\n",
    "plt.show()"
   ]
  },
  {
   "cell_type": "code",
   "execution_count": 17,
   "metadata": {},
   "outputs": [
    {
     "data": {
      "image/png": "[encoded data removed]",
      "text/plain": [
       "<Figure size 432x288 with 3 Axes>"
      ]
     },
     "metadata": {
      "needs_background": "light"
     },
     "output_type": "display_data"
    }
   ],
   "source": [
    "# 绘制子图\n",
    "import matplotlib.pyplot as plt\n",
    "fig = plt.figure()\n",
    "for i in range(3):\n",
    "    ax = fig.add_subplot(241+i)\n",
    "    plt.hist(x = dataju[dataju.标签==i].购物时是否咨询客服, # 指定绘图数据\n",
    "             bins = 5, # 指定直方图中条块的个数\n",
    "             color = 'steelblue', # 指定直方图的填充色\n",
    "             edgecolor = 'black' # 指定直方图的边框色\n",
    "            )\n",
    "    ax.set_title('第'+str(i)+'类')\n",
    "plt.show()"
   ]
  },
  {
   "cell_type": "code",
   "execution_count": null,
   "metadata": {},
   "outputs": [],
   "source": []
  }
 ],
 "metadata": {
  "kernelspec": {
   "display_name": "Python 3",
   "language": "python",
   "name": "python3"
  },
  "language_info": {
   "codemirror_mode": {
    "name": "ipython",
    "version": 3
   },
   "file_extension": ".py",
   "mimetype": "text/x-python",
   "name": "python",
   "nbconvert_exporter": "python",
   "pygments_lexer": "ipython3",
   "version": "3.7.4"
  },
  "latex_envs": {
   "LaTeX_envs_menu_present": true,
   "autoclose": false,
   "autocomplete": true,
   "bibliofile": "biblio.bib",
   "cite_by": "apalike",
   "current_citInitial": 1,
   "eqLabelWithNumbers": true,
   "eqNumInitial": 1,
   "hotkeys": {
    "equation": "Ctrl-E",
    "itemize": "Ctrl-I"
   },
   "labels_anchors": false,
   "latex_user_defs": false,
   "report_style_numbering": false,
   "user_envs_cfg": false
  },
  "toc": {
   "base_numbering": 1,
   "nav_menu": {},
   "number_sections": true,
   "sideBar": true,
   "skip_h1_title": false,
   "title_cell": "Table of Contents",
   "title_sidebar": "Contents",
   "toc_cell": false,
   "toc_position": {},
   "toc_section_display": true,
   "toc_window_display": false
  }
 },
 "nbformat": 4,
 "nbformat_minor": 2
}
