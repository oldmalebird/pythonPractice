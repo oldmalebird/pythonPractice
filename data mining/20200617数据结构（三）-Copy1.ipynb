{
 "cells": [
  {
   "cell_type": "code",
   "execution_count": null,
   "metadata": {},
   "outputs": [],
   "source": [
    "n = 10   # 1\n",
    "s = 0    # 1\n",
    "for i in range(n):   i = 0,1,2,3,4.....n-1      # n\n",
    "    s += 1            # s = 1,2,3,4.....n       # n\n",
    "\n",
    "n+n+1+1 = 2n+2 = n       O(n)"
   ]
  },
  {
   "cell_type": "markdown",
   "metadata": {},
   "source": [
    "- $O(N^2)$"
   ]
  },
  {
   "cell_type": "code",
   "execution_count": null,
   "metadata": {},
   "outputs": [],
   "source": [
    "n = 10   # 1\n",
    "s = 0    # 1\n",
    "for i in range(n):      # n\n",
    "    for j in range(n):  # n\n",
    "        s += 1      \n",
    "        \n",
    "n^2+2 = n^2"
   ]
  },
  {
   "cell_type": "markdown",
   "metadata": {},
   "source": [
    "- $O(\\log N)$"
   ]
  },
  {
   "cell_type": "code",
   "execution_count": null,
   "metadata": {},
   "outputs": [],
   "source": [
    "n = 10   # 1\n",
    "i = 1    # 1\n",
    "while i < n: log(N)N\n",
    "    i = i*3\n",
    "    for i \n",
    "    n = 2*2*2*2* = 3^k\n",
    "    2^k = n\n",
    "    k = log3(N)"
   ]
  },
  {
   "cell_type": "markdown",
   "metadata": {},
   "source": [
    "- $O(N\\log N)$"
   ]
  },
  {
   "cell_type": "code",
   "execution_count": null,
   "metadata": {},
   "outputs": [],
   "source": [
    "n = 10\n",
    "i = 1\n",
    "for j in range(n):   n\n",
    "    while i < n:     log(N)\n",
    "        i = i*2\n",
    "        \n",
    "Nlog(N)"
   ]
  },
  {
   "cell_type": "code",
   "execution_count": null,
   "metadata": {},
   "outputs": [],
   "source": [
    "for i in range(2^N)"
   ]
  },
  {
   "cell_type": "markdown",
   "metadata": {},
   "source": [
    "### 4.1.2 时间复杂度对比"
   ]
  },
  {
   "cell_type": "code",
   "execution_count": null,
   "metadata": {},
   "outputs": [],
   "source": [
    "# 空间复杂度为1\n",
    "str1 = 'Python'\n",
    "num = 1\n",
    "\n",
    "# 空间复杂度为n\n",
    "num = [1, 2, 3, 4, 5,..,n]    # n\n",
    "num2 = [1,2,3,4......n]      # n\n",
    "\n",
    "n+n = 2n\n",
    "\n",
    "# 空间复杂度为n*n\n",
    "num = [[1, 2, 3, 4,..,n], \n",
    "       [1, 2, 3, 4,..,n], \n",
    "       [1, 2, 3, 4,..,n], \n",
    "       [1, 2, 3, 4,..,n],\n",
    "       ......\n",
    "       [1, 2, 3, 4]]\n",
    "n*n \n",
    "\n",
    "num = [1, 2, 3, 4, 5,..,n]    # n\n",
    "\n",
    "主空间n*n + 辅助空间n \n",
    "# 空间复杂度为n*n*n\n",
    "\n",
    "num = [[[1, 2,...,n],..., [1, 2,...,n]], \n",
    "       [[1, 2,...,n],..., [1, 2,...,n]], \n",
    "       ......\n",
    "       [[1, 2,...,n],..., [1, 2,...,n]]]"
   ]
  },
  {
   "cell_type": "code",
   "execution_count": 1,
   "metadata": {},
   "outputs": [
    {
     "data": {
      "text/plain": [
       "False"
      ]
     },
     "execution_count": 1,
     "metadata": {},
     "output_type": "execute_result"
    }
   ],
   "source": [
    "5 in [1,2,3,4,7]"
   ]
  },
  {
   "cell_type": "code",
   "execution_count": 2,
   "metadata": {},
   "outputs": [
    {
     "data": {
      "text/plain": [
       "True"
      ]
     },
     "execution_count": 2,
     "metadata": {},
     "output_type": "execute_result"
    }
   ],
   "source": [
    "5 in [1,2,3,4,5]"
   ]
  },
  {
   "cell_type": "code",
   "execution_count": 3,
   "metadata": {},
   "outputs": [
    {
     "data": {
      "text/plain": [
       "True"
      ]
     },
     "execution_count": 3,
     "metadata": {},
     "output_type": "execute_result"
    }
   ],
   "source": [
    "5 not in [1,2,3,4,7]"
   ]
  },
  {
   "cell_type": "code",
   "execution_count": 5,
   "metadata": {},
   "outputs": [
    {
     "data": {
      "text/plain": [
       "True"
      ]
     },
     "execution_count": 5,
     "metadata": {},
     "output_type": "execute_result"
    }
   ],
   "source": [
    "def seqSearch(alist, item):\n",
    "    pos = 0\n",
    "    found = False\n",
    "    while pos < len(alist) and not found:\n",
    "        if alist[pos] == item:\n",
    "            found = True\n",
    "        else:\n",
    "            pos += 1\n",
    "    # found = false    found = True\n",
    "    return found\n",
    "\n",
    "\n",
    "seqSearch([2, 6, 4, 2, 6, 7], 7)"
   ]
  },
  {
   "cell_type": "code",
   "execution_count": 7,
   "metadata": {},
   "outputs": [
    {
     "data": {
      "text/plain": [
       "True"
      ]
     },
     "execution_count": 7,
     "metadata": {},
     "output_type": "execute_result"
    }
   ],
   "source": [
    "def seqSearch(alist, item):\n",
    "    pos = 0\n",
    "    found = False\n",
    "    # 加入一个停止判断器，当前数字大于item即停止\n",
    "\n",
    "    stop = False\n",
    "    while pos < len(alist) and not found and not stop:\n",
    "        if alist[pos] == item:\n",
    "            found = True\n",
    "        else:\n",
    "            if alist[pos] > item:\n",
    "                stop = True\n",
    "            else:\n",
    "                pos += 1\n",
    "    return found\n",
    "\n",
    "seqSearch([2, 3, 5, 6], 1)"
   ]
  },
  {
   "cell_type": "markdown",
   "metadata": {},
   "source": [
    "### 4.4.3 二分查找的代码实现"
   ]
  },
  {
   "cell_type": "code",
   "execution_count": 8,
   "metadata": {},
   "outputs": [
    {
     "data": {
      "text/plain": [
       "True"
      ]
     },
     "execution_count": 8,
     "metadata": {},
     "output_type": "execute_result"
    }
   ],
   "source": [
    "# 非递归实现\n",
    "def binarySearch(alist, item):\n",
    "    first = 0\n",
    "    last = len(alist) - 1\n",
    "    found = False\n",
    "\n",
    "    while first <= last and not found:\n",
    "        midpoint = (first + last) // 2\n",
    "        if alist[midpoint] == item:\n",
    "            found = True\n",
    "        else:\n",
    "            if item < alist[midpoint]:\n",
    "                last = midpoint - 1\n",
    "            else:\n",
    "                first = midpoint + 1\n",
    "    return found\n",
    "\n",
    "\n",
    "binarySearch([2, 4, 5, 7, 8], 5)"
   ]
  },
  {
   "cell_type": "code",
   "execution_count": null,
   "metadata": {},
   "outputs": [],
   "source": [
    "# 递归实现\n",
    "def binarySearch(alist, item):\n",
    "    if len(alist) == 0:\n",
    "        return False\n",
    "    else:\n",
    "        midpoint = len(alist) // 2\n",
    "        if alist[midpoint] == item:\n",
    "            return True\n",
    "        else:\n",
    "            if item < alist[midpoint]:\n",
    "                return binarySearch(alist[:midpoint], item)\n",
    "            else:\n",
    "                return binarySearch(alist[midpoint + 1:], item)\n",
    "\n",
    "\n",
    "binarySearch([2, 4, 5, 7, 8], 5)"
   ]
  },
  {
   "cell_type": "code",
   "execution_count": null,
   "metadata": {},
   "outputs": [],
   "source": [
    "2*2*2*2  = n = 2^K\n",
    "K = logN"
   ]
  },
  {
   "cell_type": "code",
   "execution_count": 9,
   "metadata": {},
   "outputs": [
    {
     "data": {
      "text/plain": [
       "54"
      ]
     },
     "execution_count": 9,
     "metadata": {},
     "output_type": "execute_result"
    }
   ],
   "source": [
    "# 暗号\n",
    "import random\n",
    "random.randint(1,100)"
   ]
  },
  {
   "cell_type": "markdown",
   "metadata": {},
   "source": [
    "### 4.5.3 冒泡排序的代码实现"
   ]
  },
  {
   "cell_type": "code",
   "execution_count": 10,
   "metadata": {},
   "outputs": [
    {
     "name": "stdout",
     "output_type": "stream",
     "text": [
      "4,1,2,5,7,3\n"
     ]
    },
    {
     "data": {
      "text/plain": [
       "[1, 2, 3, 4, 5, 7]"
      ]
     },
     "execution_count": 10,
     "metadata": {},
     "output_type": "execute_result"
    }
   ],
   "source": [
    "lst = list(map(int, input().split(',')))\n",
    "\n",
    "\n",
    "def Bubble_sort(alist):\n",
    "    n = len(alist)\n",
    "    for i in range(0, n - 1):   # 让每一个数都遍历起来\n",
    "        for j in range(0, n - 1 - i):  # 走一遍遍历，让大数到后面\n",
    "            if alist[j] > alist[j + 1]:\n",
    "                alist[j], alist[j + 1] = alist[j + 1], alist[j]\n",
    "    return alist\n",
    "\n",
    "\n",
    "Bubble_sort(lst)"
   ]
  },
  {
   "cell_type": "code",
   "execution_count": 11,
   "metadata": {
    "scrolled": true
   },
   "outputs": [
    {
     "name": "stdout",
     "output_type": "stream",
     "text": [
      "4,1,2,5,7,3\n"
     ]
    },
    {
     "data": {
      "text/plain": [
       "[1, 2, 3, 4, 5, 7]"
      ]
     },
     "execution_count": 11,
     "metadata": {},
     "output_type": "execute_result"
    }
   ],
   "source": [
    "lst = list(map(int, input().split(',')))\n",
    "\n",
    "\n",
    "def Bubble_sort(alist):\n",
    "    n = len(alist)\n",
    "    for i in range(0, n - 1):\n",
    "        count = False   # 状态控制\n",
    "        for j in range(0, n - 1 - i):\n",
    "            if alist[j] > alist[j + 1]:\n",
    "                alist[j], alist[j + 1] = alist[j + 1], alist[j]\n",
    "                count = True\n",
    "        if count == False:\n",
    "            return alist\n",
    "    return alist\n",
    "\n",
    "\n",
    "Bubble_sort(lst)"
   ]
  },
  {
   "cell_type": "markdown",
   "metadata": {},
   "source": [
    "### 4.6.3 快速排序的代码实现"
   ]
  },
  {
   "cell_type": "code",
   "execution_count": null,
   "metadata": {},
   "outputs": [],
   "source": [
    "# start/end表示起始指针的位置（不是具体的值）\n",
    "lst = list(map(int, input().split(',')))\n",
    "\n",
    "\n",
    "def quick_sort(alist, start, end): # 数组、起点、终点\n",
    "    # 如果前指针的位置大于等于后指针的位置\n",
    "\n",
    "    if start >= end:\n",
    "        return\n",
    "\n",
    "    low = start          # 头开始的指针   S\n",
    "    high = end           # 尾开始的指针   E\n",
    "    middle = alist[low]  # 基准          V\n",
    "# [1,2,3,4,5]\n",
    "#  L   H\n",
    "#  V\n",
    "# [2,1,5,3,4]\n",
    "#    v\n",
    "# [1,] 2 [5,3,4]\n",
    "    while low < high:\n",
    "        while low < high and alist[high] >= middle: # 大于基准，不需要交换\n",
    "            high -= 1\n",
    "        alist[low] = alist[high]\n",
    "        while low < high and alist[low] <= middle: # 小于基准，不需要交换\n",
    "            low += 1\n",
    "        alist[high] = alist[low]\n",
    "    alist[low] = middle\n",
    "\n",
    "    quick_sort(alist, start, low - 1)\n",
    "    quick_sort(alist, low + 1, end)\n",
    "\n",
    "quick_sort(lst, 0, len(lst) - 1)\n",
    "print(lst)"
   ]
  }
 ],
 "metadata": {
  "kernelspec": {
   "display_name": "Python 3",
   "language": "python",
   "name": "python3"
  },
  "language_info": {
   "codemirror_mode": {
    "name": "ipython",
    "version": 3
   },
   "file_extension": ".py",
   "mimetype": "text/x-python",
   "name": "python",
   "nbconvert_exporter": "python",
   "pygments_lexer": "ipython3",
   "version": "3.7.4"
  },
  "latex_envs": {
   "LaTeX_envs_menu_present": true,
   "autoclose": false,
   "autocomplete": true,
   "bibliofile": "biblio.bib",
   "cite_by": "apalike",
   "current_citInitial": 1,
   "eqLabelWithNumbers": true,
   "eqNumInitial": 1,
   "hotkeys": {
    "equation": "Ctrl-E",
    "itemize": "Ctrl-I"
   },
   "labels_anchors": false,
   "latex_user_defs": false,
   "report_style_numbering": false,
   "user_envs_cfg": false
  },
  "toc": {
   "base_numbering": 1,
   "nav_menu": {},
   "number_sections": false,
   "sideBar": true,
   "skip_h1_title": false,
   "title_cell": "Table of Contents",
   "title_sidebar": "Contents",
   "toc_cell": false,
   "toc_position": {
    "height": "374.857px",
    "left": "768px",
    "top": "110.571px",
    "width": "164.562px"
   },
   "toc_section_display": true,
   "toc_window_display": true
  }
 },
 "nbformat": 4,
 "nbformat_minor": 2
}
