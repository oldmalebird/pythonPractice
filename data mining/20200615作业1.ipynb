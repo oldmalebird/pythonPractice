{
 "cells": [
  {
   "cell_type": "markdown",
   "metadata": {},
   "source": [
    "在队列的尾部等待，在队列中时间最长的元素排在头部 "
   ]
  },
  {
   "cell_type": "markdown",
   "metadata": {},
   "source": [
    "## 课前回顾\n",
    "\n",
    "- 栈：LIFO\n",
    "- 队列：FIFO\n",
    "- 双端队列：LIFO+FIFO"
   ]
  },
  {
   "cell_type": "markdown",
   "metadata": {},
   "source": [
    "## 从尾到头打印链表"
   ]
  },
  {
   "cell_type": "code",
   "execution_count": 24,
   "metadata": {},
   "outputs": [],
   "source": [
    "class ListNode:\n",
    "    def __init__(self, x):\n",
    "        self.data = x\n",
    "        self.next = None"
   ]
  },
  {
   "cell_type": "code",
   "execution_count": 25,
   "metadata": {},
   "outputs": [],
   "source": [
    "def create_linked_list(nums):\n",
    "    \"\"\"\n",
    "    尾插：创建链表\n",
    "    :param nums: 输入代表里链表的数字列表\n",
    "    :return: 返回创建好的链表的头结点，可以得到整个链表的所有信息\n",
    "    \"\"\"\n",
    "    if not nums:  # 输入空列表\n",
    "        return\n",
    "    head = prev = ListNode(nums[0])  # 第一个结点\n",
    "    for num in nums[1:]:\n",
    "        tmp = ListNode(num)  # 创建当前结点\n",
    "        prev.next = tmp  # 挂在已经创建好的链表末尾\n",
    "        prev = prev.next  # 指针后移\n",
    "    return head"
   ]
  },
  {
   "cell_type": "code",
   "execution_count": 26,
   "metadata": {},
   "outputs": [],
   "source": [
    "class Solution:\n",
    "    \n",
    "    # 正序输出反转列表\n",
    "    def reversePrint(self, head):\n",
    "        lst = []\n",
    "        while head:\n",
    "            lst.append(head.data)\n",
    "            head = head.next\n",
    "            # [0,1,2,3,4,5]\n",
    "        return lst[::-1]\n",
    "    \n",
    "    # 递归实现+列表拼接法则\n",
    "    def reversePrint2(self, head):\n",
    "        return self.reversePrint2(head.next) + [head.data] if head else []"
   ]
  },
  {
   "cell_type": "code",
   "execution_count": 27,
   "metadata": {},
   "outputs": [
    {
     "data": {
      "text/plain": [
       "[5, 4, 3, 2, 1, 0]"
      ]
     },
     "execution_count": 27,
     "metadata": {},
     "output_type": "execute_result"
    }
   ],
   "source": [
    "t = create_linked_list([i for i in range(6)])\n",
    "# # [0,1,2,3,4,5]\n",
    "\n",
    "\n",
    "s = Solution()\n",
    "s.reversePrint(t)"
   ]
  },
  {
   "cell_type": "code",
   "execution_count": 2,
   "metadata": {},
   "outputs": [
    {
     "data": {
      "text/plain": [
       "[5, 4, 3, 2, 1, 0]"
      ]
     },
     "execution_count": 2,
     "metadata": {},
     "output_type": "execute_result"
    }
   ],
   "source": [
    "[5]+[4]+[3]+[2]+[1]+[0]"
   ]
  },
  {
   "cell_type": "code",
   "execution_count": null,
   "metadata": {},
   "outputs": [],
   "source": []
  }
 ],
 "metadata": {
  "kernelspec": {
   "display_name": "Python 3",
   "language": "python",
   "name": "python3"
  },
  "language_info": {
   "codemirror_mode": {
    "name": "ipython",
    "version": 3
   },
   "file_extension": ".py",
   "mimetype": "text/x-python",
   "name": "python",
   "nbconvert_exporter": "python",
   "pygments_lexer": "ipython3",
   "version": "3.7.4"
  },
  "latex_envs": {
   "LaTeX_envs_menu_present": true,
   "autoclose": false,
   "autocomplete": true,
   "bibliofile": "biblio.bib",
   "cite_by": "apalike",
   "current_citInitial": 1,
   "eqLabelWithNumbers": true,
   "eqNumInitial": 1,
   "hotkeys": {
    "equation": "Ctrl-E",
    "itemize": "Ctrl-I"
   },
   "labels_anchors": false,
   "latex_user_defs": false,
   "report_style_numbering": false,
   "user_envs_cfg": false
  },
  "toc": {
   "base_numbering": 1,
   "nav_menu": {},
   "number_sections": false,
   "sideBar": true,
   "skip_h1_title": false,
   "title_cell": "Table of Contents",
   "title_sidebar": "Contents",
   "toc_cell": false,
   "toc_position": {},
   "toc_section_display": true,
   "toc_window_display": true
  }
 },
 "nbformat": 4,
 "nbformat_minor": 2
}
