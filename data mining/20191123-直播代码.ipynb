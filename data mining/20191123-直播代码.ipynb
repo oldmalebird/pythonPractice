{
 "cells": [
  {
   "cell_type": "code",
   "execution_count": 1,
   "metadata": {},
   "outputs": [
    {
     "name": "stdout",
     "output_type": "stream",
     "text": [
      "helloworld\n"
     ]
    }
   ],
   "source": [
    "#1.语句与注释\n",
    "# 注释: 给数据分析师看的, 计算机不会执行的\n",
    "\n",
    "# 语句:代码 计算机执行\n",
    "print(\"helloworld\")\n",
    "\n",
    "\n",
    "# 定义字符串变量name\n",
    "name = \"李四\"\n",
    "\n",
    "'''\n",
    "    我是多行注释\n",
    "    我是多行注释\n",
    "    我是多行注释\n",
    "'''\n",
    "age = 19\n",
    "\n",
    "\"\"\"\n",
    "    我也是多行注释\n",
    "    我也是多行注释\n",
    "    我也是多行注释\n",
    "\"\"\"\n",
    "sex = '男'\n",
    "\n",
    "# 这是代码的注释"
   ]
  },
  {
   "cell_type": "code",
   "execution_count": 2,
   "metadata": {},
   "outputs": [
    {
     "name": "stdout",
     "output_type": "stream",
     "text": [
      "同心圆\n",
      "18\n"
     ]
    }
   ],
   "source": [
    "#2变量与赋值 \n",
    "#形式 变量名 =(赋值) 数据\n",
    "name = \"同心圆\"\n",
    "\n",
    "age = 18\n",
    "print(name)\n",
    "print(age)"
   ]
  },
  {
   "cell_type": "code",
   "execution_count": 3,
   "metadata": {},
   "outputs": [
    {
     "name": "stdout",
     "output_type": "stream",
     "text": [
      "100\n",
      "张三\n",
      "3.14\n",
      "True\n",
      "<class 'int'>\n",
      "<class 'str'>\n",
      "<class 'float'>\n",
      "<class 'bool'>\n"
     ]
    }
   ],
   "source": [
    "#2.1数据类型\n",
    "score = 100  # 定义了一个变量名字叫做score，存储的数据是100\n",
    "print(score)\n",
    "\n",
    "name = \"张三\" \n",
    "print(name)\n",
    "\n",
    "pi = 3.14\n",
    "print(pi)\n",
    "\n",
    "is_ok = True\n",
    "print(is_ok)\n",
    "\n",
    "score_type = type(score)\n",
    "print(score_type)\n",
    "# <class 'int'>  整型: 整数\n",
    "\n",
    "name_type = type(name)\n",
    "print(name_type)\n",
    "# <class 'str'>  字符串: 用引号'',\"\",''''''引起来的 \"张三\"  '''李四'''  '100'\n",
    "\n",
    "pi_type = type(pi)\n",
    "print(pi_type)\n",
    "# <class 'float'>  浮点型: 带小数点 \n",
    "print(type(is_ok))\n",
    "# <class 'bool'>   布尔型: True 真,对  False 假 错"
   ]
  },
  {
   "cell_type": "code",
   "execution_count": 4,
   "metadata": {},
   "outputs": [],
   "source": [
    "#2.2变量的命名 \n",
    "# 3name = '李四'\n",
    "# print(3name)\n",
    "# name!age = 18\n",
    "\n",
    "myName = '王五' # 小驼峰\n",
    "MyName = '赵六' # 大驼峰\n",
    "\n",
    "my_name = '李四' # 下划线命名法 -> 推荐使用\n",
    "small_student =\"小学生\""
   ]
  },
  {
   "cell_type": "code",
   "execution_count": 5,
   "metadata": {},
   "outputs": [
    {
     "name": "stdout",
     "output_type": "stream",
     "text": [
      "['False', 'None', 'True', 'and', 'as', 'assert', 'break', 'class', 'continue', 'def', 'del', 'elif', 'else', 'except', 'finally', 'for', 'from', 'global', 'if', 'import', 'in', 'is', 'lambda', 'nonlocal', 'not', 'or', 'pass', 'raise', 'return', 'try', 'while', 'with', 'yield']\n"
     ]
    }
   ],
   "source": [
    "#2.3关键字 \n",
    "import keyword \n",
    "print(keyword.kwlist)"
   ]
  },
  {
   "cell_type": "code",
   "execution_count": 6,
   "metadata": {},
   "outputs": [
    {
     "name": "stdout",
     "output_type": "stream",
     "text": [
      "300\n",
      "3.0\n"
     ]
    }
   ],
   "source": [
    "#2.4数据类型转换 \n",
    "my_first_num = 100 \n",
    "my_str_num = \"200\"\n",
    "# int() 将其他类型的数据转换成整型 \n",
    "result = my_first_num+int(my_str_num) \n",
    "print(result)\n",
    "\n",
    "# my_result = int(3.67)\n",
    "my_result = float(3)\n",
    "print(my_result)"
   ]
  },
  {
   "cell_type": "code",
   "execution_count": 7,
   "metadata": {},
   "outputs": [
    {
     "name": "stdout",
     "output_type": "stream",
     "text": [
      "Hello World\n",
      "200\n"
     ]
    }
   ],
   "source": [
    "#3输入与输出\n",
    "# my_input_name = input()\n",
    "# print(my_input_name)\n",
    "\n",
    "# my_input_name = input(\"请输入你的名字\")\n",
    "# print(my_input_name)\n",
    "# print(type(my_input_name))\n",
    "# <class 'str'> \n",
    "#input 无论接收什么类型的数据, 都是字符串类型 \n",
    "\n",
    "print('Hello World')\n",
    "print(100 + 100)"
   ]
  },
  {
   "cell_type": "code",
   "execution_count": 8,
   "metadata": {},
   "outputs": [
    {
     "name": "stdout",
     "output_type": "stream",
     "text": [
      "我的名字叫Nvo\n",
      "我的年龄18\n",
      "10\n"
     ]
    }
   ],
   "source": [
    "#3格式化输出 \n",
    "student_name = \"Nvo\"\n",
    "print(\"我的名字叫%s\" % student_name)\n",
    "student_age = 18 \n",
    "print(\"我的年龄%d\" % student_age)\n",
    "\n",
    "num = 16 \n",
    "print('%x' %num)"
   ]
  },
  {
   "cell_type": "code",
   "execution_count": 9,
   "metadata": {},
   "outputs": [
    {
     "name": "stdout",
     "output_type": "stream",
     "text": [
      "500\n",
      "1\n",
      "100\n",
      "99\n"
     ]
    }
   ],
   "source": [
    "#4.1算数运算符 \n",
    "a = 300 \n",
    "b = 200 \n",
    "print(a+b)\n",
    "print(a//b) #1\n",
    "\n",
    "print(a%b)\n",
    "print(99%100)"
   ]
  },
  {
   "cell_type": "code",
   "execution_count": 10,
   "metadata": {},
   "outputs": [],
   "source": [
    "#4.2赋值运算符 \n",
    "\n",
    "# 单个变量赋值\n",
    "num = 10\n",
    "\n",
    "# 多个变量赋值\n",
    "num1, num2, f1, str1 = 100, 200, 3.14, \"hello\""
   ]
  },
  {
   "cell_type": "code",
   "execution_count": 11,
   "metadata": {},
   "outputs": [
    {
     "name": "stdout",
     "output_type": "stream",
     "text": [
      "3000\n"
     ]
    }
   ],
   "source": [
    "#4.3复合赋值运算符 \n",
    "a = 1000\n",
    "b = 2000 \n",
    "# a = a+b\n",
    "a +=b # ==> a = a+b\n",
    "print(a)"
   ]
  },
  {
   "cell_type": "code",
   "execution_count": 12,
   "metadata": {},
   "outputs": [
    {
     "name": "stdout",
     "output_type": "stream",
     "text": [
      "False\n",
      "True\n"
     ]
    }
   ],
   "source": [
    "#4.4比较运算符 \n",
    "a = 1000\n",
    "b = 2000 \n",
    "print(a==b) #False\n",
    "print(a!=b) #True"
   ]
  },
  {
   "cell_type": "code",
   "execution_count": 13,
   "metadata": {},
   "outputs": [
    {
     "name": "stdout",
     "output_type": "stream",
     "text": [
      "False\n",
      "True\n",
      "False\n",
      "today今天\n"
     ]
    }
   ],
   "source": [
    "#4.5逻辑运算符 \n",
    "hight = True \n",
    "money = False\n",
    "print(hight and money) #False\n",
    "print(hight or money)  #True \n",
    "print(not hight)   #False\n",
    "my_str1 = \"today\"\n",
    "my_str2 = \"今天\"\n",
    "print(my_str1+my_str2)"
   ]
  },
  {
   "cell_type": "code",
   "execution_count": 14,
   "metadata": {},
   "outputs": [
    {
     "name": "stdout",
     "output_type": "stream",
     "text": [
      "开始上初中了\n",
      "这是分支外面\n"
     ]
    }
   ],
   "source": [
    "#5.if语句 \n",
    "#顺序语句, 分支语句, 循环语句\n",
    "user_age = 13\n",
    "#缩进 tab  缩进的语句都是if语句中的内容/语句体\n",
    "# if user_age>18:\n",
    "#     print(\"成年\")\n",
    "#     print(\"干你想干的事情了\")\n",
    "#     print(\"法律意识强\")\n",
    " \n",
    "    \n",
    "# if user_age>18:\n",
    "#     print(\"成年\")\n",
    "#     print(\"干你想干的事情了\")\n",
    "#     print(\"法律意识强\")\n",
    "# else:\n",
    "#     print(\"未成年\")\n",
    "#     print(\"听妈妈的话\")\n",
    "\n",
    "if user_age>18:\n",
    "    print(\"成年\")\n",
    "    print(\"干你想干的事情了\")\n",
    "    print(\"法律意识强\")\n",
    "# else if 简写形式\n",
    "elif user_age>16 : \n",
    "    print(\"未成年\")\n",
    "    print(\"青春期\") \n",
    "elif user_age>12: \n",
    "    print(\"开始上初中了\")\n",
    "else:\n",
    "    print(\"小学生\")\n",
    "print(\"这是分支外面\")"
   ]
  },
  {
   "cell_type": "code",
   "execution_count": 15,
   "metadata": {},
   "outputs": [],
   "source": [
    "name = \"皮皮虾\" \n",
    "my_name = 20 "
   ]
  },
  {
   "cell_type": "code",
   "execution_count": null,
   "metadata": {},
   "outputs": [],
   "source": []
  }
 ],
 "metadata": {
  "kernelspec": {
   "display_name": "Python 3",
   "language": "python",
   "name": "python3"
  },
  "language_info": {
   "codemirror_mode": {
    "name": "ipython",
    "version": 3
   },
   "file_extension": ".py",
   "mimetype": "text/x-python",
   "name": "python",
   "nbconvert_exporter": "python",
   "pygments_lexer": "ipython3",
   "version": "3.6.6"
  }
 },
 "nbformat": 4,
 "nbformat_minor": 2
}
