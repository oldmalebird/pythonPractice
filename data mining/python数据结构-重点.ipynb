{
 "cells": [
  {
   "cell_type": "code",
   "execution_count": 6,
   "metadata": {},
   "outputs": [
    {
     "ename": "SyntaxError",
     "evalue": "invalid syntax (<ipython-input-6-24d652cee599>, line 10)",
     "output_type": "error",
     "traceback": [
      "\u001b[1;36m  File \u001b[1;32m\"<ipython-input-6-24d652cee599>\"\u001b[1;36m, line \u001b[1;32m10\u001b[0m\n\u001b[1;33m    my_str = 'i'm '\u001b[0m\n\u001b[1;37m                ^\u001b[0m\n\u001b[1;31mSyntaxError\u001b[0m\u001b[1;31m:\u001b[0m invalid syntax\n"
     ]
    }
   ],
   "source": [
    "#字符串\n",
    "str = 'hello'#定义字符串变量\n",
    "first_str = \"helo\"#定义字符串变量\n",
    "second_str = \"\"\"hello\n",
    "\n",
    "world\"\"\"#定义多行字符串变量\n",
    "print(str)\n",
    "print(first_str)\n",
    "print(second_str)\n",
    "my_str = 'i'm '\n",
    "print(my_str)"
   ]
  },
  {
   "cell_type": "code",
   "execution_count": 10,
   "metadata": {},
   "outputs": [
    {
     "name": "stdout",
     "output_type": "stream",
     "text": [
      "h\n",
      "he\n",
      "ell\n"
     ]
    }
   ],
   "source": [
    "#字符串下标索引\n",
    "#  下标 0 --- 字符串长度-1\n",
    "#  下标  0  1  2  3  4  \n",
    "#  字符  h  e  l  l  0\n",
    "my_first_str = \"hello\"\n",
    "print(my_first_str[0])\n",
    "#切片, [起始下标, 终止下标-1] [0,2)  \n",
    "print(my_first_str[0:2])\n",
    "\n",
    "print(my_first_str[1:4])"
   ]
  },
  {
   "cell_type": "code",
   "execution_count": 12,
   "metadata": {},
   "outputs": [
    {
     "name": "stdout",
     "output_type": "stream",
     "text": [
      "bcde\n",
      "abc\n"
     ]
    }
   ],
   "source": [
    "#切片负值\n",
    "# 0    1    2   3   4    5 \n",
    "# a    b   c  d    e     f \n",
    "#  -6  -5  -4  -3   -2    -1\n",
    "name = 'abcdef'\n",
    "\n",
    "print(name[1:-1]) # 取 下标为1开始 到 最后第2个  之间的字符\n",
    "print(name[:3])"
   ]
  },
  {
   "cell_type": "code",
   "execution_count": 20,
   "metadata": {},
   "outputs": [
    {
     "name": "stdout",
     "output_type": "stream",
     "text": [
      "['香蕉', '苹果', '橘子', '梨']\n",
      "True\n"
     ]
    }
   ],
   "source": [
    "#字符串操作\n",
    "mystr = 'hello world kkb'\n",
    "# mystr.find(\"kkb\")\n",
    "mystr.find(\"mm\")\n",
    "\n",
    "mystr = 'hello world kkb'\n",
    "# mystr.index(\"kkb\")\n",
    "mystr.count('kkb')\n",
    "\n",
    "#所有符号都是英文 \n",
    "#分割后,放进列表中\n",
    "mystr = \"香蕉,苹果,橘子,梨\"\n",
    "result = mystr.split(\",\")\n",
    "print(result)\n",
    "\n",
    "#判断数据以**开头\n",
    "#True  False \n",
    "myurl = \"http://www.baidu.com\"\n",
    "result = myurl.startswith(\"http\")\n",
    "print(result)"
   ]
  },
  {
   "cell_type": "code",
   "execution_count": 28,
   "metadata": {},
   "outputs": [
    {
     "name": "stdout",
     "output_type": "stream",
     "text": [
      "xiaoWang\n",
      "['xiaoWang', 'xiaoZhang']\n",
      "['xiaoWang', 'xiaoZhang', 'xiaoHua']\n"
     ]
    }
   ],
   "source": [
    "#列表\n",
    "# [数据1 ,数据2, 数据3] 不同类型\n",
    "list1 = ['spam', 'eggs', 100, 1234] \n",
    "\n",
    "#列表长度\n",
    "# 0 - len() -1 \n",
    "#下标      0        1        2\n",
    "#        -3       -2         -1\n",
    "namesList = ['xiaoWang','xiaoZhang','xiaoHua']\n",
    "len(namesList) # 3 \n",
    "\n",
    "#列表切片 \n",
    "print(namesList[-3])\n",
    "print(namesList[0:2]) # 0,1 \n",
    "print(namesList[:3])# 0 ,1, 2"
   ]
  },
  {
   "cell_type": "code",
   "execution_count": 32,
   "metadata": {},
   "outputs": [
    {
     "name": "stdout",
     "output_type": "stream",
     "text": [
      "[1, 10, 2]\n"
     ]
    }
   ],
   "source": [
    "#定义变量A，默认有3个元素\n",
    "# A = ['xiaoWang','xiaoZhang','xiaoHua']\n",
    "\n",
    "# print(\"-----添加之前，列表A的数据-----\")\n",
    "# for tempName in A:\n",
    "#     print(tempName)\n",
    "\n",
    "# #提示、并添加元素\n",
    "# temp = input('请输入要添加的学生姓名:')\n",
    "# A.append(temp)\n",
    "\n",
    "# print(\"-----添加之后，列表A的数据-----\")\n",
    "# for tempName in A:\n",
    "#     print(tempName)\n",
    "\n",
    "\n",
    "#append 整个列表形式放入\n",
    "a = [1,2]\n",
    "b = [3,4]\n",
    "# a.append(b) \n",
    "#extend 把列表中的每个元素放入 \n",
    "# a.extend(b)\n",
    "\n",
    "#insert 插入元素, (index, obj) (下标, 数据)\n",
    "a.insert(1,10)\n",
    "print(a)\n",
    "\n"
   ]
  },
  {
   "cell_type": "code",
   "execution_count": 33,
   "metadata": {},
   "outputs": [
    {
     "name": "stdout",
     "output_type": "stream",
     "text": [
      "-----修改之前，列表A的数据-----\n",
      "xiaoWang\n",
      "xiaoZhang\n",
      "xiaoHua\n",
      "-----修改之后，列表A的数据-----\n",
      "xiaoWang\n",
      "xiaoLu\n",
      "xiaoHua\n"
     ]
    }
   ],
   "source": [
    "A = ['xiaoWang','xiaoZhang','xiaoHua']\n",
    "\n",
    "print(\"-----修改之前，列表A的数据-----\")\n",
    "for tempName in A:\n",
    "    print(tempName)\n",
    "\n",
    "#修改元素\n",
    "A[1] = 'xiaoLu'\n",
    "\n",
    "print(\"-----修改之后，列表A的数据-----\")\n",
    "for tempName in A:\n",
    "    print(tempName)"
   ]
  },
  {
   "cell_type": "code",
   "execution_count": 36,
   "metadata": {},
   "outputs": [
    {
     "name": "stdout",
     "output_type": "stream",
     "text": [
      "没有找到\n"
     ]
    }
   ],
   "source": [
    "#查找元素\n",
    "#待查找的列表\n",
    "nameList = ['xiaoWang','xiaoZhang','xiaoHua']\n",
    "\n",
    "#获取用户要查找的名字\n",
    "findName = 'xiaoWan'\n",
    "\n",
    "#查找是否存在\n",
    "if findName in nameList:\n",
    "    print('在列表中找到了相同的名字')\n",
    "else:\n",
    "    print('没有找到')"
   ]
  },
  {
   "cell_type": "code",
   "execution_count": 39,
   "metadata": {},
   "outputs": [
    {
     "data": {
      "text/plain": [
       "1"
      ]
     },
     "execution_count": 39,
     "metadata": {},
     "output_type": "execute_result"
    }
   ],
   "source": [
    "a = ['a','b']\n",
    "a.index('b')"
   ]
  },
  {
   "cell_type": "code",
   "execution_count": 42,
   "metadata": {},
   "outputs": [
    {
     "name": "stdout",
     "output_type": "stream",
     "text": [
      "------删除之前------\n",
      "a\n",
      "b\n",
      "c\n",
      "d\n",
      "e\n",
      "f\n",
      "------删除之后------\n",
      "a\n",
      "b\n",
      "d\n",
      "e\n",
      "f\n"
     ]
    }
   ],
   "source": [
    "#删除元素\n",
    "list1 = ['a','b','c','d','e','f']\n",
    "\n",
    "print('------删除之前------')\n",
    "for tempName in list1:\n",
    "    print(tempName)\n",
    "\n",
    "del list1[2]\n",
    "\n",
    "print('------删除之后------')\n",
    "for tempName in list1:\n",
    "    print(tempName)"
   ]
  },
  {
   "cell_type": "code",
   "execution_count": 43,
   "metadata": {},
   "outputs": [
    {
     "name": "stdout",
     "output_type": "stream",
     "text": [
      "------删除之前------\n",
      "a\n",
      "b\n",
      "c\n",
      "d\n",
      "e\n",
      "f\n",
      "------删除之后------\n",
      "a\n",
      "b\n",
      "c\n",
      "d\n",
      "e\n"
     ]
    }
   ],
   "source": [
    "list2 = ['a','b','c','d','e','f']\n",
    "\n",
    "print('------删除之前------')\n",
    "for tempName in list2:\n",
    "    print(tempName)\n",
    "\n",
    "list2.pop()  #pop()将列表中的最后一个元素删除 \n",
    "\n",
    "print('------删除之后------')\n",
    "for tempName in list2:\n",
    "    print(tempName)\n",
    "    \n",
    "#del ()删除元素, 填写下标 \n",
    "#pop() 删除元素, 删除最后一个\n",
    "#remove( ) 删除元素, 元素"
   ]
  },
  {
   "cell_type": "code",
   "execution_count": 44,
   "metadata": {},
   "outputs": [
    {
     "name": "stdout",
     "output_type": "stream",
     "text": [
      "------删除之前------\n",
      "a\n",
      "b\n",
      "c\n",
      "d\n",
      "e\n",
      "f\n",
      "------删除之后------\n",
      "a\n",
      "b\n",
      "c\n",
      "d\n",
      "f\n"
     ]
    }
   ],
   "source": [
    "list3 = ['a','b','c','d','e','f']\n",
    "\n",
    "print('------删除之前------')\n",
    "for tempName in list3:\n",
    "    print(tempName)\n",
    "\n",
    "list3.remove('e')\n",
    "\n",
    "print('------删除之后------')\n",
    "for tempName in list3:\n",
    "    print(tempName)"
   ]
  },
  {
   "cell_type": "code",
   "execution_count": 47,
   "metadata": {},
   "outputs": [
    {
     "name": "stdout",
     "output_type": "stream",
     "text": [
      "[1, 4, 2, 3]\n",
      "[4, 3, 2, 1]\n"
     ]
    }
   ],
   "source": [
    "#列表排序\n",
    "a = [1, 4, 2, 3]\n",
    "print(a)\n",
    "# a.reverse()#倒置\n",
    "a.sort(reverse=True) #排序\n",
    "print(a) "
   ]
  },
  {
   "cell_type": "code",
   "execution_count": 51,
   "metadata": {},
   "outputs": [
    {
     "name": "stdout",
     "output_type": "stream",
     "text": [
      "xiaoWang\n",
      "xiaoZhang\n",
      "xiaoHua\n",
      "while循环\n",
      "xiaoWang\n",
      "xiaoZhang\n",
      "xiaoHua\n"
     ]
    }
   ],
   "source": [
    "#列表中遍历\n",
    "#使用for循环\n",
    "namesList = ['xiaoWang','xiaoZhang','xiaoHua']\n",
    "for hetianhao in namesList:\n",
    "    print(hetianhao)\n",
    "print(\"while循环\")\n",
    "#使用while循环\n",
    "length = len(namesList) \n",
    "i = 0\n",
    "#i<3\n",
    "while i<length:\n",
    "    print(namesList[i]) \n",
    "    i= i+ 1"
   ]
  },
  {
   "cell_type": "code",
   "execution_count": 56,
   "metadata": {},
   "outputs": [
    {
     "name": "stdout",
     "output_type": "stream",
     "text": [
      "('Michael', 'Bob', 'Tracy')\n",
      "Bob\n",
      "(1,)\n",
      "3\n"
     ]
    }
   ],
   "source": [
    "#元组\n",
    "#有些内容不需要变化， 用元组， 用户信息 \n",
    "classmates = ('Michael', 'Bob', 'Tracy')\n",
    "print(classmates)\n",
    "print(classmates[1])\n",
    "# classmates[1] = '7655318' \n",
    "# print(classmates)\n",
    "\n",
    "#只有一个元素的元组 \n",
    "t = (1,) \n",
    "print(t) \n",
    "\n",
    "#看似可变的元组\n",
    "t = ('a', 'b', ['A', 'B'])\n",
    "print(len(t))\n",
    "t[2][0] = 'X'\n",
    "t[2][1] = 'Y'"
   ]
  },
  {
   "cell_type": "code",
   "execution_count": 66,
   "metadata": {},
   "outputs": [
    {
     "name": "stdout",
     "output_type": "stream",
     "text": [
      "2\n",
      "刘丹 \n",
      "18\n",
      "20\n",
      "{'name': '刘丹 ', 'age': 20, 'sex': 'women'}\n",
      "{'name': '刘丹 ', 'sex': 'women'}\n",
      "<class 'dict'>\n"
     ]
    }
   ],
   "source": [
    "#字典\n",
    "#     key 键 ‘’  :  value  值 可以是任意形式\n",
    "dict = { 'name':'刘丹 ', 'age':18 } \n",
    "print(len(dict))\n",
    "print(dict['name'])\n",
    "print(dict['age'])\n",
    "\n",
    "dict['age'] = 19\n",
    "dict['age'] = 20 \n",
    "print(dict['age'])\n",
    "\n",
    "#添加新的键值\n",
    "dict['sex'] = \"women\"\n",
    "print(dict)\n",
    "#删除键值 \n",
    "del dict['age']\n",
    "print(dict)\n",
    "#清空字典\n",
    "#字典还存在， 但是内容没了 \n",
    "# dict.clear()\n",
    "# print(dict)\n",
    "\n",
    "#字典被干掉了 \n",
    "del dict\n",
    "print(dict) #<class 'dict'>"
   ]
  },
  {
   "cell_type": "code",
   "execution_count": 67,
   "metadata": {},
   "outputs": [
    {
     "name": "stdout",
     "output_type": "stream",
     "text": [
      "[('name', 'abc'), ('age', '18'), ('class', 'cnh')]\n"
     ]
    }
   ],
   "source": [
    "#items 把每个键值对， 按照元组形式放在一起\n",
    "d1 = {'name':'abc','age':'18', 'class':'cnh'}\n",
    "print(list(d1.items()))\n"
   ]
  },
  {
   "cell_type": "code",
   "execution_count": 71,
   "metadata": {},
   "outputs": [
    {
     "name": "stdout",
     "output_type": "stream",
     "text": [
      "{'abc', 1, 'hello', 4}\n",
      "{1, 4, 100, 'hello', 'abc'}\n"
     ]
    }
   ],
   "source": [
    "#集合\n",
    "#大括号形式， 用逗号隔开，放入就可以， 不能有重复的数据 \n",
    "#无序， 不存在下标，\n",
    "my_set = {1, 4, 'abc', 'hello'}\n",
    "print(my_set)\n",
    "# print(my_set[0])\n",
    "\n",
    "my_set.add(100)\n",
    "print(my_set)"
   ]
  },
  {
   "cell_type": "code",
   "execution_count": 74,
   "metadata": {},
   "outputs": [
    {
     "name": "stdout",
     "output_type": "stream",
     "text": [
      "{1, 2, 3, 4, 5}\n"
     ]
    }
   ],
   "source": [
    "#集合去重 \n",
    "#数据清洗，用到一个方法 \n",
    "my_list = [1, 1, 3, 5, 3, 4 , 4,  2]\n",
    "my_set = set(my_list)\n",
    "print(my_set)\n",
    "\n",
    "# 列表： 数据容器， 放入任意类型的数据\n",
    "# 元组： 不可变， 当某些信息再程序中，不希望让别人改变\n",
    "# 字典： key - value , SQL \n",
    "# 集合： 清洗，去重"
   ]
  },
  {
   "cell_type": "code",
   "execution_count": null,
   "metadata": {},
   "outputs": [],
   "source": []
  }
 ],
 "metadata": {
  "kernelspec": {
   "display_name": "Python 3",
   "language": "python",
   "name": "python3"
  },
  "language_info": {
   "codemirror_mode": {
    "name": "ipython",
    "version": 3
   },
   "file_extension": ".py",
   "mimetype": "text/x-python",
   "name": "python",
   "nbconvert_exporter": "python",
   "pygments_lexer": "ipython3",
   "version": "3.7.3"
  }
 },
 "nbformat": 4,
 "nbformat_minor": 2
}
