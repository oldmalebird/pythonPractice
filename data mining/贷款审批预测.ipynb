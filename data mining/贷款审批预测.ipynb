{
 "cells": [
  {
   "cell_type": "code",
   "execution_count": null,
   "metadata": {},
   "outputs": [],
   "source": [
    "import numpy as np\n",
    "import pandas as pd\n",
    "import matplotlib.pyplot as plt \n",
    "import seaborn as sns\n",
    "\n",
    "sns.set(style=\"darkgrid\", font_scale=1.2) \n",
    "plt.rcParams[\"font.family\"] = \"SimHei\" \n",
    "plt.rcParams[\"axes.unicode_minus\"] = False\n",
    "\n",
    "# skiprows:读取数据时跳过的行数。 \n",
    "# 数据的第一行是描述信息，因此使用skiprows跳过。第二行才是标题数据。\n",
    "# id(贷款人编号)与next_pymnt_d(下一个预定的还款日期)列存在混合类型，显式指定列的类型，这样效率更高。\n",
    "# Pandas默认以块的形式处理(解析)数据，从而降低内存消耗，但是可能会解析出混合类型。可以使用两种方式来处理:\n",
    "# 1 显式通过dtype来设置列的类型。\n",
    "# 2 将low_memory参数的值设置为False(默认为True)。\n",
    "\n",
    "data = pd.read_csv(\"Loan.csv\", skiprows=1, dtype={\"id\": np.str, \"next_pymnt_d\": np.str}) \n",
    "# 默认情况下，只显示20列数据。\n",
    "print(pd.get_option(\"max_columns\"))\n",
    "# 查看数据集的形状。\n",
    "print(data.shape)\n",
    "# 显式指定最大列数。如果为None，指不限制最大显示列数。 \n",
    "pd.set_option(\"max_columns\", 120) \n",
    "data.head()"
   ]
  },
  {
   "cell_type": "code",
   "execution_count": null,
   "metadata": {},
   "outputs": [],
   "source": [
    "# 删除与贷款无关特征。\n",
    "irrelevant_coumns = [\n",
    "    \"id\", \"member_id\", \"funded_amnt\", \"funded_amnt_inv\", \"emp_title\",\n",
    "    \"issue_d\", \"url\", \"desc\", \"zip_code\", \"addr_state\", \"last_credit_pull_d\",\n",
    "    \"earliest_cr_line\", \"addr_state\", \"title\", \"last_pymnt_d\"\n",
    "]\n",
    "data.drop(irrelevant_coumns, axis=1, inplace=True)\n",
    "# 删除相关性高的特征。\n",
    "high_relevant = [\"grade\", \"sub_grade\"]\n",
    "data.drop(high_relevant, axis=1, inplace=True)"
   ]
  },
  {
   "cell_type": "code",
   "execution_count": null,
   "metadata": {},
   "outputs": [],
   "source": [
    "data.info()"
   ]
  },
  {
   "cell_type": "code",
   "execution_count": null,
   "metadata": {},
   "outputs": [],
   "source": [
    "# 默认情况下，最多只显示60行数据。 \n",
    "print(pd.get_option(\"max_rows\"))\n",
    "# 如果需要显示完整，可以设置最多显示的行数。\n",
    "# pd.set_option(\"max_rows\", 200)\n",
    "miss = data.isnull().sum(axis=0)\n",
    "miss = pd.concat([miss, miss * 100 / data.shape[0]], axis=1) \n",
    "miss.columns = [\"miss_num\", \"miss_rate\"] \n",
    "miss.sort_values(\"miss_num\", inplace=True, ascending=False) \n",
    "display(miss)"
   ]
  },
  {
   "cell_type": "code",
   "execution_count": null,
   "metadata": {},
   "outputs": [],
   "source": [
    "ax = sns.barplot(y=miss.index, x=miss[\"miss_num\"])\n",
    "figsize = (15, miss.shape[0] // 2)\n",
    "ax.get_figure().set_size_inches(figsize)\n",
    "for i in range(miss.shape[0]):\n",
    "    num = miss[\"miss_num\"].iloc[i]\n",
    "    rate = miss[\"miss_rate\"].iloc[i]\n",
    "    ax.text(num / 2, i, f\"{num}({rate:.2f}%)\")"
   ]
  },
  {
   "cell_type": "code",
   "execution_count": null,
   "metadata": {},
   "outputs": [],
   "source": [
    "all_missing = miss[miss[\"miss_rate\"] == 100].index \n",
    "print(\"删除的特征:\")\n",
    "print(all_missing)\n",
    "data.drop(all_missing, axis=1, inplace=True)"
   ]
  },
  {
   "cell_type": "code",
   "execution_count": null,
   "metadata": {},
   "outputs": [],
   "source": [
    "miss_too_much=miss[(miss[\"miss_rate\"]>80)&(miss[\"miss_rate\"]<100)].index \n",
    "print(\"缺失值过多的特征:\")\n",
    "print(miss_too_much)"
   ]
  },
  {
   "cell_type": "code",
   "execution_count": null,
   "metadata": {},
   "outputs": [],
   "source": [
    "# next_pymnt_d:下一个计划的还款日期。\n",
    "# mths_since_last_record:自上次记录以来的月数。 \n",
    "for c in miss_too_much:\n",
    "    # 1与0只需要1个字节就可以存储。\n",
    "    data[c] = data[c].isnull().astype(np.int8) \n",
    "data.loc[:, miss_too_much].head()"
   ]
  },
  {
   "cell_type": "code",
   "execution_count": null,
   "metadata": {},
   "outputs": [],
   "source": [
    "missing_medium=miss[(miss[\"miss_rate\"]>20)&(miss[\"miss_rate\"]<=80)].index \n",
    "print(\"缺失值适中的特征:\")\n",
    "print(missing_medium)"
   ]
  },
  {
   "cell_type": "code",
   "execution_count": null,
   "metadata": {},
   "outputs": [],
   "source": [
    "from scipy import stats\n",
    "# 自借款人上次拖欠债务以来的月数。 \n",
    "sns.distplot(data[\"mths_since_last_delinq\"]) \n",
    "stats.normaltest(data[\"mths_since_last_delinq\"].dropna())"
   ]
  },
  {
   "cell_type": "code",
   "execution_count": null,
   "metadata": {},
   "outputs": [],
   "source": [
    "# 建立辅助特征，用来标记特征原有的值是否缺失。\n",
    "data[\"mths_since_last_delinq_indicator\"] = data[\"mths_since_last_delinq\"].isnull().astype(np.int8) \n",
    "m = data[\"mths_since_last_delinq\"].median()\n",
    "data[\"mths_since_last_delinq\"].fillna(m, inplace=True)"
   ]
  },
  {
   "cell_type": "code",
   "execution_count": null,
   "metadata": {},
   "outputs": [],
   "source": [
    "missing_less=miss[(miss[\"miss_rate\"]>0)&(miss[\"miss_rate\"]<=20)].index \n",
    "print(\"缺失值较少的特征:\")\n",
    "print(missing_less)"
   ]
  },
  {
   "cell_type": "code",
   "execution_count": null,
   "metadata": {},
   "outputs": [],
   "source": [
    "data.dropna(inplace=True)\n",
    "# 缺失值处理完成后，我们再次来进行检查。 \n",
    "(data.isnull().sum()>0).any()"
   ]
  },
  {
   "cell_type": "code",
   "execution_count": null,
   "metadata": {},
   "outputs": [],
   "source": [
    "data.duplicated().sum()\n",
    "#data.drop_duplicates(inplace=True)"
   ]
  },
  {
   "cell_type": "code",
   "execution_count": null,
   "metadata": {},
   "outputs": [],
   "source": [
    "not_number = []\n",
    "for k, v in data.dtypes.items():\n",
    "    if not np.issubdtype(v, np.number): \n",
    "        not_number.append(k)\n",
    "print(\"非数值变量:\") \n",
    "print(not_number)"
   ]
  },
  {
   "cell_type": "code",
   "execution_count": null,
   "metadata": {},
   "outputs": [],
   "source": [
    "def plot_var(name_list):\n",
    "    \"\"\"\n",
    "    绘制变量的每个类别的数量。\n",
    "    Parameters \n",
    "    ---------- \n",
    "    name : str\n",
    "    变量的名称。\n",
    "    \"\"\"\n",
    "    num = len(name_list)\n",
    "    row, col = np.ceil(num / 2).astype(np.int32), 2\n",
    "    fig, ax = plt.subplots(row, col)\n",
    "    fig.set_size_inches(15, row * 5)\n",
    "    ax = ax.ravel()\n",
    "    for index, name in enumerate(name_list):\n",
    "        v = data[name].value_counts()\n",
    "        sns.countplot(x=name, data=data, order=v.index, ax=ax[index])\n",
    "        # 在图像上绘制数值。\n",
    "        for x, y in enumerate(v):\n",
    "            t = ax[index].text(x, y, y)\n",
    "            # 数值居中对齐。\n",
    "            t.set_ha(\"center\")\n",
    "        if len(v) > 10:\n",
    "            ax[index].set_xticklabels(ax[index].get_xticklabels(), rotation=90)\n",
    "\n",
    "\n",
    "plot_var([\"term\", \"home_ownership\", \"verification_status\", \"purpose\"])"
   ]
  },
  {
   "cell_type": "code",
   "execution_count": null,
   "metadata": {},
   "outputs": [],
   "source": [
    "columns = [\"term\", \"home_ownership\", \"verification_status\", \"purpose\"] \n",
    "dummy = pd.get_dummies(data[columns])\n",
    "display(dummy.head())\n",
    "data = pd.concat([data, dummy], axis=1)\n",
    "data = data.drop(columns, axis=1)"
   ]
  },
  {
   "cell_type": "code",
   "execution_count": null,
   "metadata": {},
   "outputs": [],
   "source": [
    "# 也可以使用map或者apply方法来实现相同的功能。\n",
    "data[\"int_rate\"]=data[\"int_rate\"].str.replace(\"%\",\"\").astype(np.float32)\n",
    "data[\"revol_util\"]=data[\"revol_util\"].str.replace(\"%\",\"\").astype(np.float32)\n",
    " "
   ]
  },
  {
   "cell_type": "code",
   "execution_count": null,
   "metadata": {},
   "outputs": [],
   "source": [
    "map_dict = {\n",
    "    \"10+ years\": 10,\n",
    "    \"9 years\": 9,\n",
    "    \"8 years\": 8,\n",
    "    \"7 years\": 7,\n",
    "    \"6 years\": 6,\n",
    "    \"5 years\": 5,\n",
    "    \"4 years\": 4,\n",
    "    \"3 years\": 3,\n",
    "    \"2 years\": 2,\n",
    "    \"1 year\": 1,\n",
    "    \"< 1 year\": 0\n",
    "}\n",
    "data[\"emp_length\"] = data[\"emp_length\"].map(map_dict)"
   ]
  },
  {
   "cell_type": "code",
   "execution_count": null,
   "metadata": {},
   "outputs": [],
   "source": [
    "plot_var([\"pymnt_plan\",\"initial_list_status\",\"application_type\"])"
   ]
  },
  {
   "cell_type": "code",
   "execution_count": null,
   "metadata": {},
   "outputs": [],
   "source": [
    "data.drop([\"pymnt_plan\",\"initial_list_status\",\"application_type\"],axis=1,inplace=True)"
   ]
  },
  {
   "cell_type": "code",
   "execution_count": null,
   "metadata": {},
   "outputs": [],
   "source": [
    "data[\"loan_status\"].value_counts()"
   ]
  },
  {
   "cell_type": "code",
   "execution_count": null,
   "metadata": {},
   "outputs": [],
   "source": [
    "def mapping(key):\n",
    "    if \"Fully Paid\" in key:\n",
    "        return 0 \n",
    "    else:\n",
    "        return 1\n",
    "    \n",
    "# 选择正常还款与延期的记录。\n",
    "data = data.loc[(data[\"loan_status\"] != \"Current\") & (data[\"loan_status\"] != \"Default\")] \n",
    "data[\"loan_status\"] = data[\"loan_status\"].map(mapping)\n",
    "plot_var([\"loan_status\"])"
   ]
  },
  {
   "cell_type": "code",
   "execution_count": null,
   "metadata": {},
   "outputs": [],
   "source": [
    "from sklearn.linear_model import LogisticRegression \n",
    "from sklearn.model_selection import train_test_split\n",
    "\n",
    "\n",
    "lr = LogisticRegression(solver=\"liblinear\")\n",
    "y = data[\"loan_status\"]\n",
    "X = data.drop(\"loan_status\", axis=1)\n",
    "X_train, X_test, y_train, y_test = train_test_split(X, y, test_size=0.3, random_state=0) \n",
    "lr.fit(X_train, y_train)\n",
    "y_hat = lr.predict(X_test) \n",
    "print(\"真实值:\", y_test.values[:10]) \n",
    "print(\"预测值:\", y_hat[:10])"
   ]
  },
  {
   "cell_type": "code",
   "execution_count": null,
   "metadata": {},
   "outputs": [],
   "source": [
    "from sklearn.metrics import confusion_matrix\n",
    "# 根据传入的真实值与预测值，创建混淆矩阵。\n",
    "matrix = confusion_matrix(y_true=y_test, y_pred=y_hat) \n",
    "print(matrix)"
   ]
  },
  {
   "cell_type": "code",
   "execution_count": null,
   "metadata": {},
   "outputs": [],
   "source": [
    "mat = plt.matshow(matrix, cmap=plt.cm.Blues, alpha=0.5)\n",
    "label = [\"负例\", \"正例\"]\n",
    "# 获取当前的绘图对象。\n",
    "ax = plt.gca()\n",
    "# 可以一次性设置多个属性。\n",
    "ax.set(xticks=np.arange(matrix.shape[1]),\n",
    "       yticks=np.arange(matrix.shape[0]),\n",
    "       xticklabels=label,\n",
    "       yticklabels=label,\n",
    "       title=\"混淆矩阵可视化\\n\",\n",
    "       ylabel=\"真实值\",\n",
    "       xlabel=\"预测值\")\n",
    "for i in range(matrix.shape[0]):\n",
    "    for j in range(matrix.shape[1]):\n",
    "        plt.text(x=j, y=i, s=matrix[i, j], va=\"center\", ha=\"center\")\n",
    "plt.grid(False)\n",
    "# Matplotlib 3.1.1版本需要添加如下的代码，否则可视化显示不完整。(bug)\n",
    "# a, b = ax.get_ylim()\n",
    "# ax.set_ylim(a + 0.5, b - 0.5) \n",
    "# plt.show()"
   ]
  },
  {
   "cell_type": "code",
   "execution_count": null,
   "metadata": {},
   "outputs": [],
   "source": [
    "from sklearn.metrics import accuracy_score, precision_score, recall_score, f1_score\n",
    "\n",
    "print(\"正确率:\", accuracy_score(y_test, y_hat))\n",
    "# 默认将1类别视为正例，可以通过pos_label参数指定。\n",
    "print(\"精准率:\", precision_score(y_test, y_hat)) \n",
    "print(\"召回率:\", recall_score(y_test, y_hat)) \n",
    "print(\"F1调和平均值:\", f1_score(y_test, y_hat))\n",
    "# 我们也可以调用逻辑回归模型对象的score方法，也能获取正确率。\n",
    "# 但是需要注意，score方法与正确率(accuracy_score)函数的参数是不同的。 \n",
    "print(\"score方法计算正确率:\", lr.score(X_test, y_test))"
   ]
  },
  {
   "cell_type": "code",
   "execution_count": null,
   "metadata": {},
   "outputs": [],
   "source": [
    "fromsklearn.metricsimportclassification_report\n",
    "\n",
    "print(classification_report(y_true=y_test,y_pred=y_hat))"
   ]
  },
  {
   "cell_type": "code",
   "execution_count": null,
   "metadata": {},
   "outputs": [],
   "source": [
    "from sklearn.metrics import roc_curve, auc, roc_auc_score\n",
    "\n",
    "probo = lr.predict_proba(X_test)\n",
    "# 返回ROC曲线相关值。返回FPR，TPR与阈值。当分值达到阈值时，将样本判定为正类，\n",
    "# 否则判定为负类。\n",
    "# y_true:二分类的标签值(真实值)。\n",
    "# y_score:每个标签(数据)的分值或概率值。当该值达到阈值时，判定为正例，否则判定为负例。\n",
    "# 在实际模型评估时，该值往往通过决策函数(decision_function)或者概率函数(predict_proba)获得。 \n",
    "# pos_label:指定正例的标签值。\n",
    "fpr, tpr, thresholds = roc_curve(y_true=y_test, y_score=probo[:, 1], pos_label=1)\n",
    "# 对概率降序排列，然后从中选择若干元素作为阈值，每个阈值下，都可以计算一个tpr与fpr，\n",
    "# 每个tpr与fpr对应ROC曲线上的一个点，将这些点进行连接，就可以绘制ROC曲线。\n",
    "print(probo.shape, fpr.shape, tpr.shape, thresholds.shape)\n",
    "print(thresholds[:10])\n",
    "# auc与roc_auc_score函数都可以返回AUC面积值，但是注意，两个函数的参数是不同的。 \n",
    "print(\"AUC面积值:\", auc(fpr, tpr))\n",
    "print(\"AUC面积得分:\", roc_auc_score(y_true=y_test, y_score=probo[:, 1]))"
   ]
  },
  {
   "cell_type": "code",
   "execution_count": null,
   "metadata": {},
   "outputs": [],
   "source": [
    "plt.figure(figsize=(10, 6))\n",
    "plt.plot(fpr, tpr, marker=\"o\", label=\"ROC曲线\") \n",
    "plt.plot([0,1], [0,1], lw=2, ls=\"--\", label=\"随机猜测\") \n",
    "plt.plot([0, 0, 1], [0, 1, 1], lw=2, ls=\"-.\", label=\"完美预测\") \n",
    "plt.xlim(-0.01, 1.02)\n",
    "plt.ylim(-0.01, 1.02)\n",
    "plt.xticks(np.arange(0, 1.1, 0.1))\n",
    "plt.yticks(np.arange(0, 1.1, 0.1))\n",
    "plt.xlabel(\"False Positive Rate(FPR)\")\n",
    "plt.ylabel(\"True Positive Rate(TPR)\")\n",
    "plt.grid(True)\n",
    "plt.title(f\"ROC曲线-AUC值为{auc(fpr, tpr):.3f}\")\n",
    "plt.legend()\n",
    "plt.show()"
   ]
  },
  {
   "cell_type": "code",
   "execution_count": null,
   "metadata": {},
   "outputs": [],
   "source": [
    "from sklearn.metrics import precision_recall_curve\n",
    "\n",
    "# 计算在不同阈值下的精准率与召回率。\n",
    "# y_true:每个样本的真实值。\n",
    "# probas_pred:每个样本的概率值(或z值)。\n",
    "# pos_label:指定正例类别。\n",
    "# 函数会返回3个值:\n",
    "# precision:每个样本在对应阈值下的精准率，最后一个元素值为1。\n",
    "# recall:每个样本在对应阈值下的召回率。最后一个元素值为0。\n",
    "# thresholds:升序排列的阈值数组。【说明:因为阈值是升序排列的，因此，可以推导出\n",
    "# 精准率升序排列，召回率降序排列。】\n",
    "precision, recall, thresholds = precision_recall_curve(y_test, probo[:, 1], pos_label=1) \n",
    "# 阈值会从y_true参数的数组中来选取一部分。注意:阈值的数量比precision与recall少1。 \n",
    "print(precision.shape, recall.shape, thresholds.shape, y_test.shape)\n",
    "plt.plot(recall, precision)\n",
    "plt.xlabel(\"召回率\")\n",
    "plt.ylabel(\"精准率\")\n",
    "plt.title(\"P-R曲线\")\n",
    " "
   ]
  },
  {
   "cell_type": "code",
   "execution_count": null,
   "metadata": {},
   "outputs": [],
   "source": [
    "min_recall = 0.95\n",
    "# 召回率降序排列，截取的一定是数组中的前半部分。\n",
    "boundary_index = recall[recall >= min_recall].shape[0] \n",
    "pre = precision[:boundary_index]\n",
    "rec = recall[:boundary_index]\n",
    "thr = thresholds[:boundary_index]\n",
    "f1 = (2 * precision * recall) / (precision + recall) \n",
    "index = f1.argmax()\n",
    "print(\"最佳阈值:\", thr[index])\n",
    "print(\"最佳F1值:\", f1.max()) \n",
    "print(\"最佳F1值时的精准率:\", pre[index]) \n",
    "print(\"最佳F1值时的召回率:\", rec[index])"
   ]
  },
  {
   "cell_type": "code",
   "execution_count": null,
   "metadata": {},
   "outputs": [],
   "source": [
    "fpr, tpr, thresholds = roc_curve(y_true=y_test, y_score=probo[:, 1], pos_label=1) \n",
    "# roc_curve中，thresholds索引为0的元素值会大于1，为了能够正常显示，\n",
    "# 将thresholds索引为0的元素修改为1。\n",
    "thresholds[0] = 1\n",
    "plt.plot(thresholds, tpr, label=\"TPR\") \n",
    "plt.plot(thresholds, fpr, label=\"FPR\") \n",
    "plt.legend()\n",
    "plt.xlabel(\"阈值\")\n",
    "plt.ylabel(\"数值\") \n",
    "plt.title(\"KS曲线\")"
   ]
  },
  {
   "cell_type": "code",
   "execution_count": null,
   "metadata": {},
   "outputs": [],
   "source": [
    "diff = tpr - fpr\n",
    "index = diff.argmax() \n",
    "print(\"最大差值位置:\", index) \n",
    "print(\"对应的阈值:\", thresholds[index])"
   ]
  }
 ],
 "metadata": {
  "kernelspec": {
   "display_name": "Python 3",
   "language": "python",
   "name": "python3"
  },
  "language_info": {
   "codemirror_mode": {
    "name": "ipython",
    "version": 3
   },
   "file_extension": ".py",
   "mimetype": "text/x-python",
   "name": "python",
   "nbconvert_exporter": "python",
   "pygments_lexer": "ipython3",
   "version": "3.7.4"
  },
  "latex_envs": {
   "LaTeX_envs_menu_present": true,
   "autoclose": false,
   "autocomplete": true,
   "bibliofile": "biblio.bib",
   "cite_by": "apalike",
   "current_citInitial": 1,
   "eqLabelWithNumbers": true,
   "eqNumInitial": 1,
   "hotkeys": {
    "equation": "Ctrl-E",
    "itemize": "Ctrl-I"
   },
   "labels_anchors": false,
   "latex_user_defs": false,
   "report_style_numbering": false,
   "user_envs_cfg": false
  },
  "toc": {
   "base_numbering": 1,
   "nav_menu": {},
   "number_sections": true,
   "sideBar": true,
   "skip_h1_title": false,
   "title_cell": "Table of Contents",
   "title_sidebar": "Contents",
   "toc_cell": false,
   "toc_position": {},
   "toc_section_display": true,
   "toc_window_display": false
  }
 },
 "nbformat": 4,
 "nbformat_minor": 2
}
