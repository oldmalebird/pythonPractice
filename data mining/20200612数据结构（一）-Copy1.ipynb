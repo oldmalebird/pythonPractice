{
 "cells": [
  {
   "cell_type": "markdown",
   "metadata": {},
   "source": [
    "### 4.3.1 栈的python实现"
   ]
  },
  {
   "cell_type": "code",
   "execution_count": null,
   "metadata": {},
   "outputs": [],
   "source": [
    "# 创建class Stack\n",
    "\n",
    "# python 🔪 stack \n",
    "class Stack:\n",
    "    # 初始化栈\n",
    "    def __init__(self):\n",
    "        self.items = []\n",
    "\n",
    "    # 判断栈是否为空\n",
    "    def isEmpty(self):\n",
    "        return self.items == []  # True False\n",
    "# [1,2,3,4] append \n",
    "    # 入栈\n",
    "    def push(self, item):\n",
    "        self.items.append(item)\n",
    "# [1,2,3] -> [1,2]\n",
    "    # 出栈\n",
    "    def pop(self):\n",
    "        self.items.pop()\n",
    "# [1,2,3,4]  len()=4 \n",
    "## 0,1,2,3\n",
    "    # 返回栈顶的元素\n",
    "    def peek(self):\n",
    "        return self.items[len(self.items) - 1]\n",
    "\n",
    "    # 返回栈中元素的数目\n",
    "    def size(self):\n",
    "        return len(self.items)"
   ]
  },
  {
   "cell_type": "code",
   "execution_count": 16,
   "metadata": {},
   "outputs": [
    {
     "data": {
      "text/plain": [
       "2"
      ]
     },
     "execution_count": 16,
     "metadata": {},
     "output_type": "execute_result"
    }
   ],
   "source": [
    "s = Stack()\n",
    "# s.isEmpty()\n",
    "s.push('I')\n",
    "s.push('like')\n",
    "s.push('python')\n",
    "s.pop()\n",
    "s.peek()\n",
    "s.size()"
   ]
  },
  {
   "cell_type": "code",
   "execution_count": 17,
   "metadata": {},
   "outputs": [
    {
     "data": {
      "text/plain": [
       "96"
      ]
     },
     "execution_count": 17,
     "metadata": {},
     "output_type": "execute_result"
    }
   ],
   "source": [
    "import random\n",
    "random.randint(1,100)\n"
   ]
  },
  {
   "cell_type": "markdown",
   "metadata": {},
   "source": [
    "### 4.4.1 队列的python实现"
   ]
  },
  {
   "cell_type": "code",
   "execution_count": 18,
   "metadata": {},
   "outputs": [],
   "source": [
    "class Queue:\n",
    "    def __init__(self):\n",
    "        self.items = []\n",
    "    \n",
    "    # 判断是否为空队列\n",
    "    def isEmpty(self):\n",
    "        return self.items == []\n",
    "# [1,2,3,4]\n",
    "    # 入队列\n",
    "    def enqueue(self, item):\n",
    "        self.items.insert(0, item)\n",
    "# [1,2,3] -> [1,2]\n",
    "    # 出队列\n",
    "    def dequeue(self):\n",
    "        return self.items.pop()\n",
    "\n",
    "    # 队列的长度\n",
    "    def size(self):\n",
    "        return len(self.items)"
   ]
  },
  {
   "cell_type": "code",
   "execution_count": 20,
   "metadata": {},
   "outputs": [
    {
     "data": {
      "text/plain": [
       "'I'"
      ]
     },
     "execution_count": 20,
     "metadata": {},
     "output_type": "execute_result"
    }
   ],
   "source": [
    "q = Queue()\n",
    "q.isEmpty()\n",
    "\n",
    "q.enqueue('I')\n",
    "q.enqueue('like')\n",
    "q.enqueue('python')\n",
    "q.size()\n",
    "q.dequeue()"
   ]
  },
  {
   "cell_type": "markdown",
   "metadata": {},
   "source": [
    "\n",
    "### 4.5.1 双端队列的python实现"
   ]
  },
  {
   "cell_type": "code",
   "execution_count": null,
   "metadata": {},
   "outputs": [],
   "source": [
    "class Deque:\n",
    "    def __init__(self):\n",
    "        self.items = []\n",
    "\n",
    "    # 判断是否为空\n",
    "    def isEmpty(self):\n",
    "        return self.items == []\n",
    "\n",
    "    # 从前端插入数据\n",
    "    def addFront(self, item):\n",
    "        self.items.append(item)\n",
    "        \n",
    "# [5,4,1,2,3] -> [5,4,1,2] -> [4,1,2]\n",
    "\n",
    "    # 从尾端插入数据\n",
    "    def addRear(self, item):\n",
    "        self.items.insert(0, item)\n",
    "\n",
    "    # 从前端删除数据\n",
    "    def removeFront(self):\n",
    "        return self.items.pop()\n",
    "\n",
    "    # 从尾端删除数据\n",
    "    def removeRear(self):\n",
    "        return self.items.pop(0)\n",
    "\n",
    "    # 队列的长度\n",
    "    def size(self):\n",
    "        return len(self.items)"
   ]
  },
  {
   "cell_type": "code",
   "execution_count": 22,
   "metadata": {},
   "outputs": [
    {
     "data": {
      "text/plain": [
       "'like'"
      ]
     },
     "execution_count": 22,
     "metadata": {},
     "output_type": "execute_result"
    }
   ],
   "source": [
    "d = Deque()\n",
    "d.isEmpty()\n",
    "d.addFront('I')\n",
    "d.addFront('like')\n",
    "d.addRear('Python')\n",
    "d.removeFront()"
   ]
  },
  {
   "cell_type": "markdown",
   "metadata": {},
   "source": [
    "**Question3**：\n",
    "\n",
    "（多选）一个双端队列的入队序列为1、2、3、4，则可能的出队序列为？\n",
    "\n",
    "A：4、3、2、1\n",
    "\n",
    "B：1、2、3、4\n",
    "\n",
    "C：1、4、3、2\n",
    "\n",
    "D：3、2、4、1"
   ]
  },
  {
   "cell_type": "code",
   "execution_count": 23,
   "metadata": {},
   "outputs": [],
   "source": [
    "list = [2,1,3,5]\n",
    "# 有序列表\n",
    "[1,2,3,4]\n",
    "\n",
    "# 无序列表\n",
    "[2,1,3,4]"
   ]
  },
  {
   "cell_type": "markdown",
   "metadata": {},
   "source": [
    "### 4.6.2 链表的结点类Node"
   ]
  },
  {
   "cell_type": "code",
   "execution_count": null,
   "metadata": {},
   "outputs": [],
   "source": [
    "class Node:\n",
    "    def __init__(self, initdata):\n",
    "        self.data = initdata   # 数据域\n",
    "        self.next = None       # 指针域\n",
    "\n",
    "    # 获取节点的值\n",
    "    def getData(self):\n",
    "        return self.data\n",
    "\n",
    "    # 获取下一个节点地址\n",
    "    def getNext(self):\n",
    "        return self.next\n",
    "\n",
    "    # 设置节点的值\n",
    "    def setData(self, newData):\n",
    "        self.data = newData\n",
    "\n",
    "    # 设置节点指向\n",
    "    def setNext(self, newnext):\n",
    "        self.next = newnext"
   ]
  },
  {
   "cell_type": "code",
   "execution_count": 24,
   "metadata": {},
   "outputs": [
    {
     "data": {
      "text/plain": [
       "95"
      ]
     },
     "execution_count": 24,
     "metadata": {},
     "output_type": "execute_result"
    }
   ],
   "source": [
    "temp1 = Node(93)\n",
    "temp2 = Node(94)\n",
    "temp3 = Node(95)\n",
    "\n",
    "temp1.next = temp2\n",
    "temp2.next = temp3\n",
    "temp1.setNext(temp3)\n",
    "temp1.getNext().getData()"
   ]
  },
  {
   "cell_type": "markdown",
   "metadata": {},
   "source": [
    "### 4.6.3 链表的构造功能类"
   ]
  },
  {
   "cell_type": "code",
   "execution_count": null,
   "metadata": {},
   "outputs": [],
   "source": [
    "class UnorderedList:\n",
    "    # 没有元素构建一个空链表\n",
    "    def __init__(self):\n",
    "        self.head = None\n",
    "\n",
    "    # 判断链表是否为空\n",
    "    def isEmpty(self):\n",
    "        return self.head == None\n",
    "\n",
    "    # 添加节点\n",
    "    def add(self, item):\n",
    "        temp = Node(item)\n",
    "        temp.setNext(self.head)\n",
    "        self.head = temp\n",
    "\n",
    "\n",
    "    # 遍历链表\n",
    "    def printlink(self):\n",
    "        if self.head == None:\n",
    "            print(\"该链表为空链表！\")\n",
    "        p = self.head\n",
    "        while p != None:\n",
    "            print(p.getData(), end=\"->\")\n",
    "            p = p.getNext()\n",
    "\n",
    "    # 链表的长度\n",
    "    def length(self):\n",
    "        current = self.head\n",
    "        count = 0\n",
    "        while current != None:\n",
    "            count = count + 1\n",
    "            current = current.getNext()\n",
    "        return count\n",
    "\n",
    "    # 查找元素\n",
    "    def search(self, item):\n",
    "        current = self.head\n",
    "        found = False\n",
    "        while current != None and not found:\n",
    "            if current.getData() == item:\n",
    "                found = True\n",
    "            else:\n",
    "                current = current.getNext()\n",
    "        return found\n",
    "\n",
    "    # 移除元素\n",
    "    def remove(self, item):\n",
    "        current = self.head\n",
    "        previous = None\n",
    "        found = False\n",
    "        while not found:\n",
    "            if current.getData() == item:\n",
    "                found = True\n",
    "            else:\n",
    "                previous = current\n",
    "                current = current.getNext()\n",
    "        if previous == None:\n",
    "            self.head = current.getNext()\n",
    "        else:\n",
    "            previous.setNext(current.getNext())"
   ]
  },
  {
   "cell_type": "code",
   "execution_count": null,
   "metadata": {},
   "outputs": [],
   "source": [
    "a = 0\n",
    "a = 1"
   ]
  },
  {
   "cell_type": "code",
   "execution_count": 25,
   "metadata": {},
   "outputs": [
    {
     "name": "stdout",
     "output_type": "stream",
     "text": [
      "4\n"
     ]
    }
   ],
   "source": [
    "temp1 = Node(93)\n",
    "temp2 = Node(94)\n",
    "temp3 = Node(95)\n",
    "\n",
    "linklist = UnorderedList()\n",
    "linklist.head = temp1\n",
    "temp1.next = temp2\n",
    "temp2.next = temp3\n",
    "linklist.add(9)\n",
    "\n",
    "# temp = linklist.head\n",
    "print(linklist.length())"
   ]
  },
  {
   "cell_type": "code",
   "execution_count": null,
   "metadata": {},
   "outputs": [],
   "source": [
    "link_list = UnorderedList()\n",
    "for i in range(5):\n",
    "    link_list.add(i)\n",
    "node = link_list.head\n",
    "node.getData()"
   ]
  }
 ],
 "metadata": {
  "kernelspec": {
   "display_name": "Python 3",
   "language": "python",
   "name": "python3"
  },
  "language_info": {
   "codemirror_mode": {
    "name": "ipython",
    "version": 3
   },
   "file_extension": ".py",
   "mimetype": "text/x-python",
   "name": "python",
   "nbconvert_exporter": "python",
   "pygments_lexer": "ipython3",
   "version": "3.6.6"
  },
  "latex_envs": {
   "LaTeX_envs_menu_present": true,
   "autoclose": false,
   "autocomplete": true,
   "bibliofile": "biblio.bib",
   "cite_by": "apalike",
   "current_citInitial": 1,
   "eqLabelWithNumbers": true,
   "eqNumInitial": 1,
   "hotkeys": {
    "equation": "Ctrl-E",
    "itemize": "Ctrl-I"
   },
   "labels_anchors": false,
   "latex_user_defs": false,
   "report_style_numbering": false,
   "user_envs_cfg": false
  },
  "toc": {
   "base_numbering": 1,
   "nav_menu": {},
   "number_sections": false,
   "sideBar": true,
   "skip_h1_title": false,
   "title_cell": "Table of Contents",
   "title_sidebar": "Contents",
   "toc_cell": false,
   "toc_position": {
    "height": "197.848px",
    "left": "42px",
    "top": "110.571px",
    "width": "402.333px"
   },
   "toc_section_display": true,
   "toc_window_display": true
  }
 },
 "nbformat": 4,
 "nbformat_minor": 2
}
