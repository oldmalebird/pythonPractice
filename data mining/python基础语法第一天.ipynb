{
 "cells": [
  {
   "cell_type": "code",
   "execution_count": 36,
   "metadata": {},
   "outputs": [
    {
     "name": "stdout",
     "output_type": "stream",
     "text": [
      "helloword\n"
     ]
    },
    {
     "data": {
      "text/plain": [
       "'这\\n是\\n多\\n行\\n注\\n释'"
      ]
     },
     "execution_count": 36,
     "metadata": {},
     "output_type": "execute_result"
    }
   ],
   "source": [
    "#注释 :可提供代码的可读性(不是注释越多,代码越好,没有注释的代码一定是垃圾代码)\n",
    "# 下方代码是打印一句helloword\n",
    "print(\"helloword\")\n",
    "\n",
    "\n",
    "\n",
    "#单行注释以#号开头\n",
    "\n",
    "\n",
    "\"\"\"这是多行注释\"\"\"\n",
    "\"\"\"这\n",
    "是\n",
    "多\n",
    "行\n",
    "注\n",
    "释\"\"\"\n",
    "\n",
    "#快速注释的方法  ctrl + / mac command +/ \n",
    "\n",
    "# 所有的标点符号必须使用英文"
   ]
  },
  {
   "cell_type": "code",
   "execution_count": 40,
   "metadata": {},
   "outputs": [
    {
     "name": "stdout",
     "output_type": "stream",
     "text": [
      "<class 'float'>\n"
     ]
    }
   ],
   "source": [
    "#变量 \n",
    "#通俗理解就是一个数据存储的容器\n",
    "#定义了一个类型为整型的变量\n",
    "a = 20\n",
    "\n",
    "#定义了一个字符串类型的变量\n",
    "name = \"陈云\" \n",
    "#浮点型\n",
    "pi = 3.14 \n",
    "#bool类型 非真即假 True False\n",
    "is_Ok = True\n",
    "\n",
    "\n",
    "#python 不需要指定数据类型 会自动帮助我们推到\n",
    "#通过type帮助我们查看数据类型\n",
    "result = type(pi)\n",
    "print(result)\n",
    "#总结:常用的数据类型: int float  bool list tuple dict set\n"
   ]
  },
  {
   "cell_type": "code",
   "execution_count": null,
   "metadata": {},
   "outputs": [],
   "source": [
    "#变量的命名规则\n",
    "#变量名 是由数字 字母 下划线组成的 不能以数字开头\n",
    "#约定俗成 : 见名知意\n",
    "stu_name = \"李贤辉\"\n",
    "name = \"zhangsan\"\n",
    "\n",
    "\n",
    "\n"
   ]
  },
  {
   "cell_type": "code",
   "execution_count": 41,
   "metadata": {},
   "outputs": [
    {
     "name": "stdout",
     "output_type": "stream",
     "text": [
      "['False', 'None', 'True', 'and', 'as', 'assert', 'async', 'await', 'break', 'class', 'continue', 'def', 'del', 'elif', 'else', 'except', 'finally', 'for', 'from', 'global', 'if', 'import', 'in', 'is', 'lambda', 'nonlocal', 'not', 'or', 'pass', 'raise', 'return', 'try', 'while', 'with', 'yield']\n"
     ]
    }
   ],
   "source": [
    "#关键字\n",
    "import keyword\n",
    "\n",
    "kw = keyword.kwlist\n",
    "print(kw)"
   ]
  },
  {
   "cell_type": "code",
   "execution_count": 45,
   "metadata": {},
   "outputs": [
    {
     "name": "stdout",
     "output_type": "stream",
     "text": [
      "3\n"
     ]
    }
   ],
   "source": [
    "# 数据类型\n",
    "num = 10\n",
    "my_str = \"20\" \n",
    "# result = num + my_str \n",
    "# print(result)\n",
    "#将字符串类型转换成整型\n",
    "my_str2 = int(my_str) \n",
    "result = num + my_str2\n",
    "\n",
    "pi = 3.99 \n",
    "# #int 类型和float 进行计算时返回的类型一定是float\n",
    "# result = num + pi\n",
    "# print(result)\n",
    "# #浮点型-->整型 会抹去后缀的所有小数点\n",
    "result = int(pi)\n",
    "print(result)\n",
    "\n",
    "#总结: 字符串-->整型 浮点型-->整型  整型-->浮点型--->字符串类型\n",
    "#整型:int() 浮点型:float() 字符串类型:str()"
   ]
  },
  {
   "cell_type": "code",
   "execution_count": 47,
   "metadata": {},
   "outputs": [
    {
     "name": "stdout",
     "output_type": "stream",
     "text": [
      "helloworld\n",
      "hello world\n",
      "请输入文字haha\n",
      "haha\n"
     ]
    }
   ],
   "source": [
    "#输入输出 \n",
    "#输出\n",
    "print(\"helloworld\")\n",
    "my_str1 = \"hello\"\n",
    "my_str2 = \"world\"\n",
    "print(my_str1,my_str2)\n",
    "\n",
    "# #输入: 获取用户键盘输入的文字   raw_input python2\n",
    "result = input(\"请输入文字\")\n",
    "print(result)\n",
    "\n"
   ]
  },
  {
   "cell_type": "code",
   "execution_count": 49,
   "metadata": {},
   "outputs": [
    {
     "name": "stdout",
     "output_type": "stream",
     "text": [
      "请输入你的年龄18\n",
      "中年\n"
     ]
    }
   ],
   "source": [
    "#1.获取用户输入的数字(年龄)\n",
    "#input接受的用户输入的内容类型是str\n",
    "age = int(input(\"请输入你的年龄\"))\n",
    "\n",
    "#判断语句:满足条件去执行的语句\n",
    "\n",
    "if age >= 15 and age <= 17:\n",
    "    print(\"青少年\")\n",
    "elif age > 17 and age <= 40:\n",
    "    print(\"中年\")\n",
    "elif age < 17:\n",
    "    print(\"少年\")\n",
    "else:\n",
    "    print(\"老年\")\n",
    "    \n",
    "\n",
    "\n",
    "\n"
   ]
  },
  {
   "cell_type": "code",
   "execution_count": 53,
   "metadata": {},
   "outputs": [
    {
     "name": "stdout",
     "output_type": "stream",
     "text": [
      "or优秀\n",
      "hello\n"
     ]
    }
   ],
   "source": [
    "#逻辑运算符 and or not \n",
    "score = 101 \n",
    "#and 代表满足左右两侧的条件才去执行\n",
    "if score >=90 and score<=100:\n",
    "    print(\"优秀\")\n",
    "#or 只要左右条件满足一个就去执行\n",
    "if score >=90 or score<=100:\n",
    "    print(\"or优秀\")\n",
    "#not 对结果进行取反\n",
    "#=编程语言里面是赋值运算符\n",
    "\n",
    "num = 3 \n",
    "# #if判断语句 判断的是真假 bool\n",
    "# #not 代表的意思是进行取反 not false ---> true\n",
    "if not num == 2:\n",
    "    print(\"hello\")\n",
    "\n"
   ]
  },
  {
   "cell_type": "code",
   "execution_count": null,
   "metadata": {},
   "outputs": [],
   "source": [
    "\n",
    "a = 10 \n",
    "c = 20 \n",
    "# c = a + c \n",
    "c += a\n",
    "print(c)"
   ]
  },
  {
   "cell_type": "code",
   "execution_count": 56,
   "metadata": {
    "code_folding": []
   },
   "outputs": [
    {
     "name": "stdout",
     "output_type": "stream",
     "text": [
      "1\n",
      "3\n",
      "5\n"
     ]
    }
   ],
   "source": [
    "#循环 (for while循环):根据条件执行某种循环操作\n",
    "#死循环(最常见BUG,造成cpu负载量过大)\n",
    "\n",
    "num = 0 \n",
    "\n",
    "# while num<5 :\n",
    "#     num += 1\n",
    "#     print(\"哈哈\")\n",
    "    \n",
    "# # #for 循环 结合range使用 range指定一定范围\n",
    "# # #0 - 5 (结束不算)\n",
    "#自成一派 \n",
    "# for value in range(0,5,1):\n",
    "#     print(value)\n",
    "\n",
    "\n",
    "# #range自成一派 range(1,6,1) 起始数据 结束数据(结束数据不打印) 1步长(跳跃的距离)\n",
    "\n",
    "for value in range(1,6,2): # 123456   1   12345 2\n",
    "    print(value)\n",
    "    \n",
    "# #遍历   0 5 0 默认起始数据为1 步长为1\n",
    "# # range(5,10)\n",
    "    "
   ]
  },
  {
   "cell_type": "code",
   "execution_count": 58,
   "metadata": {},
   "outputs": [
    {
     "name": "stdout",
     "output_type": "stream",
     "text": [
      "1\n",
      "3\n",
      "4\n",
      "5\n",
      "6\n",
      "1\n"
     ]
    }
   ],
   "source": [
    "#continue :结束本次循环然后继续下一次循环,整个循环不一定结束\n",
    "#break: 跳出当前循环,并且跳出整个循环\n",
    "#只能结合循环使用\n",
    "\n",
    "num = 0\n",
    "\n",
    "while num <=5:\n",
    "    num += 1\n",
    "    if num == 2:\n",
    "        #跳出当前循环,下方代码都不看了\n",
    "        continue\n",
    "    print(num) \n",
    "    \n",
    "num = 0 \n",
    "\n",
    "while num <=5:\n",
    "    num += 1   \n",
    "    if num == 2:\n",
    "        #跳出整个循环,看见break,下面代码不仅不看了,也不会重新走到循环条件了\n",
    "        break\n",
    "    print(num) \n",
    "\n",
    "    "
   ]
  },
  {
   "cell_type": "code",
   "execution_count": 123,
   "metadata": {},
   "outputs": [
    {
     "name": "stdout",
     "output_type": "stream",
     "text": [
      "-1\n",
      "2\n",
      "hexxo\n",
      "['苹果', '句子', '鸭梨']\n"
     ]
    }
   ],
   "source": [
    "# #01-字符串的应用\n",
    "# #定义字符串:使用单引号 双引号 三引号 '' \"\" \"\"\"\"\"\"\n",
    "\n",
    "my_str = \"hello\"\n",
    "result = my_str[0]\n",
    "\n",
    "# #根据指定数据查找对应的下标(索引)\n",
    "# result = my_str.index('o')\n",
    "\n",
    "\n",
    "# #find根据指定数据查询索引 和index区别 find如果没有找到会返回-1,inde没有找到会直接崩溃\n",
    "result = my_str.find('i')\n",
    "print(result)\n",
    "# #统计字符串的长度\n",
    "result = len(my_str)\n",
    "\n",
    "# #统计字符串某个字符出现的次数\n",
    "result = my_str.count('l')\n",
    "print(result)\n",
    "# #替换 hexxo\n",
    "result = my_str.replace(\"l\",\"x\")\n",
    "\n",
    "print(result)\n",
    "\n",
    "my_str = \"苹果,句子,鸭梨\"\n",
    "result = my_str.split(\",\")\n",
    "print(result)"
   ]
  },
  {
   "cell_type": "code",
   "execution_count": 71,
   "metadata": {},
   "outputs": [
    {
     "name": "stdout",
     "output_type": "stream",
     "text": [
      "草莓 [1, 'abc', 'abc', '大家好', '我好热']\n",
      "False\n"
     ]
    }
   ],
   "source": [
    "# #列表增删改查\n",
    "\n",
    "# my_list = [1,1.33,'abc',True] \n",
    "# # #利用下标取数据(查询)\n",
    "# result = my_list[-1]\n",
    "# # print(result)\n",
    "# # #定义一个空的列表\n",
    "# my_list = [True]\n",
    "# # #增加数据(元素)\n",
    "# my_list.append(\"hehehehe\")\n",
    "# my_list.append(\"大家好我是张老师\")\n",
    "# print(my_list)\n",
    "# # #在列表指定位置插入数据\n",
    "# # #在指定位置插入数据并设置他的索引值\n",
    "# my_list.insert(1,\"abc\")\n",
    "# print(my_list)\n",
    "\n",
    "# # #在列表里面插入一个列表\n",
    "# my_list1 = [\"西瓜\",\"芒果\",\"草莓\"]\n",
    "# # #[True, 'abc', 'hehehehe', '大家好我是张老师',西瓜\",\"芒果\",\"草莓\"] #1 \n",
    "# # #[True, 'abc', 'hehehehe', '大家好我是张老师',[\"西瓜\",\"芒果\",\"草莓\"]]2\n",
    "# my_list.append(my_list1) #列表 (二维列表)\n",
    "# print(my_list)\n",
    "# #一次性增加多个 \n",
    "# #课下练习:#[True, 'abc', 'hehehehe', '大家好我是张老师',西瓜\",\"芒果\",\"草莓\"] #1 \n",
    "# #for循环 extend  两个方法 extend  for循环\n",
    "# print(my_list)\n",
    "\n",
    "# #二维列表 (取出二维列表的数据)  一维度 二维 \n",
    "\n",
    "# result = my_list[4][2]\n",
    "# # print(result)\n",
    "# #############################################################\n",
    "# #删除数据\n",
    "my_list = [1,\"abc\",\"abc\",\"大家好\",\"我好热\",\"草莓\"]\n",
    "# #默认删除正数下标的第一个\n",
    "# my_list.remove(\"abc\")\n",
    "# print(my_list)\n",
    "# # #根据下标删除元素\n",
    "# del my_list[0]\n",
    "# print(my_list)\n",
    "\n",
    "\n",
    "# #删除最后一条元素,将删除的数据返回给我们\n",
    "# #pop 可以根据下标来删除数据\n",
    "# #默认pop删除最后一条数据\n",
    "#把删除的数据返回过来\n",
    "result = my_list.pop()\n",
    "print(result,my_list)\n",
    "\n",
    "\n",
    "\n",
    "# # a = 10 \n",
    "# # del a\n",
    "# # print(a)\\\n",
    "# #修改元素\n",
    "# my_list[0] = \"一二三\"\n",
    "# print(my_list)\n",
    "\n",
    "# #判断指定数据是否在列表当中\n",
    "my_list = ['一二三', '我好热', '草莓']\n",
    "result = \"一二1\" in my_list\n",
    "print(result)\n",
    "\n",
    "# #反向判断\n",
    "# #解决一个问题 可以有很多的解决办法 第一结果算出来 \n",
    "# result = \"一二1\" not in my_list\n",
    "\n",
    "\n",
    "# # #统计列表元素的个数\n",
    "result = len(my_list)\n",
    "\n",
    "# print(result)\n",
    "#统计列表元素重复的个数\n",
    "my_list = [\"草莓\",1,1,1]\n",
    "result = my_list.count(1)\n",
    "print(result)\n",
    "\n",
    "#高阶 pandas  numpy  本质 列表(数组)二维列表\n",
    "\n"
   ]
  },
  {
   "cell_type": "code",
   "execution_count": 76,
   "metadata": {},
   "outputs": [
    {
     "name": "stdout",
     "output_type": "stream",
     "text": [
      "123\n"
     ]
    },
    {
     "ename": "TypeError",
     "evalue": "'tuple' object does not support item assignment",
     "output_type": "error",
     "traceback": [
      "\u001b[0;31m---------------------------------------------------------------------------\u001b[0m",
      "\u001b[0;31mTypeError\u001b[0m                                 Traceback (most recent call last)",
      "\u001b[0;32m<ipython-input-76-e9b71a42d17f>\u001b[0m in \u001b[0;36m<module>\u001b[0;34m\u001b[0m\n\u001b[1;32m     11\u001b[0m \u001b[0;31m#修改也不可以\u001b[0m\u001b[0;34m\u001b[0m\u001b[0;34m\u001b[0m\u001b[0;34m\u001b[0m\u001b[0m\n\u001b[1;32m     12\u001b[0m \u001b[0mmy_tuple\u001b[0m \u001b[0;34m=\u001b[0m \u001b[0;34m(\u001b[0m\u001b[0;36m1\u001b[0m\u001b[0;34m,\u001b[0m\u001b[0;34m[\u001b[0m\u001b[0;36m3\u001b[0m\u001b[0;34m,\u001b[0m\u001b[0;36m5\u001b[0m\u001b[0;34m]\u001b[0m\u001b[0;34m)\u001b[0m\u001b[0;34m\u001b[0m\u001b[0;34m\u001b[0m\u001b[0m\n\u001b[0;32m---> 13\u001b[0;31m \u001b[0mmy_tuple\u001b[0m\u001b[0;34m[\u001b[0m\u001b[0;36m0\u001b[0m\u001b[0;34m]\u001b[0m \u001b[0;34m=\u001b[0m \u001b[0;36m1\u001b[0m\u001b[0;34m\u001b[0m\u001b[0;34m\u001b[0m\u001b[0m\n\u001b[0m\u001b[1;32m     14\u001b[0m \u001b[0mprint\u001b[0m\u001b[0;34m(\u001b[0m\u001b[0mmy_tuple\u001b[0m\u001b[0;34m)\u001b[0m\u001b[0;34m\u001b[0m\u001b[0;34m\u001b[0m\u001b[0m\n",
      "\u001b[0;31mTypeError\u001b[0m: 'tuple' object does not support item assignment"
     ]
    }
   ],
   "source": [
    "#元组:以小括号形式的数据集合(1,1.2\"abc\")可以存储任意类型\n",
    "#注意:元组可以利用下标取数据,但是不能利用下标修改数据\n",
    "my_tuple = (1,4,\"abc\",True,123)\n",
    "#根据下标获取值\n",
    "result = my_tuple[-1]\n",
    "print(result)\n",
    "\n",
    "#元组不能根据下标删除数据\n",
    "# del my_tuple[2]\n",
    "# print(my_tuple)\n",
    "#修改也不可以\n",
    "# my_tuple = (1,[3,5])\n",
    "# my_tuple[0] = 1 \n",
    "# print(my_tuple)\n"
   ]
  },
  {
   "cell_type": "code",
   "execution_count": 81,
   "metadata": {},
   "outputs": [
    {
     "name": "stdout",
     "output_type": "stream",
     "text": [
      "(1,) <class 'tuple'>\n",
      "4\n"
     ]
    }
   ],
   "source": [
    "#创建一个空的元组\n",
    "# my_tuple = ()\n",
    "# print(my_tuple,type(my_tuple))\n",
    "#注意点:元组只装一个元素,那么元组的类型就是元素的类型\n",
    "#元组只想存一个元素,要求必须是元组类型,加个逗号就可以了\n",
    "my_tuple = (1,)\n",
    "print(my_tuple,type(my_tuple))\n",
    "\n",
    "# #判断数据是否在元组当中\n",
    "my_tuple = (5,10,10,10)\n",
    "result = 5 in my_tuple\n",
    "\n",
    "\n",
    "# #获取元组元素的下标\n",
    "result = my_tuple.index(5)\n",
    "# #统计元组里元素出现的个数\n",
    "result = my_tuple.count(10)\n",
    "# print(result)\n",
    "# #统计元组元素一共的个数\n",
    "print(len(my_tuple))"
   ]
  },
  {
   "cell_type": "code",
   "execution_count": 86,
   "metadata": {},
   "outputs": [
    {
     "name": "stdout",
     "output_type": "stream",
     "text": [
      "{'age': 18, 'name': 'zhangsan'} <class 'dict'>\n",
      "2\n",
      "None\n"
     ]
    }
   ],
   "source": [
    "#字典:以大括号形式的键值对数据结合 {\"name\":\"zhangsan\",\"age\":18}\n",
    "#key是唯一的,key:一般情况下字符串类型(\"%99\")key必须是不可变类型:数字,字符串,元组\n",
    "my_dict = {\"age\":18,\"name\":\"zhangsan\"}\n",
    "\n",
    "print(my_dict,type(my_dict))\n",
    "#元素.一个键值对代表一条数据,一个元素\n",
    "#不同处:字典是无序的\n",
    "print(len(my_dict))\n",
    "#取数据利用key来取value\n",
    "#没有key取value会崩溃\n",
    "# value = my_dict[\"sex\"]\n",
    "# print(value)\n",
    "\n",
    "#get 取值value,如果没有此键值对,会返回None,不会崩溃\n",
    "value = my_dict.get(\"sex\")\n",
    "print(value)"
   ]
  },
  {
   "cell_type": "code",
   "execution_count": 93,
   "metadata": {},
   "outputs": [
    {
     "name": "stdout",
     "output_type": "stream",
     "text": [
      "{'name': '李睿童', 'address': '东北', 'age': 19, 'sex': '男'}\n",
      "{'name': '李睿童', 'address': '东北', 'age': 19, 'sex': '男'} ('sex', '男')\n",
      "dict_values(['李睿童', '东北', 19, '男'])\n"
     ]
    }
   ],
   "source": [
    "#字典进行增删改查\n",
    "#定义一个空的字典\n",
    "\n",
    "# my_dict = {}\n",
    "# #给字典增加键值对\n",
    "# #键是唯一的\n",
    "# my_dict[\"name\"] = \"郭中甫\"\n",
    "# my_dict[\"name\"] = \"吕月岚\"\n",
    "# print(my_dict)\n",
    "# #如果key存在的话,覆盖更新键值对,没有增加,因为保证key唯一性 \n",
    "# # print(my_dict)\n",
    "# my_dict[\"age\"] = \"30\"\n",
    "# my_dict[\"sex\"] = \"男\"\n",
    "# my_dict[\"address\"] = \"上海\"\n",
    "\n",
    "# # #修改键值对\n",
    "# my_dict[\"address\"] = \"北京\"\n",
    "# print(my_dict)\n",
    "\n",
    "# # #删除键值对\n",
    "# del my_dict[\"age\"]\n",
    "# print(my_dict)\n",
    "\n",
    "# #创建一个字典\n",
    "my_dict = {\"name\":\"李睿童\",\"address\":\"东北\",\"age\":19,\"sex\":\"男\"}\n",
    "\n",
    "print(my_dict)\n",
    "# # #随机删除\n",
    "# value = my_dict.popitem()\n",
    "# print(my_dict,value)\n",
    "\n",
    "# # #随机删除\n",
    "\n",
    "\n",
    "# # #指定删除是pop\n",
    "# value = my_dict.pop(\"address\")\n",
    "print(my_dict,value)\n",
    "\n",
    "# #获取字典里面所有的key\n",
    "result = my_dict.keys()\n",
    "\n",
    "# #获取所有的value \n",
    "result = my_dict.values()\n",
    "print(result)\n",
    "# #判断key是否在字典当中\n",
    "result = \"age\" in my_dict\n",
    "print(result)"
   ]
  },
  {
   "cell_type": "code",
   "execution_count": 100,
   "metadata": {},
   "outputs": [
    {
     "name": "stdout",
     "output_type": "stream",
     "text": [
      "{1, 'hello', 3, 'abc'} <class 'set'>\n",
      "1\n",
      "3\n",
      "abc\n",
      "(1, 2, 3, 4, 5, 5, 5, 5)\n"
     ]
    }
   ],
   "source": [
    "#集合set :以大括号形式的数据集合,集合里面不能有重复的数据\n",
    "my_set = {1,3,\"abc\",\"hello\"}\n",
    "print(my_set,type(my_set))\n",
    "#删除数据\n",
    "my_set.remove(\"hello\")\n",
    "\n",
    "# #删除数据不可以删除没有的数据\n",
    "# my_set.remove(\"hello\")\n",
    "# print(my_set)\n",
    "# #集合是无序的\n",
    "# #测试:根据下标查询数据:错误的\n",
    "# result = my_set[0]\n",
    "# print(result)\n",
    "# my_set = set()\n",
    "# print(my_set,type(my_set))\n",
    "# #取出set里面的每一条数据,遍历\n",
    "\n",
    "for value in my_set:\n",
    "    print(value)\n",
    "# #集合,列表,元组可以相互转换 set() list() tuple()\n",
    "my_list = [1,2,3,4,5,5,5,5]\n",
    "\n",
    "# #集合最常用的:给列表去重\n",
    "my_set = tuple(my_list)\n",
    "print(my_set)\n",
    "\n",
    "#下标  元组 列表 \n",
    "#无序的 字典  集合\n",
    "    "
   ]
  },
  {
   "cell_type": "code",
   "execution_count": null,
   "metadata": {},
   "outputs": [],
   "source": [
    "my_list = [1,2,3,3]\n",
    "#变成set \n",
    "# my_set = set(my_list)\n",
    "# print(type(my_set))\n",
    "#变成list -- > tupel    \n",
    "my_tuple = tuple(my_list)\n",
    "print(type(my_tuple))  "
   ]
  },
  {
   "cell_type": "code",
   "execution_count": 106,
   "metadata": {},
   "outputs": [
    {
     "name": "stdout",
     "output_type": "stream",
     "text": [
      "name 张三\n",
      "age 80\n"
     ]
    }
   ],
   "source": [
    "# #for 循环应用(遍历:获取容器类型的所有元素)(字符串,列表,元组,集合.字典)\n",
    "# my_str = \"abc\"\n",
    "# for value in my_str:\n",
    "#     print(value)\n",
    "# #列表 \n",
    "# my_list = [\"苹果\",\"草莓\"]\n",
    "# for value in my_list:\n",
    "#     print(value)\n",
    "# #将列表元素遍历出来,还有索引 \n",
    "# en_list = enumerate(my_list)\n",
    "# print(type(en_list))\n",
    "# for value in en_list:\n",
    "#     #取出来下标\n",
    "#     print(value[0],value[1])#0 苹果\n",
    "\n",
    "#元组 \n",
    "# for value in enumerate((1,2,3)):\n",
    "#     print(value[1])\n",
    "# #集合 \n",
    "# my_set = {1,2,3}\n",
    "# for value in my_set:\n",
    "#     print(value)\n",
    "\n",
    "#遍历一个字典(默认遍历的是key)\n",
    "# my_dict = {\"name\":\"张三\",\"age\":\"80\"}\n",
    "# for key in my_dict:\n",
    "#     print(key)\n",
    "    \n",
    "# # #遍历字典value \n",
    "# result = my_dict.values()\n",
    "# print(result)\n",
    "# for value in my_dict.values():\n",
    "#     print(value)\n",
    "    \n",
    "#遍历出来字典所有的key和value \n",
    "for key,value in my_dict.items():\n",
    "    print(key,value)\n",
    "\n"
   ]
  },
  {
   "cell_type": "code",
   "execution_count": 112,
   "metadata": {},
   "outputs": [
    {
     "name": "stdout",
     "output_type": "stream",
     "text": [
      "olleh\n",
      "le\n"
     ]
    }
   ],
   "source": [
    "#切片 :根据下标的范围,获取一部分数据,比如列表元组,都可以使用切片\n",
    "\n",
    "#range(起始数据,结束数据,步长)\n",
    "my_str = \"hello\"\n",
    "# result = my_str = [1]\n",
    "# print(result)\n",
    "#起始数据截取,结束数据不截取,步长默认为0 \n",
    "result = my_str[0:4]\n",
    "# print(result)\n",
    "\n",
    "result = my_str[:3]\n",
    "\n",
    "# #获取倒数后三个数据\n",
    "# result = my_str[-3:]\n",
    "# print(result)\n",
    "\n",
    "# #快速获取整个字符串\n",
    "result = my_str[::]\n",
    "\n",
    "# #倒着获取字符串的每一条数据\n",
    "result = my_str[::-1]\n",
    "print(result)\n",
    "# #使正数下标获取数据,步长为负数\n",
    "result = my_str[3:0:-2]\n",
    "# #调用系统内置函数\n",
    "print(result)\n",
    "\n",
    "# #总结:\n",
    "# #[起始数据(一定截取,如果不写从头开始截取):结束数据(默认不截取,如果不写,截取到最后):步长]\n",
    "# #:步长:正数:从前向后截取,负数从尾向前截取\n",
    "\n"
   ]
  },
  {
   "cell_type": "code",
   "execution_count": 114,
   "metadata": {},
   "outputs": [],
   "source": [
    "#课下练习1:\n",
    "my_str = \"abcdef\"\n",
    "result = my_str[-3:0:1]"
   ]
  },
  {
   "cell_type": "code",
   "execution_count": 116,
   "metadata": {},
   "outputs": [
    {
     "name": "stdout",
     "output_type": "stream",
     "text": [
      "hello\n",
      "hello\n",
      "hello\n"
     ]
    }
   ],
   "source": [
    "# 函数:通俗理解:一个功能的代码块\n",
    "#使用的目的:降低代码的冗余,对代码进行复用\n",
    "#每敲100行代码打印5句hello\n",
    "#定义一个函数:这函数功能是打印三句hello\n",
    "\n",
    "def show():\n",
    "    \n",
    "    #函数体\n",
    "    print(\"hello\")\n",
    "    print(\"hello\")\n",
    "    print(\"hello\") \n",
    "    \n",
    "\n",
    "\n",
    "# #100\n",
    "# #函数调用(回调).会执行函数体里面的代码\n",
    "show()\n",
    "# #200\n",
    "# show()\n",
    "\n"
   ]
  },
  {
   "cell_type": "code",
   "execution_count": 118,
   "metadata": {},
   "outputs": [
    {
     "name": "stdout",
     "output_type": "stream",
     "text": [
      "<class 'str'> <class 'int'>\n"
     ]
    }
   ],
   "source": [
    "#函数的定义格式\n",
    "#def(关键字修饰)函数名(参数(可选)):\n",
    "    #函数体实现功能 \n",
    "# def show():\n",
    "#     print(\"我是张老师,今天讲课很开心\")\n",
    "# # #调用函数()才会执行函数体里面的代码函数名字加()\n",
    "# show()\n",
    "#定义一个带有参数的函数\n",
    "#形式参数告知函数调用式需要传递值\n",
    "def show_msg(name,age,sex):\n",
    "    #参数函数体里面来使用的\n",
    "    \n",
    "    print(type(name),type(age))\n",
    "    #功能,打印你传递过来变量类型\n",
    "    \n",
    "show_msg(\"张老师\",18,\"男\")"
   ]
  },
  {
   "cell_type": "code",
   "execution_count": 122,
   "metadata": {},
   "outputs": [
    {
     "name": "stdout",
     "output_type": "stream",
     "text": [
      "30\n"
     ]
    }
   ],
   "source": [
    "# #函数四大类型\n",
    "# #无参数无返回值的类型\n",
    "# def show():\n",
    "#     print(\"大家好\")\n",
    "# # #调用\n",
    "# show()\n",
    "# #有参数无返回值\n",
    "\n",
    "# def sum(a,b):\n",
    "#     #计算参数的和\n",
    "#     result = a+b\n",
    "#     print(result)\n",
    "# sum(1,2)\n",
    "#有参数有返回值\n",
    "def sum_num(a,b):\n",
    "    result = a+b\n",
    "   \n",
    "    #在函数体里面计算a+b \n",
    "    #返回到函数体外面\n",
    "    #带着结果返回到函数的调用处\n",
    "    return result # ---- break\n",
    "    print(\"haha\")#1 #2\n",
    "\n",
    "# c = 100 \n",
    "\n",
    "# result = sum_num(2,2)\n",
    "# print(result)\n",
    "# # result = result + c \n",
    "\n",
    "# # print(result)\n",
    "\n",
    "# #4.无参数有返回值\n",
    "def show():\n",
    "    a = 10 \n",
    "    b = 20\n",
    "    result = a+b\n",
    "    return result\n",
    "result = show()\n",
    "print(result)"
   ]
  },
  {
   "cell_type": "code",
   "execution_count": 59,
   "metadata": {},
   "outputs": [
    {
     "name": "stdout",
     "output_type": "stream",
     "text": [
      "13\n"
     ]
    }
   ],
   "source": [
    "#模块 :通俗理解一个py文件就是一个模块.模块提供功能,管理功能代码\n",
    "#定义类,定义函数.定义全局变量.内部模块 sys time random\n",
    "import time \n",
    "#random 里面有 一些函数方法\n",
    "import random\n",
    "\n",
    "# 生成 从1到100中任意一位随机数\n",
    "a = random.randint(1, 100)  \n",
    "print(a)\n",
    "\n",
    "# #停顿 \n",
    "time.sleep(1000)\n",
    "# #随机产生一个1-5随机数\n",
    "# result = random.randint(1,5)\n",
    "print(result)\n",
    "#包:模块的集合容器  第三方包 pip install \n",
    "# #其他大神 pip install \n"
   ]
  },
  {
   "cell_type": "code",
   "execution_count": null,
   "metadata": {},
   "outputs": [],
   "source": [
    "\n",
    "\n"
   ]
  },
  {
   "cell_type": "code",
   "execution_count": null,
   "metadata": {},
   "outputs": [],
   "source": []
  },
  {
   "cell_type": "code",
   "execution_count": null,
   "metadata": {},
   "outputs": [],
   "source": []
  },
  {
   "cell_type": "code",
   "execution_count": null,
   "metadata": {},
   "outputs": [],
   "source": []
  },
  {
   "cell_type": "code",
   "execution_count": null,
   "metadata": {},
   "outputs": [],
   "source": []
  },
  {
   "cell_type": "code",
   "execution_count": null,
   "metadata": {},
   "outputs": [],
   "source": []
  }
 ],
 "metadata": {
  "kernelspec": {
   "display_name": "Python 3",
   "language": "python",
   "name": "python3"
  },
  "language_info": {
   "codemirror_mode": {
    "name": "ipython",
    "version": 3
   },
   "file_extension": ".py",
   "mimetype": "text/x-python",
   "name": "python",
   "nbconvert_exporter": "python",
   "pygments_lexer": "ipython3",
   "version": "3.7.6"
  },
  "toc": {
   "base_numbering": 1,
   "nav_menu": {},
   "number_sections": true,
   "sideBar": true,
   "skip_h1_title": false,
   "title_cell": "Table of Contents",
   "title_sidebar": "Contents",
   "toc_cell": false,
   "toc_position": {},
   "toc_section_display": true,
   "toc_window_display": false
  },
  "widgets": {
   "state": {},
   "version": "1.1.2"
  }
 },
 "nbformat": 4,
 "nbformat_minor": 2
}
