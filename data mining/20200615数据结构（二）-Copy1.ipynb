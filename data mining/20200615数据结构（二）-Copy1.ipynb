{
 "cells": [
  {
   "cell_type": "code",
   "execution_count": 16,
   "metadata": {},
   "outputs": [
    {
     "data": {
      "text/plain": [
       "15"
      ]
     },
     "execution_count": 16,
     "metadata": {},
     "output_type": "execute_result"
    }
   ],
   "source": [
    "count = 0\n",
    "numList = [1, 2, 3, 4, 5]\n",
    "for i in numList:\n",
    "    count += i\n",
    "count\n",
    "1 2"
   ]
  },
  {
   "cell_type": "code",
   "execution_count": null,
   "metadata": {},
   "outputs": [],
   "source": [
    "f(n)+f(n-1)"
   ]
  },
  {
   "cell_type": "code",
   "execution_count": 17,
   "metadata": {},
   "outputs": [
    {
     "data": {
      "text/plain": [
       "15"
      ]
     },
     "execution_count": 17,
     "metadata": {},
     "output_type": "execute_result"
    }
   ],
   "source": [
    "def listSum(numList):\n",
    "    if len(numList) == 1:\n",
    "        return numList[0]\n",
    "    else:\n",
    "        return numList[0] + listSum(numList[1:])\n",
    "\n",
    "# numList[0]+numList[1]+numList[2]+numlist[3]+numlist[4]\n",
    "numList = [1, 2, 3, 4, 5]\n",
    "# 1,2,3,4,5\n",
    "listSum(numList)\n",
    "\n",
    "# 50"
   ]
  },
  {
   "cell_type": "code",
   "execution_count": 30,
   "metadata": {},
   "outputs": [
    {
     "name": "stdout",
     "output_type": "stream",
     "text": [
      "120\n"
     ]
    }
   ],
   "source": [
    "def what(n):\n",
    "    if n == 1:\n",
    "        return (n)  #递归基例\n",
    "    else:\n",
    "        return (n * what(n - 1))  #递归链条\n",
    "\n",
    "\n",
    "print(what(5))"
   ]
  },
  {
   "cell_type": "code",
   "execution_count": 19,
   "metadata": {},
   "outputs": [],
   "source": [
    "# from random import sample\n",
    "\n",
    "\n",
    "# 二叉树类\n",
    "class BTree(object):\n",
    "\n",
    "    # 初始化\n",
    "    def __init__(self, data=None, left=None, right=None):\n",
    "        self.data = data  # 数据域\n",
    "        self.left = left  # 左子树\n",
    "        self.right = right  # 右子树\n",
    "\n",
    "\n",
    "    # 前序遍历\n",
    "    # 根左右\n",
    "    def preorder(self):\n",
    "\n",
    "        if self.data is not None:\n",
    "            print(self.data, end=' ')\n",
    "        if self.left is not None:\n",
    "            self.left.preorder()\n",
    "        if self.right is not None:\n",
    "            self.right.preorder()\n",
    "\n",
    "    # 中序遍历\n",
    "    def inorder(self):\n",
    "   # 左 根  右\n",
    "        if self.left is not None:\n",
    "            self.left.inorder()\n",
    "        if self.data is not None:\n",
    "            print(self.data, end=' ')\n",
    "        if self.right is not None:\n",
    "            self.right.inorder()\n",
    "\n",
    "    # 后序遍历\n",
    "    # 左  右   根\n",
    "    def postorder(self):\n",
    "\n",
    "        if self.left is not None:\n",
    "            self.left.postorder()\n",
    "        if self.right is not None:\n",
    "            self.right.postorder()\n",
    "        if self.data is not None:\n",
    "            print(self.data, end=' ')\n",
    "\n",
    "    # 层序遍历\n",
    "    def levelorder(self):\n",
    "\n",
    "        # 返回某个节点的左孩子\n",
    "        def LChild_Of_Node(node):\n",
    "            return node.left if node.left is not None else None\n",
    "\n",
    "        # 返回某个节点的右孩子\n",
    "        def RChild_Of_Node(node):\n",
    "            return node.right if node.right is not None else None\n",
    "\n",
    "        # 层序遍历列表\n",
    "        level_order = []\n",
    "        [[1],[2,3],[4,5,6,7]]\n",
    "        # 是否添加根节点中的数据\n",
    "        if self.data is not None:\n",
    "            level_order.append([self])\n",
    "\n",
    "        # 二叉树的高度\n",
    "        height = self.height()\n",
    "        if height >= 1:\n",
    "            # 对第二层及其以后的层数进行操作, 在level_order中添加节点而不是数据\n",
    "            for _ in range(2, height + 1):\n",
    "                level = []  # 该层的节点\n",
    "                for node in level_order[-1]:\n",
    "                    # 如果左孩子非空，则添加左孩子\n",
    "                    if LChild_Of_Node(node):\n",
    "                        level.append(LChild_Of_Node(node))\n",
    "                    # 如果右孩子非空，则添加右孩子\n",
    "                    if RChild_Of_Node(node):\n",
    "                        level.append(RChild_Of_Node(node))\n",
    "                # 如果该层非空，则添加该层\n",
    "                if level:\n",
    "                    level_order.append(level)\n",
    "\n",
    "            # 取出每层中的数据\n",
    "            [[1],[2,3],[4,5,6,7]]\n",
    "            for i in range(0, height):  # 层数\n",
    "                for index in range(len(level_order[i])):\n",
    "                    level_order[i][index] = level_order[i][index].data\n",
    "\n",
    "        return level_order\n",
    "\n",
    "    # 二叉树的高度\n",
    "    def height(self):\n",
    "        # 空的树高度为0, 只有root节点的树高度为1\n",
    "        if self.data is None:\n",
    "            return 0\n",
    "        elif self.left is None and self.right is None:\n",
    "            return 1\n",
    "        elif self.left is None and self.right is not None:\n",
    "            return 1 + self.right.height()\n",
    "        elif self.left is not None and self.right is None:\n",
    "            return 1 + self.left.height()\n",
    "        else:\n",
    "            return 1 + max(self.left.height(), self.right.height())\n",
    "\n",
    "    # 二叉树的叶子节点\n",
    "    def leaves(self):\n",
    "\n",
    "        if self.data is None:\n",
    "            return None\n",
    "        elif self.left is None and self.right is None:\n",
    "            print(self.data, end=' ')\n",
    "        elif self.left is None and self.right is not None:\n",
    "            self.right.leaves()\n",
    "        elif self.right is None and self.left is not None:\n",
    "            self.left.leaves()\n",
    "        else:\n",
    "            self.left.leaves()\n",
    "            self.right.leaves()"
   ]
  },
  {
   "cell_type": "markdown",
   "metadata": {},
   "source": [
    "### 4.3.6 邻接表的代码实现"
   ]
  },
  {
   "cell_type": "code",
   "execution_count": 22,
   "metadata": {},
   "outputs": [],
   "source": [
    "# 顶点\n",
    "class Vertex:\n",
    "    def __init__(self, key):\n",
    "        self.id = key\n",
    "        self.connectedTo = {}\n",
    "\n",
    "    #从这个顶点添加一个连接到另一个\n",
    "    def addNeighbor(self, nbr, weight=0):\n",
    "        self.connectedTo[nbr] = weight\n",
    "\n",
    "    # 修改str\n",
    "    def __str__(self):\n",
    "        return str(self.id) + 'connectedTo' + str(\n",
    "            [x.id for x in self.connectedTo])\n",
    "\n",
    "    # 返回邻接表中的所有的项点\n",
    "    def getConnections(self):\n",
    "        return self.connectedTo.keys()\n",
    "    \n",
    "    # 获取顶点\n",
    "    def getId(self):\n",
    "        return self.id\n",
    "\n",
    "    # 返回从这个顶点到作为参数顶点的边的权重\n",
    "    def getweight(self, nbr):\n",
    "        return self.connectedTo[nbr]"
   ]
  },
  {
   "cell_type": "code",
   "execution_count": 23,
   "metadata": {},
   "outputs": [],
   "source": [
    "class Graph:\n",
    "    def __init__(self):\n",
    "        self.vertList = {}\n",
    "        self.numVertices = 0\n",
    "\n",
    "    # 增加顶点\n",
    "    def addVertex(self, key):\n",
    "        self.numVertices = self.numVertices + 1\n",
    "        newVertex = Vertex(key)\n",
    "        self.vertList[key] = newVertex\n",
    "        return newVertex\n",
    "\n",
    "    # 返回某个顶点的信息\n",
    "    def getVertex(self, n):\n",
    "        if n in self.vertList:\n",
    "            return self.vertList[n]\n",
    "        else:\n",
    "            return None\n",
    "\n",
    "    # 判断顶点是否在邻接表中\n",
    "    def __contains__(self, n):\n",
    "        return n in self.vertList\n",
    "\n",
    "    # 增加边\n",
    "    def addEdge(self, f, t, const=0):\n",
    "        if f not in self.vertList:\n",
    "            nv = self.addVertex(f)\n",
    "        if t not in self.vertList:\n",
    "            nv = self.addVertex(t)\n",
    "        self.vertList[f].addNeighbor(self.vertList[t], const)\n",
    "\n",
    "    # 获取所有顶点\n",
    "    def getVertices(self):\n",
    "        return self.vertList.keys()\n",
    "\n",
    "    # 使用迭代器返回所有的邻接表信息\n",
    "    def __iter__(self):\n",
    "        return iter(self.vertList.values())\n",
    "    \n",
    "# 迭代器是一个可以记住遍历的位置的对象。\n",
    "# 迭代器对象从集合的第一个元素开始访问，直到所有的元素被访问完结束。迭代器只能往前不会后退。"
   ]
  },
  {
   "cell_type": "code",
   "execution_count": 24,
   "metadata": {},
   "outputs": [
    {
     "data": {
      "text/plain": [
       "{0: <__main__.Vertex at 0x7f8b943125d0>,\n",
       " 1: <__main__.Vertex at 0x7f8b943009d0>,\n",
       " 2: <__main__.Vertex at 0x7f8b94300d90>,\n",
       " 3: <__main__.Vertex at 0x7f8b94300150>,\n",
       " 4: <__main__.Vertex at 0x7f8b94300c50>,\n",
       " 5: <__main__.Vertex at 0x7f8b94300610>}"
      ]
     },
     "execution_count": 24,
     "metadata": {},
     "output_type": "execute_result"
    }
   ],
   "source": [
    "# 添加顶点\n",
    "g = Graph()\n",
    "for i in range(6):\n",
    "    g.addVertex(i)\n",
    "g.vertList"
   ]
  },
  {
   "cell_type": "code",
   "execution_count": 25,
   "metadata": {},
   "outputs": [
    {
     "name": "stdout",
     "output_type": "stream",
     "text": [
      "( 0 , 1 , 5)\n",
      "( 0 , 5 , 2)\n",
      "( 1 , 2 , 4)\n",
      "( 2 , 3 , 9)\n",
      "( 3 , 4 , 7)\n",
      "( 3 , 5 , 3)\n",
      "( 4 , 0 , 1)\n",
      "( 5 , 4 , 8)\n",
      "( 5 , 2 , 1)\n"
     ]
    }
   ],
   "source": [
    "# 添加边和权重\n",
    "g.addEdge(0, 1, 5)\n",
    "g.addEdge(0, 5, 2)\n",
    "g.addEdge(1, 2, 4)\n",
    "g.addEdge(2, 3, 9)\n",
    "g.addEdge(3, 4, 7)\n",
    "g.addEdge(3, 5, 3)\n",
    "g.addEdge(4, 0, 1)\n",
    "g.addEdge(5, 4, 8)\n",
    "g.addEdge(5, 2, 1)\n",
    "\n",
    "# 打印所有的边\n",
    "for v in g:\n",
    "    # 获取所有顶点\n",
    "    for w in v.getConnections():\n",
    "        # 打印\n",
    "        print(\"( %s , %s , %s)\" % (v.getId(), w.getId(), v.getweight(w)))\n",
    "        "
   ]
  },
  {
   "cell_type": "code",
   "execution_count": 34,
   "metadata": {
    "scrolled": true
   },
   "outputs": [
    {
     "name": "stdout",
     "output_type": "stream",
     "text": [
      "2connectedTo[3]\n",
      "\n",
      "True\n",
      "\n",
      "dict_keys([0, 1, 2, 3, 4, 5])\n",
      "\n"
     ]
    }
   ],
   "source": [
    "# 打印某个顶点的信息\n",
    "print(g.getVertex(2))\n",
    "print()\n",
    "\n",
    "# 判断某个顶点是否存在（返回True和False）\n",
    "print(g.__contains__(5))\n",
    "print()\n",
    "\n",
    "# 获取所有的顶点\n",
    "print(g.getVertices())\n",
    "print()"
   ]
  },
  {
   "cell_type": "code",
   "execution_count": 27,
   "metadata": {
    "scrolled": true
   },
   "outputs": [
    {
     "name": "stdout",
     "output_type": "stream",
     "text": [
      "0connectedTo[1, 5]\n",
      "1connectedTo[2]\n",
      "2connectedTo[3]\n",
      "3connectedTo[4, 5]\n",
      "4connectedTo[0]\n",
      "5connectedTo[4, 2]\n"
     ]
    }
   ],
   "source": [
    "# 返回邻接表信息\n",
    "for v in g:\n",
    "    print(v)"
   ]
  },
  {
   "cell_type": "code",
   "execution_count": 28,
   "metadata": {},
   "outputs": [
    {
     "name": "stdout",
     "output_type": "stream",
     "text": [
      "0 0connectedTo[1, 5]\n",
      "1 1connectedTo[2]\n",
      "2 2connectedTo[3]\n",
      "3 3connectedTo[4, 5]\n",
      "4 4connectedTo[0]\n",
      "5 5connectedTo[4, 2]\n"
     ]
    }
   ],
   "source": [
    "# 返回定点和邻接表信息\n",
    "for k,v in g.vertList.items():\n",
    "    print(k,v)"
   ]
  },
  {
   "cell_type": "code",
   "execution_count": 33,
   "metadata": {},
   "outputs": [
    {
     "name": "stdout",
     "output_type": "stream",
     "text": [
      "30hahahaxkai\n"
     ]
    }
   ],
   "source": [
    "class ss:\n",
    "    def __init__(self,age,name):\n",
    "        self.age = age\n",
    "        self.name = name\n",
    "    def __str__(self):\n",
    "        return str(self.age)+\"hahaha\"+str(self.name)\n",
    "if __name__==\"__main__\":\n",
    "    s = ss(30,'xkai')\n",
    "    print(s)"
   ]
  },
  {
   "cell_type": "code",
   "execution_count": null,
   "metadata": {},
   "outputs": [],
   "source": []
  }
 ],
 "metadata": {
  "kernelspec": {
   "display_name": "Python 3",
   "language": "python",
   "name": "python3"
  },
  "language_info": {
   "codemirror_mode": {
    "name": "ipython",
    "version": 3
   },
   "file_extension": ".py",
   "mimetype": "text/x-python",
   "name": "python",
   "nbconvert_exporter": "python",
   "pygments_lexer": "ipython3",
   "version": "3.7.4"
  },
  "latex_envs": {
   "LaTeX_envs_menu_present": true,
   "autoclose": false,
   "autocomplete": true,
   "bibliofile": "biblio.bib",
   "cite_by": "apalike",
   "current_citInitial": 1,
   "eqLabelWithNumbers": true,
   "eqNumInitial": 1,
   "hotkeys": {
    "equation": "Ctrl-E",
    "itemize": "Ctrl-I"
   },
   "labels_anchors": false,
   "latex_user_defs": false,
   "report_style_numbering": false,
   "user_envs_cfg": false
  },
  "toc": {
   "base_numbering": 1,
   "nav_menu": {},
   "number_sections": false,
   "sideBar": true,
   "skip_h1_title": false,
   "title_cell": "Table of Contents",
   "title_sidebar": "Contents",
   "toc_cell": false,
   "toc_position": {
    "height": "calc(100% - 180px)",
    "left": "10px",
    "top": "150px",
    "width": "162.844px"
   },
   "toc_section_display": true,
   "toc_window_display": true
  }
 },
 "nbformat": 4,
 "nbformat_minor": 2
}
