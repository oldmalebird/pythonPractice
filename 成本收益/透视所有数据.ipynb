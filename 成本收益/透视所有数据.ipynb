{
 "cells": [
  {
   "cell_type": "code",
   "execution_count": 4,
   "metadata": {},
   "outputs": [],
   "source": [
    "import pandas as pd"
   ]
  },
  {
   "cell_type": "code",
   "execution_count": 9,
   "metadata": {},
   "outputs": [
    {
     "name": "stdout",
     "output_type": "stream",
     "text": [
      "<class 'pandas.core.frame.DataFrame'>\n",
      "RangeIndex: 451502 entries, 0 to 451501\n",
      "Data columns (total 9 columns):\n",
      "年        451502 non-null int64\n",
      "表类别      451502 non-null object\n",
      "表名       451502 non-null object\n",
      "地区类别     451502 non-null object\n",
      "地区       451502 non-null object\n",
      "品种       451502 non-null object\n",
      "栽培方式     424413 non-null object\n",
      "项目       451502 non-null object\n",
      "value    451501 non-null object\n",
      "dtypes: int64(1), object(8)\n",
      "memory usage: 31.0+ MB\n",
      "None\n"
     ]
    }
   ],
   "source": [
    "df = pd.read_excel(r\"D:\\Data\\综合\\成本收益\\09-17转模板.xlsx\",sheet_name=\"汇总表\")\n",
    "print(df.info())"
   ]
  },
  {
   "cell_type": "code",
   "execution_count": 18,
   "metadata": {},
   "outputs": [
    {
     "ename": "ValueError",
     "evalue": "Index contains duplicate entries, cannot reshape",
     "output_type": "error",
     "traceback": [
      "\u001b[1;31m---------------------------------------------------------------------------\u001b[0m",
      "\u001b[1;31mValueError\u001b[0m                                Traceback (most recent call last)",
      "\u001b[1;32m<ipython-input-18-a10dc4a7e346>\u001b[0m in \u001b[0;36m<module>\u001b[1;34m()\u001b[0m\n\u001b[1;32m----> 1\u001b[1;33m \u001b[0mdf_new\u001b[0m \u001b[1;33m=\u001b[0m \u001b[0mdf\u001b[0m\u001b[1;33m.\u001b[0m\u001b[0mpivot\u001b[0m\u001b[1;33m(\u001b[0m\u001b[0mindex\u001b[0m\u001b[1;33m=\u001b[0m\u001b[1;34m'年'\u001b[0m\u001b[1;33m,\u001b[0m\u001b[0mcolumns\u001b[0m\u001b[1;33m=\u001b[0m\u001b[1;34m\"项目\"\u001b[0m\u001b[1;33m,\u001b[0m \u001b[0mvalues\u001b[0m\u001b[1;33m=\u001b[0m\u001b[1;34m\"value\"\u001b[0m\u001b[1;33m)\u001b[0m\u001b[1;33m\u001b[0m\u001b[0m\n\u001b[0m\u001b[0;32m      2\u001b[0m \u001b[0mprint\u001b[0m\u001b[1;33m(\u001b[0m\u001b[0mdf_new\u001b[0m\u001b[1;33m.\u001b[0m\u001b[0minfo\u001b[0m\u001b[1;33m(\u001b[0m\u001b[1;33m)\u001b[0m\u001b[1;33m)\u001b[0m\u001b[1;33m\u001b[0m\u001b[0m\n",
      "\u001b[1;32m~\\Anaconda3\\lib\\site-packages\\pandas\\core\\frame.py\u001b[0m in \u001b[0;36mpivot\u001b[1;34m(self, index, columns, values)\u001b[0m\n\u001b[0;32m   5192\u001b[0m         \"\"\"\n\u001b[0;32m   5193\u001b[0m         \u001b[1;32mfrom\u001b[0m \u001b[0mpandas\u001b[0m\u001b[1;33m.\u001b[0m\u001b[0mcore\u001b[0m\u001b[1;33m.\u001b[0m\u001b[0mreshape\u001b[0m\u001b[1;33m.\u001b[0m\u001b[0mreshape\u001b[0m \u001b[1;32mimport\u001b[0m \u001b[0mpivot\u001b[0m\u001b[1;33m\u001b[0m\u001b[0m\n\u001b[1;32m-> 5194\u001b[1;33m         \u001b[1;32mreturn\u001b[0m \u001b[0mpivot\u001b[0m\u001b[1;33m(\u001b[0m\u001b[0mself\u001b[0m\u001b[1;33m,\u001b[0m \u001b[0mindex\u001b[0m\u001b[1;33m=\u001b[0m\u001b[0mindex\u001b[0m\u001b[1;33m,\u001b[0m \u001b[0mcolumns\u001b[0m\u001b[1;33m=\u001b[0m\u001b[0mcolumns\u001b[0m\u001b[1;33m,\u001b[0m \u001b[0mvalues\u001b[0m\u001b[1;33m=\u001b[0m\u001b[0mvalues\u001b[0m\u001b[1;33m)\u001b[0m\u001b[1;33m\u001b[0m\u001b[0m\n\u001b[0m\u001b[0;32m   5195\u001b[0m \u001b[1;33m\u001b[0m\u001b[0m\n\u001b[0;32m   5196\u001b[0m     _shared_docs['pivot_table'] = \"\"\"\n",
      "\u001b[1;32m~\\Anaconda3\\lib\\site-packages\\pandas\\core\\reshape\\reshape.py\u001b[0m in \u001b[0;36mpivot\u001b[1;34m(self, index, columns, values)\u001b[0m\n\u001b[0;32m    413\u001b[0m             indexed = self._constructor_sliced(self[values].values,\n\u001b[0;32m    414\u001b[0m                                                index=index)\n\u001b[1;32m--> 415\u001b[1;33m     \u001b[1;32mreturn\u001b[0m \u001b[0mindexed\u001b[0m\u001b[1;33m.\u001b[0m\u001b[0munstack\u001b[0m\u001b[1;33m(\u001b[0m\u001b[0mcolumns\u001b[0m\u001b[1;33m)\u001b[0m\u001b[1;33m\u001b[0m\u001b[0m\n\u001b[0m\u001b[0;32m    416\u001b[0m \u001b[1;33m\u001b[0m\u001b[0m\n\u001b[0;32m    417\u001b[0m \u001b[1;33m\u001b[0m\u001b[0m\n",
      "\u001b[1;32m~\\Anaconda3\\lib\\site-packages\\pandas\\core\\series.py\u001b[0m in \u001b[0;36munstack\u001b[1;34m(self, level, fill_value)\u001b[0m\n\u001b[0;32m   2897\u001b[0m         \"\"\"\n\u001b[0;32m   2898\u001b[0m         \u001b[1;32mfrom\u001b[0m \u001b[0mpandas\u001b[0m\u001b[1;33m.\u001b[0m\u001b[0mcore\u001b[0m\u001b[1;33m.\u001b[0m\u001b[0mreshape\u001b[0m\u001b[1;33m.\u001b[0m\u001b[0mreshape\u001b[0m \u001b[1;32mimport\u001b[0m \u001b[0munstack\u001b[0m\u001b[1;33m\u001b[0m\u001b[0m\n\u001b[1;32m-> 2899\u001b[1;33m         \u001b[1;32mreturn\u001b[0m \u001b[0munstack\u001b[0m\u001b[1;33m(\u001b[0m\u001b[0mself\u001b[0m\u001b[1;33m,\u001b[0m \u001b[0mlevel\u001b[0m\u001b[1;33m,\u001b[0m \u001b[0mfill_value\u001b[0m\u001b[1;33m)\u001b[0m\u001b[1;33m\u001b[0m\u001b[0m\n\u001b[0m\u001b[0;32m   2900\u001b[0m \u001b[1;33m\u001b[0m\u001b[0m\n\u001b[0;32m   2901\u001b[0m     \u001b[1;31m# ----------------------------------------------------------------------\u001b[0m\u001b[1;33m\u001b[0m\u001b[1;33m\u001b[0m\u001b[0m\n",
      "\u001b[1;32m~\\Anaconda3\\lib\\site-packages\\pandas\\core\\reshape\\reshape.py\u001b[0m in \u001b[0;36munstack\u001b[1;34m(obj, level, fill_value)\u001b[0m\n\u001b[0;32m    499\u001b[0m         unstacker = _Unstacker(obj.values, obj.index, level=level,\n\u001b[0;32m    500\u001b[0m                                \u001b[0mfill_value\u001b[0m\u001b[1;33m=\u001b[0m\u001b[0mfill_value\u001b[0m\u001b[1;33m,\u001b[0m\u001b[1;33m\u001b[0m\u001b[0m\n\u001b[1;32m--> 501\u001b[1;33m                                constructor=obj._constructor_expanddim)\n\u001b[0m\u001b[0;32m    502\u001b[0m         \u001b[1;32mreturn\u001b[0m \u001b[0munstacker\u001b[0m\u001b[1;33m.\u001b[0m\u001b[0mget_result\u001b[0m\u001b[1;33m(\u001b[0m\u001b[1;33m)\u001b[0m\u001b[1;33m\u001b[0m\u001b[0m\n\u001b[0;32m    503\u001b[0m \u001b[1;33m\u001b[0m\u001b[0m\n",
      "\u001b[1;32m~\\Anaconda3\\lib\\site-packages\\pandas\\core\\reshape\\reshape.py\u001b[0m in \u001b[0;36m__init__\u001b[1;34m(self, values, index, level, value_columns, fill_value, constructor)\u001b[0m\n\u001b[0;32m    135\u001b[0m \u001b[1;33m\u001b[0m\u001b[0m\n\u001b[0;32m    136\u001b[0m         \u001b[0mself\u001b[0m\u001b[1;33m.\u001b[0m\u001b[0m_make_sorted_values_labels\u001b[0m\u001b[1;33m(\u001b[0m\u001b[1;33m)\u001b[0m\u001b[1;33m\u001b[0m\u001b[0m\n\u001b[1;32m--> 137\u001b[1;33m         \u001b[0mself\u001b[0m\u001b[1;33m.\u001b[0m\u001b[0m_make_selectors\u001b[0m\u001b[1;33m(\u001b[0m\u001b[1;33m)\u001b[0m\u001b[1;33m\u001b[0m\u001b[0m\n\u001b[0m\u001b[0;32m    138\u001b[0m \u001b[1;33m\u001b[0m\u001b[0m\n\u001b[0;32m    139\u001b[0m     \u001b[1;32mdef\u001b[0m \u001b[0m_make_sorted_values_labels\u001b[0m\u001b[1;33m(\u001b[0m\u001b[0mself\u001b[0m\u001b[1;33m)\u001b[0m\u001b[1;33m:\u001b[0m\u001b[1;33m\u001b[0m\u001b[0m\n",
      "\u001b[1;32m~\\Anaconda3\\lib\\site-packages\\pandas\\core\\reshape\\reshape.py\u001b[0m in \u001b[0;36m_make_selectors\u001b[1;34m(self)\u001b[0m\n\u001b[0;32m    173\u001b[0m \u001b[1;33m\u001b[0m\u001b[0m\n\u001b[0;32m    174\u001b[0m         \u001b[1;32mif\u001b[0m \u001b[0mmask\u001b[0m\u001b[1;33m.\u001b[0m\u001b[0msum\u001b[0m\u001b[1;33m(\u001b[0m\u001b[1;33m)\u001b[0m \u001b[1;33m<\u001b[0m \u001b[0mlen\u001b[0m\u001b[1;33m(\u001b[0m\u001b[0mself\u001b[0m\u001b[1;33m.\u001b[0m\u001b[0mindex\u001b[0m\u001b[1;33m)\u001b[0m\u001b[1;33m:\u001b[0m\u001b[1;33m\u001b[0m\u001b[0m\n\u001b[1;32m--> 175\u001b[1;33m             raise ValueError('Index contains duplicate entries, '\n\u001b[0m\u001b[0;32m    176\u001b[0m                              'cannot reshape')\n\u001b[0;32m    177\u001b[0m \u001b[1;33m\u001b[0m\u001b[0m\n",
      "\u001b[1;31mValueError\u001b[0m: Index contains duplicate entries, cannot reshape"
     ]
    }
   ],
   "source": [
    "df_new = df.pivot(index='年',columns=\"项目\", values=\"value\")\n",
    "print(df_new.info())"
   ]
  },
  {
   "cell_type": "code",
   "execution_count": 25,
   "metadata": {},
   "outputs": [
    {
     "name": "stdout",
     "output_type": "stream",
     "text": [
      "<class 'pandas.core.frame.DataFrame'>\n",
      "MultiIndex: 13581 entries, (2009, 化肥投入情况, 大中城市化肥投入情况, 大中城市, 大中城市, 设施茄子, 设施) to (2017, 费用和用工情况, 种植业产品费用和用工情况, 全国, 全国, 露地黄瓜, 露地)\n",
      "Data columns (total 95 columns):\n",
      "0                 39 non-null float64\n",
      "(一)氮肥(元)          4533 non-null float64\n",
      "(一)氮肥(公斤)         4533 non-null float64\n",
      "(一)直接费用(元)        4513 non-null float64\n",
      "(三)钾肥(元)          4533 non-null float64\n",
      "(三)钾肥(公斤)         4533 non-null float64\n",
      "(二)磷肥(元)          4533 non-null float64\n",
      "(二)磷肥(公斤)         4533 non-null float64\n",
      "(二)间接费用(元)        4513 non-null float64\n",
      "(五)其他肥料(元)        4533 non-null float64\n",
      "(四)复混肥(元)         4533 non-null float64\n",
      "(四)复混肥(公斤)        4533 non-null float64\n",
      "1.固定资产折旧(元)       4513 non-null float64\n",
      "1.复合肥(元)          4533 non-null float64\n",
      "1.复合肥(公斤)         4533 non-null float64\n",
      "1.家庭用工折价(元)       4513 non-null float64\n",
      "1.尿素(元)           4533 non-null float64\n",
      "1.尿素(公斤)          4533 non-null float64\n",
      "1.每亩种子用量(公斤)      4513 non-null float64\n",
      "1.种子费(元)          4513 non-null float64\n",
      "10.维护修理费(元)       4513 non-null float64\n",
      "11.其他直接费用(元)      4513 non-null float64\n",
      "2.保险费(元)          4513 non-null float64\n",
      "2.化肥费(元)          4513 non-null float64\n",
      "2.每亩化肥用量(公斤)      4513 non-null float64\n",
      "2.混配肥(元)          4533 non-null float64\n",
      "2.混配肥(公斤)         4533 non-null float64\n",
      "2.碳铵(元)           4533 non-null float64\n",
      "2.碳铵(公斤)          4533 non-null float64\n",
      "2.雇工费用(元)         4513 non-null float64\n",
      "3.其他氮肥(元)         4533 non-null float64\n",
      "3.其他氮肥(公斤)        4533 non-null float64\n",
      "3.农家肥费(元)         4513 non-null float64\n",
      "3.每亩农膜用量(公斤)      4513 non-null float64\n",
      "3.管理费(元)          4513 non-null float64\n",
      "4.农药费(元)          4513 non-null float64\n",
      "4.财务费(元)          4513 non-null float64\n",
      "5.农膜费(元)          4513 non-null float64\n",
      "5.销售费(元)          4513 non-null float64\n",
      "6.租赁作业费(元)        4513 non-null float64\n",
      "7.燃料动力费(元)        4513 non-null float64\n",
      "8.技术服务费(元)        4513 non-null float64\n",
      "9.工具材料费(元)        4513 non-null float64\n",
      "一.每亩化肥金额(元)       4533 non-null float64\n",
      "一.每亩物质与服务费用(元)    4513 non-null float64\n",
      "三.附               4513 non-null float64\n",
      "三元素复合肥(元)         4533 non-null float64\n",
      "三元素复合肥(公斤)        4533 non-null float64\n",
      "主产品产值(元/亩)        4535 non-null float64\n",
      "主产品产量(公斤/亩)       4535 non-null float64\n",
      "二.每亩人工成本(元)       4513 non-null float64\n",
      "二.每亩化肥折纯用量(公斤)    4533 non-null float64\n",
      "产值合计(元/亩)         4535 non-null float64\n",
      "人工成本(元/亩)         4535 non-null float64\n",
      "其中:二铵(元)          4533 non-null float64\n",
      "其中:二铵(公斤)         4533 non-null float64\n",
      "其中:氯化钾(元)         4533 non-null float64\n",
      "其中:氯化钾(公斤)        4533 non-null float64\n",
      "其中:水费(元)          4513 non-null float64\n",
      "其中:过磷酸钙(元)        4533 non-null float64\n",
      "其中:过磷酸钙(公斤)       4533 non-null float64\n",
      "净利润(元/亩)          4535 non-null float64\n",
      "净利润(元/公斤)         4535 non-null float64\n",
      "副产品产值(元/亩)        4535 non-null float64\n",
      "劳动日工价(元)          4513 non-null float64\n",
      "商品率(%)            3425 non-null float64\n",
      "土地成本(元/亩)         4535 non-null float64\n",
      "家庭用工天数(日)         4513 non-null float64\n",
      "家庭用工折价(元/亩)       4535 non-null float64\n",
      "平均出售价格(元/公斤)      4535 non-null float64\n",
      "总成本(元/亩)          4535 non-null float64\n",
      "总成本(元/公斤)         4535 non-null float64\n",
      "成本利润率(%/亩)        4535 non-null float64\n",
      "排灌费(元)            4513 non-null float64\n",
      "机械作业费(元)          4513 non-null float64\n",
      "每50公斤主产品          4535 non-null float64\n",
      "每亩                4535 non-null float64\n",
      "每亩主产品已出售产值(元)     4535 non-null float64\n",
      "每亩主产品已出售数量(公斤)    4535 non-null float64\n",
      "每亩成本外支出(元)        4535 non-null float64\n",
      "每亩用工数量(日)         4535 non-null float64\n",
      "流转地租金(元/亩)        4535 non-null float64\n",
      "物质与服务费用(元/亩)      4535 non-null float64\n",
      "现金成本(元/亩)         4535 non-null float64\n",
      "现金成本(元/公斤)        4535 non-null float64\n",
      "现金收益(元/亩)         4535 non-null float64\n",
      "现金收益(元/公斤)        4535 non-null float64\n",
      "生产成本(元/亩)         4535 non-null float64\n",
      "生产成本(元/公斤)        4535 non-null float64\n",
      "畜力费(元)            4513 non-null float64\n",
      "自营地折租(元/亩)        4535 non-null float64\n",
      "附:                4535 non-null float64\n",
      "雇工天数(日)           4513 non-null float64\n",
      "雇工工价(元)           4513 non-null float64\n",
      "雇工费用(元/亩)         4535 non-null float64\n",
      "dtypes: float64(95)\n",
      "memory usage: 9.9+ MB\n",
      "None\n"
     ]
    }
   ],
   "source": [
    "import numpy as np\n",
    "df_new = pd.pivot_table(df,index=['年','表类别','表名','地区类别','地区','品种','栽培方式'],columns=\"项目\", values=\"value\",aggfunc='count')\n",
    "print(df_new.info())"
   ]
  },
  {
   "cell_type": "code",
   "execution_count": 26,
   "metadata": {},
   "outputs": [
    {
     "name": "stdout",
     "output_type": "stream",
     "text": [
      "项目                                            0  (一)氮肥(元)  (一)氮肥(公斤)  \\\n",
      "年    表类别    表名         地区类别 地区   品种    栽培方式                            \n",
      "2009 化肥投入情况 大中城市化肥投入情况 大中城市 大中城市 设施茄子  设施   NaN       1.0        1.0   \n",
      "                                 设施菜椒  设施   NaN       1.0        1.0   \n",
      "                                 设施西红柿 设施   NaN       1.0        1.0   \n",
      "                                 设施黄瓜  设施   NaN       1.0        1.0   \n",
      "                                 露地圆白菜 露地   NaN       1.0        1.0   \n",
      "\n",
      "项目                                           (一)直接费用(元)  (三)钾肥(元)  (三)钾肥(公斤)  \\\n",
      "年    表类别    表名         地区类别 地区   品种    栽培方式                                    \n",
      "2009 化肥投入情况 大中城市化肥投入情况 大中城市 大中城市 设施茄子  设施           NaN       1.0        1.0   \n",
      "                                 设施菜椒  设施           NaN       1.0        1.0   \n",
      "                                 设施西红柿 设施           NaN       1.0        1.0   \n",
      "                                 设施黄瓜  设施           NaN       1.0        1.0   \n",
      "                                 露地圆白菜 露地           NaN       1.0        1.0   \n",
      "\n",
      "项目                                           (二)磷肥(元)  (二)磷肥(公斤)  (二)间接费用(元)  \\\n",
      "年    表类别    表名         地区类别 地区   品种    栽培方式                                    \n",
      "2009 化肥投入情况 大中城市化肥投入情况 大中城市 大中城市 设施茄子  设施         1.0        1.0         NaN   \n",
      "                                 设施菜椒  设施         1.0        1.0         NaN   \n",
      "                                 设施西红柿 设施         1.0        1.0         NaN   \n",
      "                                 设施黄瓜  设施         1.0        1.0         NaN   \n",
      "                                 露地圆白菜 露地         1.0        1.0         NaN   \n",
      "\n",
      "项目                                           (五)其他肥料(元)    ...      现金收益(元/亩)  \\\n",
      "年    表类别    表名         地区类别 地区   品种    栽培方式                ...                  \n",
      "2009 化肥投入情况 大中城市化肥投入情况 大中城市 大中城市 设施茄子  设施           1.0    ...            NaN   \n",
      "                                 设施菜椒  设施           1.0    ...            NaN   \n",
      "                                 设施西红柿 设施           1.0    ...            NaN   \n",
      "                                 设施黄瓜  设施           1.0    ...            NaN   \n",
      "                                 露地圆白菜 露地           1.0    ...            NaN   \n",
      "\n",
      "项目                                           现金收益(元/公斤)  生产成本(元/亩)  \\\n",
      "年    表类别    表名         地区类别 地区   品种    栽培方式                          \n",
      "2009 化肥投入情况 大中城市化肥投入情况 大中城市 大中城市 设施茄子  设施           NaN        NaN   \n",
      "                                 设施菜椒  设施           NaN        NaN   \n",
      "                                 设施西红柿 设施           NaN        NaN   \n",
      "                                 设施黄瓜  设施           NaN        NaN   \n",
      "                                 露地圆白菜 露地           NaN        NaN   \n",
      "\n",
      "项目                                           生产成本(元/公斤)  畜力费(元)  自营地折租(元/亩)  \\\n",
      "年    表类别    表名         地区类别 地区   品种    栽培方式                                   \n",
      "2009 化肥投入情况 大中城市化肥投入情况 大中城市 大中城市 设施茄子  设施           NaN     NaN         NaN   \n",
      "                                 设施菜椒  设施           NaN     NaN         NaN   \n",
      "                                 设施西红柿 设施           NaN     NaN         NaN   \n",
      "                                 设施黄瓜  设施           NaN     NaN         NaN   \n",
      "                                 露地圆白菜 露地           NaN     NaN         NaN   \n",
      "\n",
      "项目                                           附:  雇工天数(日)  雇工工价(元)  雇工费用(元/亩)  \n",
      "年    表类别    表名         地区类别 地区   品种    栽培方式                                   \n",
      "2009 化肥投入情况 大中城市化肥投入情况 大中城市 大中城市 设施茄子  设施   NaN      NaN      NaN        NaN  \n",
      "                                 设施菜椒  设施   NaN      NaN      NaN        NaN  \n",
      "                                 设施西红柿 设施   NaN      NaN      NaN        NaN  \n",
      "                                 设施黄瓜  设施   NaN      NaN      NaN        NaN  \n",
      "                                 露地圆白菜 露地   NaN      NaN      NaN        NaN  \n",
      "\n",
      "[5 rows x 95 columns]\n"
     ]
    }
   ],
   "source": [
    "print(df_new.head())"
   ]
  },
  {
   "cell_type": "code",
   "execution_count": 31,
   "metadata": {},
   "outputs": [],
   "source": [
    "writer = pd.ExcelWriter(r\"D:\\Data\\综合\\成本收益\\pivot.xlsx\")\n",
    "df_new.to_excel(writer, 'sheet1')\n",
    "writer.save()"
   ]
  },
  {
   "cell_type": "code",
   "execution_count": null,
   "metadata": {},
   "outputs": [],
   "source": []
  }
 ],
 "metadata": {
  "kernelspec": {
   "display_name": "Python 3",
   "language": "python",
   "name": "python3"
  },
  "language_info": {
   "codemirror_mode": {
    "name": "ipython",
    "version": 3
   },
   "file_extension": ".py",
   "mimetype": "text/x-python",
   "name": "python",
   "nbconvert_exporter": "python",
   "pygments_lexer": "ipython3",
   "version": "3.6.6"
  },
  "toc": {
   "base_numbering": 1,
   "nav_menu": {},
   "number_sections": true,
   "sideBar": true,
   "skip_h1_title": false,
   "title_cell": "Table of Contents",
   "title_sidebar": "Contents",
   "toc_cell": false,
   "toc_position": {},
   "toc_section_display": true,
   "toc_window_display": false
  }
 },
 "nbformat": 4,
 "nbformat_minor": 2
}
