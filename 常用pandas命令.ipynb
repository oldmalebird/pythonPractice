{
 "cells": [
  {
   "cell_type": "code",
   "execution_count": 1,
   "metadata": {},
   "outputs": [],
   "source": [
    "import pandas as pd\n",
    "import numpy as np"
   ]
  },
  {
   "cell_type": "markdown",
   "metadata": {},
   "source": [
    "#### 执行以上代码后，可 shift + tab 显示帮助"
   ]
  },
  {
   "cell_type": "code",
   "execution_count": null,
   "metadata": {},
   "outputs": [],
   "source": [
    "docAddress = r\"D:\\Data\\种植业司\\全国蔬菜面积产量.xlsx\"\n",
    "df = pd.read_excel(docAddress, sheet_name='全国蔬菜面积与产量')"
   ]
  },
  {
   "cell_type": "markdown",
   "metadata": {},
   "source": [
    "## 了解数据集概况\n",
    "df.shape  \n",
    "df.head() |  patients_clean.zip_code.head()\n",
    "df.tail()  \n",
    "df.sample()  \n",
    "#### 每列的数据类型，有多少非空值：\n",
    "df.info()  \n",
    "#### 每列的唯一值：\n",
    "df.nunique()\n",
    "#### 标准差、最大最小值:\n",
    "df.describe()\n",
    "#### 检查null：\n",
    "df[df['产量（万吨）'].isnull()]\n",
    "#### 检查重复数据：\n",
    "sum(df.duplicated())  \n",
    "patients[patients.address.duplicated()]  \n",
    "#### 检查该列各个值的分布：\n",
    "df['年份'].value_counts()  \n",
    "patients.surname.value_counts()  \n",
    "#### 按值排序：\n",
    "patients.weight.sort_values() \n",
    "patients_clean.email.sort_values().head() 确认没有邮箱以整数开头 (正则表达式不能匹配整数)\n",
    "#### 获取列的数量、名称：\n",
    "ncolumns = df.columns.size  \n",
    "list(patients)  \n",
    "#### 查看某几列：\n",
    "df[['width', 'length', 'height']]\n",
    "#### 根据条件查询值\n",
    "patients[patients.surname == 'Zaitseva'].bmi  \n"
   ]
  },
  {
   "cell_type": "code",
   "execution_count": null,
   "metadata": {},
   "outputs": [],
   "source": []
  },
  {
   "cell_type": "markdown",
   "metadata": {},
   "source": [
    "## Data Wrangling\n",
    "df_clean = df.copy()\n",
    "#### 将0变为null\n",
    "df.replace(0,np.nan)\n",
    "#### 删除列 \n",
    "patients_clean = patients_clean.drop('contact', axis=1)  \n",
    "Note: axis=1 表明我们参考的是一列，而不是一行  \n",
    "df.drop(columns = ['length', 'height'])\n",
    "#### 只保留df中符合条件的数据\n",
    "treatments_clean = treatments_clean[treatments_clean.dose != \"-\"]"
   ]
  },
  {
   "cell_type": "markdown",
   "metadata": {},
   "source": [
    "### 字符串的处理\n",
    "使用字符串分割，删除每个动物名称前面的 'bb'   \n",
    "df_clean['Animal'] = df_clean['Animal'].str[2:]  \n",
    "在体重和脑重量两列，将 ! 替换为 .   \n",
    "df_clean['Body weight (kg)'] = df_clean['Body weight (kg)'].str.replace('!', '.')  \n",
    "1列分为2列  \n",
    "treatments_clean['dose_start'], treatments_clean['dose_end'] = treatments_clean['dose'].str.split(' - ', 1).str"
   ]
  },
  {
   "cell_type": "markdown",
   "metadata": {},
   "source": [
    "#### 修改某列的值\n",
    "treatments_clean.hba1c_change = (treatments_clean.hba1c_start - treatments_clean.hba1c_end)\n",
    "#### 新建一列并赋值\n",
    "patients_clean['phone_number'] = patients_clean.contact.str.extract('((?:\\+\\d{1,2}\\s)?\\(?\\d{3}\\)?[\\s.-]?\\d{3}[\\s.-]?\\d{4})', expand=True)\n",
    "patients_clean['email'] = patients_clean.contact.str.extract('([a-zA-Z][a-zA-Z0-9_.+-]+@[a-zA-Z0-9-]+\\.[a-zA-Z0-9-.][a-zA-Z]+)', expand=True)"
   ]
  },
  {
   "cell_type": "markdown",
   "metadata": {},
   "source": [
    "### Data Reshaping\n",
    "treatments_clean = pd.melt(treatments_clean, id_vars=['given_name', 'surname', 'hba1c_start', 'hba1c_end', 'hba1c_change'],\n",
    "                           var_name='treatment', value_name='dose')  \n",
    "pd.pivot(columns = 'var', values = 'val')\n",
    "pd.concat([df1, df2))  \n",
    "pd.concat([df1, df2), axis = 1)"
   ]
  },
  {
   "cell_type": "code",
   "execution_count": null,
   "metadata": {},
   "outputs": [],
   "source": []
  },
  {
   "cell_type": "markdown",
   "metadata": {},
   "source": [
    "### 转换数据类型\n",
    "转为分类数据类型  \n",
    "patients_clean.assigned_sex = patients_clean.assigned_sex.astype('category')  \n",
    "patients_clean.state = patients_clean.state.astype('category')\n",
    "\n",
    "转为 datetime 类型  \n",
    "patients_clean.birthdate = pd.to_datetime(patients_clean.birthdate)  \n",
    "\n",
    "添加 u 并转为整数类型  \n",
    "treatments_clean.dose_start = treatments_clean.dose_start.str.strip('u').astype(int)  \n",
    "treatments_clean.dose_end = treatments_clean.dose_end.str.strip('u').astype(int)"
   ]
  },
  {
   "cell_type": "markdown",
   "metadata": {},
   "source": []
  },
  {
   "cell_type": "markdown",
   "metadata": {},
   "source": [
    "波浪符号表示否： http://pandas.pydata.org/pandas-docs/stable/indexing.html#boolean-indexing\n",
    "patients_clean = patients_clean[~((patients_clean.address.duplicated()) & patients_clean.address.notnull())]"
   ]
  },
  {
   "cell_type": "code",
   "execution_count": null,
   "metadata": {},
   "outputs": [],
   "source": [
    "增加所有的 \" \"、 \"-\"、\"(\", \")\" 和 \"+\"，存储所有没有格式的数字。如果手机号只有 10 位数，在手机号前添加 1 (我们需要国家编号)。\n",
    "patients_clean.phone_number = patients_clean.phone_number.str.replace(r'\\D+', '').str.pad(11, fillchar='1')"
   ]
  },
  {
   "cell_type": "code",
   "execution_count": null,
   "metadata": {},
   "outputs": [],
   "source": [
    "# 从州的全称映射到简称\n",
    "state_abbrev = {'California': 'CA',\n",
    "                'New York': 'NY',\n",
    "                'Illinois': 'IL',\n",
    "                'Florida': 'FL',\n",
    "                'Nebraska': 'NE'}\n",
    "\n",
    "# 使用的函数\n",
    "def abbreviate_state(patient):\n",
    "    if patient['state'] in state_abbrev.keys():\n",
    "        abbrev = state_abbrev[patient['state']]\n",
    "        return abbrev\n",
    "    else:\n",
    "        return patient['state']\n",
    "    \n",
    "patients_clean['state'] = patients_clean.apply(abbreviate_state, axis=1)"
   ]
  },
  {
   "cell_type": "code",
   "execution_count": null,
   "metadata": {},
   "outputs": [],
   "source": []
  },
  {
   "cell_type": "markdown",
   "metadata": {},
   "source": [
    "Convert the zip code column's data type from a float to a string 使用 astype 把邮件一列的数据类型从浮点转换为字符串，使用字符串分割删除 '.0'。在四位数邮编前面加上 0。"
   ]
  },
  {
   "cell_type": "code",
   "execution_count": null,
   "metadata": {},
   "outputs": [],
   "source": []
  }
 ],
 "metadata": {
  "kernelspec": {
   "display_name": "Python 3",
   "language": "python",
   "name": "python3"
  },
  "language_info": {
   "codemirror_mode": {
    "name": "ipython",
    "version": 3
   },
   "file_extension": ".py",
   "mimetype": "text/x-python",
   "name": "python",
   "nbconvert_exporter": "python",
   "pygments_lexer": "ipython3",
   "version": "3.6.6"
  }
 },
 "nbformat": 4,
 "nbformat_minor": 2
}
