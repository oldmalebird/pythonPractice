{
 "cells": [
  {
   "cell_type": "code",
   "execution_count": 1,
   "metadata": {
    "collapsed": true
   },
   "outputs": [],
   "source": [
    "import pandas as pd\n",
    "import numpy as np"
   ]
  },
  {
   "cell_type": "markdown",
   "metadata": {},
   "source": [
    "#### 执行以上代码后，可 shift + tab 显示帮助"
   ]
  },
  {
   "cell_type": "code",
   "execution_count": null,
   "metadata": {},
   "outputs": [],
   "source": [
    "docAddress = r\"D:\\Data\\种植业司\\全国蔬菜面积产量.xlsx\"\n",
    "df = pd.read_excel(docAddress, sheet_name='全国蔬菜面积与产量')\n",
    "df2 = pd.read_csv(\"bj_shucaiweishi.csv\") #似乎不能为中文名？\n",
    "df = pd.read_csv(docAddress,engine='python') #docAddress可以是中文名，不加encoding='UTF-8-SIG'中文可能会乱码\n",
    "df = pd.read_csv(docAddress,encoding='UTF-8-SIG',engine='python') #docAddress可以是中文名"
   ]
  },
  {
   "cell_type": "markdown",
   "metadata": {},
   "source": [
    "## 了解数据集概况\n",
    "df.shape  \n",
    "df.head() |  patients_clean.zip_code.head()\n",
    "df.tail()  \n",
    "df.sample()  \n",
    "#### 每列的数据类型，有多少非空值：\n",
    "df.info()  \n",
    "#### 每列是否有非空值：\n",
    "df.dtypes\n",
    "#### 每列是否有非空值：\n",
    "df.isna().any()\n",
    "#### 每列含多少唯一值：\n",
    "df.nunique()\n",
    "#### 返回唯一值的列表：\n",
    "df['year'].unique()\n",
    "#### 标准差、最大最小值:\n",
    "df.describe()\n",
    "#### 检查null：\n",
    "df[df['产量（万吨）'].isnull()]  \n",
    "json[json.retweeted_status.notnull()]  \n",
    "#### 检查重复数据：\n",
    "sum(df.duplicated())  \n",
    "patients[patients.address.duplicated()]  \n",
    "#### 检查该列各个值的分布：\n",
    "df['年份'].value_counts()  \n",
    "patients.surname.value_counts()  \n",
    "#### 按值排序：\n",
    "patients.weight.sort_values() \n",
    "patients_clean.email.sort_values().head() 确认没有邮箱以整数开头 (正则表达式不能匹配整数)\n",
    "#### 获取列的数量、名称：\n",
    "ncolumns = df.columns.size  \n",
    "list(patients)  \n",
    "#### 查看某几列：\n",
    "df[['width', 'length', 'height']]\n",
    "#### 根据条件查询值\n",
    "patients[patients.surname == 'Zaitseva'].bmi  \n",
    "tweets[tweets.name== 'None']  \n",
    "df[df['单价'].isin([9.98,9.99,19.99])]  \n",
    "df[['product','运输方式]][df['单价']>5000] 等同于 df.loc[df['单价']>5000,(['product','运输方式'])]  \n",
    "tomato[\"bool\"] = tomato.title.str.contains(\"番茄|西红柿|茄果|瓜果\") \n",
    "#### 检查tweets表格里的tweet_id是否都存在于json表格里\n",
    "len(tweets[~tweets.tweet_id.isin(json.id)])\n",
    "#### 提取某列值在某个列表中的df\n",
    "tweets_clean[tweets_clean['rating_denominator'].isin([20,40,50,70,80,90,110,120,130,150,170])].text【查看分母是10的倍数的推特原文】\n",
    "#### 过滤掉含某值的数据\n",
    "eggplant['bool2'] = ~eggplant.title.str.contains('番茄')\n",
    "#### 用loc查看值\n",
    "df.loc[0:3,'a':'c'] 【0:3实际上并不是数字，而是行的label。】  \n",
    "df.loc[df.loc[:,'a']>1]  \n",
    "df.loc[[22,26],'title']  \n",
    "df.loc[df['区域' == '华东', :]  \n",
    "df.loc[df['区域'].str.contains('华|东')]  筛选包含某一字符的行"
   ]
  },
  {
   "cell_type": "markdown",
   "metadata": {},
   "source": [
    "## 格式\n",
    "#### 最长显示140个字符\n",
    "pd.set_option('max_colwidth', 140)\n"
   ]
  },
  {
   "cell_type": "markdown",
   "metadata": {},
   "source": [
    "## Data Wrangling\n",
    "df_clean = df.copy()\n",
    "#### 把空值填充为另一列的数据\n",
    "df['v2'].fillna(value = df['v1'],inplace = True)\n",
    "#### 将0变为null\n",
    "df.replace(0,np.nan)  \n",
    "tweets_clean['stage'].replace('doggoNonepupperNone',np.nan, inplace=True) 【同时具备两个地位的数据占比例很小，但情况又比较多样，不值得花时间逐个手动清理，统一标记为空值。】\n",
    "#### 删除列 \n",
    "patients_clean = patients_clean.drop('contact', axis=1)  \n",
    "Note: axis=1 表明我们参考的是一列，而不是一行  \n",
    "df.drop(columns = ['length', 'height'])\n",
    "#### 删除行\n",
    "df=df[~df['taskdate'].isin([20160211,20180610,20171230])]\n",
    "Note：取反思路，删除20160211的26个数据、20180610的8个数据、20171230的4个数据\n",
    "#### 只保留df中符合条件的数据\n",
    "treatments_clean = treatments_clean[treatments_clean.dose != \"-\"]\n",
    "\n",
    "#### 把行索引设置为一列\n",
    "df_full[\"时间\"] = df_full.index"
   ]
  },
  {
   "cell_type": "markdown",
   "metadata": {},
   "source": [
    "### 字符串的处理\n",
    "#### 使用字符串分割，删除每个动物名称前面的 'bb'   \n",
    "df_clean['Animal'] = df_clean['Animal'].str[2:]  \n",
    "#### 某列结尾增加字符串\n",
    "df_full[\"开始时间\"] = df_full[\"日期\"] + \" \" + df_full[\"开始时间\"].astype('str')  + \":00\"\n",
    "#### 在体重和脑重量两列，将 ! 替换为 .   \n",
    "df_clean['Body weight (kg)'] = df_clean['Body weight (kg)'].str.replace('!', '.')  \n",
    "#### 将doggoNonepuppo替换为puppo    \n",
    "tweets_clean['stage'].replace('doggoNoneNonepuppo','puppo', inplace=True)   \n",
    "#### 删除日期末尾的“原创”：必须要加regex = True才起作用    \n",
    "df['date'].replace('原创$','',regex = True, inplace = True) \n",
    "#### 1列分为2列\n",
    "treatments_clean['dose_start'], treatments_clean['dose_end'] = treatments_clean['dose'].str.split(' - ', 1).str"
   ]
  },
  {
   "cell_type": "code",
   "execution_count": null,
   "metadata": {},
   "outputs": [],
   "source": []
  },
  {
   "cell_type": "markdown",
   "metadata": {},
   "source": [
    "#### 修改某列的值\n",
    "treatments_clean.hba1c_change = (treatments_clean.hba1c_start - treatments_clean.hba1c_end)\n",
    "#### 新建一列并赋值\n",
    "patients_clean['phone_number'] = patients_clean.contact.str.extract('((?:\\+\\d{1,2}\\s)?\\(?\\d{3}\\)?[\\s.-]?\\d{3}[\\s.-]?\\d{4})', expand=True)  \n",
    "patients_clean['email'] = patients_clean.contact.str.extract('([a-zA-Z][a-zA-Z0-9_.+-]+@[a-zA-Z0-9-]+\\.[a-zA-Z0-9-.][a-zA-Z]+)', expand=True)\n",
    "#### 满足某要求的某列的值改为另一列的值\n",
    "v2列中的---改成和v1列一样的名称\n",
    "df.loc[df['v2']==\"---\",'v2']=df['v1']\n",
    "#### 删除某列\n",
    "twitter_archive_master.drop(['id'],axis=1, inplace=True)\n",
    "#### 删除某列含某字符串的行\n",
    "df = df[~df['日期'].str.contains('第')]\n",
    "#### 交换两列\n",
    "df.loc[:,['B', 'A']] = df[['A', 'B']].values\n",
    "不能用df.loc[:,['B', 'A']] = df[['A', 'B']]，因为pandas默认在赋值的时候回匹配列名，这里面的AB和BA实际上没有区别。如果想要交换两列的话，应该使用AB两列的值作为右值，这样就不带列索引名了。"
   ]
  },
  {
   "cell_type": "markdown",
   "metadata": {},
   "source": [
    "### Data Reshaping\n",
    "treatments_clean = pd.melt(treatments_clean, id_vars=['given_name', 'surname', 'hba1c_start', 'hba1c_end', 'hba1c_change'],\n",
    "                           var_name='treatment', value_name='dose')  \n",
    "df_temp = pd.merge(tweets_clean, predictions_clean, on=['tweet_id'], how='inner')  \n",
    "pd.pivot(columns = 'var', values = 'val')\n",
    "pd.concat([df1, df2))  \n",
    "pd.concat([df1, df2), axis = 1)"
   ]
  },
  {
   "cell_type": "code",
   "execution_count": null,
   "metadata": {},
   "outputs": [],
   "source": []
  },
  {
   "cell_type": "markdown",
   "metadata": {},
   "source": [
    "### 转换数据类型\n",
    "转为分类数据类型  \n",
    "patients_clean.assigned_sex = patients_clean.assigned_sex.astype('category')  \n",
    "patients_clean.state = patients_clean.state.astype('category')\n",
    "\n",
    "转为 datetime 类型  \n",
    "patients_clean.birthdate = pd.to_datetime(patients_clean.birthdate)  \n",
    "\n",
    "添加 u 并转为整数类型  \n",
    "treatments_clean.dose_start = treatments_clean.dose_start.str.strip('u').astype(int)  \n",
    "treatments_clean.dose_end = treatments_clean.dose_end.str.strip('u').astype(int)"
   ]
  },
  {
   "cell_type": "markdown",
   "metadata": {},
   "source": []
  },
  {
   "cell_type": "markdown",
   "metadata": {},
   "source": [
    "波浪符号表示否： http://pandas.pydata.org/pandas-docs/stable/indexing.html#boolean-indexing\n",
    "patients_clean = patients_clean[~((patients_clean.address.duplicated()) & patients_clean.address.notnull())]"
   ]
  },
  {
   "cell_type": "code",
   "execution_count": null,
   "metadata": {},
   "outputs": [],
   "source": [
    "增加所有的 \" \"、 \"-\"、\"(\", \")\" 和 \"+\"，存储所有没有格式的数字。如果手机号只有 10 位数，在手机号前添加 1 (我们需要国家编号)。\n",
    "patients_clean.phone_number = patients_clean.phone_number.str.replace(r'\\D+', '').str.pad(11, fillchar='1')"
   ]
  },
  {
   "cell_type": "code",
   "execution_count": null,
   "metadata": {},
   "outputs": [],
   "source": [
    "# 从州的全称映射到简称\n",
    "state_abbrev = {'California': 'CA',\n",
    "                'New York': 'NY',\n",
    "                'Illinois': 'IL',\n",
    "                'Florida': 'FL',\n",
    "                'Nebraska': 'NE'}\n",
    "\n",
    "# 使用的函数\n",
    "def abbreviate_state(patient):\n",
    "    if patient['state'] in state_abbrev.keys():\n",
    "        abbrev = state_abbrev[patient['state']]\n",
    "        return abbrev\n",
    "    else:\n",
    "        return patient['state']\n",
    "    \n",
    "patients_clean['state'] = patients_clean.apply(abbreviate_state, axis=1)"
   ]
  },
  {
   "cell_type": "code",
   "execution_count": 7,
   "metadata": {},
   "outputs": [
    {
     "name": "stdout",
     "output_type": "stream",
     "text": [
      "16\n"
     ]
    }
   ],
   "source": [
    "print(4**2)"
   ]
  },
  {
   "cell_type": "markdown",
   "metadata": {},
   "source": [
    "Convert the zip code column's data type from a float to a string 使用 astype 把邮件一列的数据类型从浮点转换为字符串，使用字符串分割删除 '.0'。在四位数邮编前面加上 0。"
   ]
  },
  {
   "cell_type": "markdown",
   "metadata": {},
   "source": [
    "## 数据保存"
   ]
  },
  {
   "cell_type": "code",
   "execution_count": null,
   "metadata": {},
   "outputs": [],
   "source": [
    "#似乎写入新的xls文件，writer直接为路径即可\n",
    "writer = r'D:\\Data\\新发地菜价\\普通菜\\普通菜价格汇总20180723-1206.xls'\n",
    "df.to_excel(writer, sheet_name='普通菜价格汇总', index=False)\n",
    "\n",
    "#词写法writer必须pd.ExcelWriter，否则无法writer.save()\n",
    "writer = pd.ExcelWriter(\"D:\\Github\\蔬菜微信公众号\\北京蔬菜卫士分类2.xlsx\")\n",
    "tomato.to_excel(excel_writer=writer, sheet_name = \"番茄\")\n",
    "pepper.to_excel(excel_writer=writer,  sheet_name = \"辣椒\")\n",
    "writer.save()\n",
    "writer.close()\n",
    "twitter_archive_master.to_csv('twitter_archive_master.csv', index=False)"
   ]
  },
  {
   "cell_type": "markdown",
   "metadata": {},
   "source": [
    "## 分析和可视化\n",
    "viz = pd.read_csv('twitter_archive_master.csv')  \n",
    "viz['std_rating'] = viz['rating_numerator']*10/viz['rating_denominator']  \n",
    "viz.std_rating.hist(bins=14)   \n",
    "viz.plot(x='favorite_count', y='retweet_count', kind='scatter')  \n",
    "viz[['favorite_count', 'retweet_count']].corr()\n",
    "viz.groupby('stage')['favorite_count'].describe()\n"
   ]
  },
  {
   "cell_type": "code",
   "execution_count": null,
   "metadata": {},
   "outputs": [],
   "source": [
    "#绘制每年发生战争次数的柱状图\n",
    "year = df['year'].unique()\n",
    "frequency = df.groupby('year')['year'].count().values\n",
    "plt.figure(figsize = (6,8))\n",
    "plt.bar(x = year, height = frequency, width = 0.5)\n",
    "x_ticks = np.arange(297, 301, 1)\n",
    "y_ticks = np.arange(0, 21, 5)\n",
    "plt.xticks(x_ticks)\n",
    "plt.yticks(y_ticks)\n",
    "for a,b in zip(year, frequency):\n",
    "    plt.text(a, b, b, ha='center', va= 'bottom')\n",
    "plt.title('Fig 1. Battle Frequency')\n",
    "plt.xlabel('Year')\n",
    "plt.ylabel('Frequency')\n",
    "plt.show;"
   ]
  },
  {
   "cell_type": "code",
   "execution_count": null,
   "metadata": {},
   "outputs": [],
   "source": [
    "import matplotlib.pyplot as plt\n",
    "%matplotlib inline\n",
    "df.plot.bar()\n",
    "plt.show()"
   ]
  },
  {
   "cell_type": "code",
   "execution_count": null,
   "metadata": {},
   "outputs": [],
   "source": [
    "df.plot.box()\n",
    "plt.show()"
   ]
  },
  {
   "cell_type": "code",
   "execution_count": null,
   "metadata": {},
   "outputs": [],
   "source": []
  },
  {
   "cell_type": "code",
   "execution_count": null,
   "metadata": {},
   "outputs": [],
   "source": []
  },
  {
   "cell_type": "code",
   "execution_count": null,
   "metadata": {},
   "outputs": [],
   "source": []
  },
  {
   "cell_type": "code",
   "execution_count": null,
   "metadata": {},
   "outputs": [],
   "source": []
  },
  {
   "cell_type": "code",
   "execution_count": null,
   "metadata": {},
   "outputs": [],
   "source": []
  }
 ],
 "metadata": {
  "kernelspec": {
   "display_name": "Python 3",
   "language": "python",
   "name": "python3"
  },
  "language_info": {
   "codemirror_mode": {
    "name": "ipython",
    "version": 3
   },
   "file_extension": ".py",
   "mimetype": "text/x-python",
   "name": "python",
   "nbconvert_exporter": "python",
   "pygments_lexer": "ipython3",
   "version": "3.6.6"
  },
  "toc": {
   "base_numbering": 1,
   "nav_menu": {},
   "number_sections": false,
   "sideBar": true,
   "skip_h1_title": true,
   "title_cell": "Table of Contents",
   "title_sidebar": "Contents",
   "toc_cell": false,
   "toc_position": {
    "height": "calc(100% - 180px)",
    "left": "10px",
    "top": "150px",
    "width": "512px"
   },
   "toc_section_display": true,
   "toc_window_display": true
  }
 },
 "nbformat": 4,
 "nbformat_minor": 2
}
