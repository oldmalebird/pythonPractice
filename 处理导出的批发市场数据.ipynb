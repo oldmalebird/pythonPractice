{
 "cells": [
  {
   "cell_type": "code",
   "execution_count": 1,
   "metadata": {},
   "outputs": [],
   "source": [
    "import pandas as pd"
   ]
  },
  {
   "cell_type": "code",
   "execution_count": 32,
   "metadata": {},
   "outputs": [],
   "source": [
    "docAddress = r\"D:\\Data\\信息中心批发价格\\网络导出\\2020年1-2月蔬菜汇总数据.xlsx\"\n",
    "df = pd.read_excel(docAddress, Sheet_name='cleaned')"
   ]
  },
  {
   "cell_type": "code",
   "execution_count": 33,
   "metadata": {},
   "outputs": [
    {
     "data": {
      "text/plain": [
       "(433461, 10)"
      ]
     },
     "execution_count": 33,
     "metadata": {},
     "output_type": "execute_result"
    }
   ],
   "source": [
    "df.shape"
   ]
  },
  {
   "cell_type": "code",
   "execution_count": 34,
   "metadata": {},
   "outputs": [
    {
     "data": {
      "text/html": [
       "<div>\n",
       "<style scoped>\n",
       "    .dataframe tbody tr th:only-of-type {\n",
       "        vertical-align: middle;\n",
       "    }\n",
       "\n",
       "    .dataframe tbody tr th {\n",
       "        vertical-align: top;\n",
       "    }\n",
       "\n",
       "    .dataframe thead th {\n",
       "        text-align: right;\n",
       "    }\n",
       "</style>\n",
       "<table border=\"1\" class=\"dataframe\">\n",
       "  <thead>\n",
       "    <tr style=\"text-align: right;\">\n",
       "      <th></th>\n",
       "      <th>类</th>\n",
       "      <th>蔬菜</th>\n",
       "      <th>省</th>\n",
       "      <th>批发市场</th>\n",
       "      <th>月份</th>\n",
       "      <th>日期</th>\n",
       "      <th>大宗价</th>\n",
       "      <th>最高价</th>\n",
       "      <th>最低价</th>\n",
       "      <th>交易量</th>\n",
       "    </tr>\n",
       "  </thead>\n",
       "  <tbody>\n",
       "    <tr>\n",
       "      <th>0</th>\n",
       "      <td>果菜</td>\n",
       "      <td>白萝卜</td>\n",
       "      <td>北京市</td>\n",
       "      <td>北京华垦岳各庄批发市场</td>\n",
       "      <td>2020年第1月</td>\n",
       "      <td>2020年1月1日</td>\n",
       "      <td>1.8</td>\n",
       "      <td>2.0</td>\n",
       "      <td>1.6</td>\n",
       "      <td>10.0</td>\n",
       "    </tr>\n",
       "    <tr>\n",
       "      <th>1</th>\n",
       "      <td>果菜</td>\n",
       "      <td>白萝卜</td>\n",
       "      <td>北京市</td>\n",
       "      <td>北京华垦岳各庄批发市场</td>\n",
       "      <td>2020年第1月</td>\n",
       "      <td>2020年1月2日</td>\n",
       "      <td>1.8</td>\n",
       "      <td>2.0</td>\n",
       "      <td>1.6</td>\n",
       "      <td>10.0</td>\n",
       "    </tr>\n",
       "    <tr>\n",
       "      <th>2</th>\n",
       "      <td>果菜</td>\n",
       "      <td>白萝卜</td>\n",
       "      <td>北京市</td>\n",
       "      <td>北京华垦岳各庄批发市场</td>\n",
       "      <td>2020年第1月</td>\n",
       "      <td>2020年1月3日</td>\n",
       "      <td>1.6</td>\n",
       "      <td>1.8</td>\n",
       "      <td>1.4</td>\n",
       "      <td>10.0</td>\n",
       "    </tr>\n",
       "    <tr>\n",
       "      <th>3</th>\n",
       "      <td>果菜</td>\n",
       "      <td>白萝卜</td>\n",
       "      <td>北京市</td>\n",
       "      <td>北京华垦岳各庄批发市场</td>\n",
       "      <td>2020年第1月</td>\n",
       "      <td>2020年1月4日</td>\n",
       "      <td>1.6</td>\n",
       "      <td>1.8</td>\n",
       "      <td>1.4</td>\n",
       "      <td>10.0</td>\n",
       "    </tr>\n",
       "    <tr>\n",
       "      <th>4</th>\n",
       "      <td>果菜</td>\n",
       "      <td>白萝卜</td>\n",
       "      <td>北京市</td>\n",
       "      <td>北京华垦岳各庄批发市场</td>\n",
       "      <td>2020年第1月</td>\n",
       "      <td>2020年1月5日</td>\n",
       "      <td>1.6</td>\n",
       "      <td>1.8</td>\n",
       "      <td>1.4</td>\n",
       "      <td>10.0</td>\n",
       "    </tr>\n",
       "  </tbody>\n",
       "</table>\n",
       "</div>"
      ],
      "text/plain": [
       "    类   蔬菜    省         批发市场        月份         日期  大宗价  最高价  最低价   交易量\n",
       "0  果菜  白萝卜  北京市  北京华垦岳各庄批发市场  2020年第1月  2020年1月1日  1.8  2.0  1.6  10.0\n",
       "1  果菜  白萝卜  北京市  北京华垦岳各庄批发市场  2020年第1月  2020年1月2日  1.8  2.0  1.6  10.0\n",
       "2  果菜  白萝卜  北京市  北京华垦岳各庄批发市场  2020年第1月  2020年1月3日  1.6  1.8  1.4  10.0\n",
       "3  果菜  白萝卜  北京市  北京华垦岳各庄批发市场  2020年第1月  2020年1月4日  1.6  1.8  1.4  10.0\n",
       "4  果菜  白萝卜  北京市  北京华垦岳各庄批发市场  2020年第1月  2020年1月5日  1.6  1.8  1.4  10.0"
      ]
     },
     "execution_count": 34,
     "metadata": {},
     "output_type": "execute_result"
    }
   ],
   "source": [
    "df.head()"
   ]
  },
  {
   "cell_type": "code",
   "execution_count": 35,
   "metadata": {},
   "outputs": [
    {
     "name": "stdout",
     "output_type": "stream",
     "text": [
      "<class 'pandas.core.frame.DataFrame'>\n",
      "RangeIndex: 433461 entries, 0 to 433460\n",
      "Data columns (total 10 columns):\n",
      "类       433461 non-null object\n",
      "蔬菜      433461 non-null object\n",
      "省       433461 non-null object\n",
      "批发市场    433461 non-null object\n",
      "月份      433461 non-null object\n",
      "日期      425089 non-null object\n",
      "大宗价     433461 non-null float64\n",
      "最高价     361505 non-null float64\n",
      "最低价     367138 non-null float64\n",
      "交易量     292991 non-null float64\n",
      "dtypes: float64(4), object(6)\n",
      "memory usage: 33.1+ MB\n"
     ]
    }
   ],
   "source": [
    "df.info()"
   ]
  },
  {
   "cell_type": "code",
   "execution_count": 36,
   "metadata": {},
   "outputs": [],
   "source": [
    "df = df.loc[df['类'] != '蔬菜']"
   ]
  },
  {
   "cell_type": "code",
   "execution_count": 37,
   "metadata": {},
   "outputs": [],
   "source": [
    "df = df.loc[df['月份'] != '2020年']\n",
    "df = df.loc[df['月份'] != '2020年第3月']"
   ]
  },
  {
   "cell_type": "code",
   "execution_count": 38,
   "metadata": {},
   "outputs": [
    {
     "name": "stdout",
     "output_type": "stream",
     "text": [
      "<class 'pandas.core.frame.DataFrame'>\n",
      "Int64Index: 372908 entries, 0 to 422471\n",
      "Data columns (total 10 columns):\n",
      "类       372908 non-null object\n",
      "蔬菜      372908 non-null object\n",
      "省       372908 non-null object\n",
      "批发市场    372908 non-null object\n",
      "月份      372908 non-null object\n",
      "日期      372908 non-null object\n",
      "大宗价     372908 non-null float64\n",
      "最高价     311077 non-null float64\n",
      "最低价     315936 non-null float64\n",
      "交易量     252347 non-null float64\n",
      "dtypes: float64(4), object(6)\n",
      "memory usage: 31.3+ MB\n"
     ]
    }
   ],
   "source": [
    "df = df[~df['日期'].str.contains('第')]\n",
    "df.info()"
   ]
  },
  {
   "cell_type": "code",
   "execution_count": 17,
   "metadata": {},
   "outputs": [
    {
     "name": "stdout",
     "output_type": "stream",
     "text": [
      "<class 'pandas.core.frame.DataFrame'>\n",
      "Int64Index: 372908 entries, 0 to 422471\n",
      "Data columns (total 10 columns):\n",
      "类       372908 non-null object\n",
      "蔬菜      372908 non-null object\n",
      "省       372908 non-null object\n",
      "批发市场    372908 non-null object\n",
      "月份      372908 non-null object\n",
      "日期      372908 non-null object\n",
      "大宗价     372908 non-null float64\n",
      "最高价     311077 non-null float64\n",
      "最低价     315936 non-null float64\n",
      "交易量     252347 non-null float64\n",
      "dtypes: float64(4), object(6)\n",
      "memory usage: 31.3+ MB\n"
     ]
    }
   ],
   "source": [
    "#这个代码应该有用\n",
    "df = df[~(df['批发市场'].str.len() < 4)]\n",
    "df.info()"
   ]
  },
  {
   "cell_type": "code",
   "execution_count": 39,
   "metadata": {},
   "outputs": [
    {
     "name": "stdout",
     "output_type": "stream",
     "text": [
      "<class 'pandas.core.frame.DataFrame'>\n",
      "Int64Index: 268473 entries, 0 to 422337\n",
      "Data columns (total 10 columns):\n",
      "类       268473 non-null object\n",
      "蔬菜      268473 non-null object\n",
      "省       268473 non-null object\n",
      "批发市场    268473 non-null object\n",
      "月份      268473 non-null object\n",
      "日期      268473 non-null object\n",
      "大宗价     268473 non-null float64\n",
      "最高价     217141 non-null float64\n",
      "最低价     221618 non-null float64\n",
      "交易量     167125 non-null float64\n",
      "dtypes: float64(4), object(6)\n",
      "memory usage: 22.5+ MB\n"
     ]
    }
   ],
   "source": [
    "df = df[df['批发市场'].str.len()>3]\n",
    "df.info()"
   ]
  },
  {
   "cell_type": "code",
   "execution_count": 40,
   "metadata": {},
   "outputs": [
    {
     "name": "stdout",
     "output_type": "stream",
     "text": [
      "<class 'pandas.core.frame.DataFrame'>\n",
      "Int64Index: 247450 entries, 0 to 413860\n",
      "Data columns (total 10 columns):\n",
      "类       247450 non-null object\n",
      "蔬菜      247450 non-null object\n",
      "省       247450 non-null object\n",
      "批发市场    247450 non-null object\n",
      "月份      247450 non-null object\n",
      "日期      247450 non-null object\n",
      "大宗价     247450 non-null float64\n",
      "最高价     200093 non-null float64\n",
      "最低价     204308 non-null float64\n",
      "交易量     153582 non-null float64\n",
      "dtypes: float64(4), object(6)\n",
      "memory usage: 20.8+ MB\n"
     ]
    }
   ],
   "source": [
    "df = df.loc[df['蔬菜'] != '果菜']\n",
    "df = df.loc[df['蔬菜'] != '叶菜']\n",
    "df = df.loc[df['蔬菜'] != '其它蔬菜']\n",
    "df.info()"
   ]
  },
  {
   "cell_type": "code",
   "execution_count": 41,
   "metadata": {},
   "outputs": [
    {
     "name": "stdout",
     "output_type": "stream",
     "text": [
      "<class 'pandas.core.frame.DataFrame'>\n",
      "Int64Index: 247450 entries, 0 to 413860\n",
      "Data columns (total 8 columns):\n",
      "蔬菜      247450 non-null object\n",
      "省       247450 non-null object\n",
      "批发市场    247450 non-null object\n",
      "日期      247450 non-null object\n",
      "大宗价     247450 non-null float64\n",
      "最高价     200093 non-null float64\n",
      "最低价     204308 non-null float64\n",
      "交易量     153582 non-null float64\n",
      "dtypes: float64(4), object(4)\n",
      "memory usage: 17.0+ MB\n"
     ]
    }
   ],
   "source": [
    "df=df.drop('类', axis=1)\n",
    "df=df.drop('月份', axis=1)\n",
    "df.info()"
   ]
  },
  {
   "cell_type": "code",
   "execution_count": 42,
   "metadata": {},
   "outputs": [],
   "source": [
    "writer = r\"D:\\Data\\信息中心批发价格\\网络导出\\2020年1-2月蔬菜汇总数据_cleaned.xlsx\"\n",
    "df.to_excel(writer, sheet_name='cleaned', index=False)"
   ]
  },
  {
   "cell_type": "code",
   "execution_count": null,
   "metadata": {},
   "outputs": [],
   "source": []
  }
 ],
 "metadata": {
  "kernelspec": {
   "display_name": "Python 3",
   "language": "python",
   "name": "python3"
  },
  "language_info": {
   "codemirror_mode": {
    "name": "ipython",
    "version": 3
   },
   "file_extension": ".py",
   "mimetype": "text/x-python",
   "name": "python",
   "nbconvert_exporter": "python",
   "pygments_lexer": "ipython3",
   "version": "3.6.6"
  }
 },
 "nbformat": 4,
 "nbformat_minor": 2
}
