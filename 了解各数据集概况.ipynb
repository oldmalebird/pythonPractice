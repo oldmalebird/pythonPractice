{
 "cells": [
  {
   "cell_type": "code",
   "execution_count": 1,
   "metadata": {},
   "outputs": [],
   "source": [
    "import pandas as pd\n",
    "import numpy as np"
   ]
  },
  {
   "cell_type": "code",
   "execution_count": 2,
   "metadata": {},
   "outputs": [],
   "source": [
    "docAddress = r\"D:\\Data\\种植业司\\全国蔬菜面积产量.xlsx\"\n",
    "df = pd.read_excel(docAddress, sheet_name='全国蔬菜面积与产量')"
   ]
  },
  {
   "cell_type": "code",
   "execution_count": 3,
   "metadata": {},
   "outputs": [
    {
     "data": {
      "text/plain": [
       "(4835, 6)"
      ]
     },
     "execution_count": 3,
     "metadata": {},
     "output_type": "execute_result"
    }
   ],
   "source": [
    "df.shape"
   ]
  },
  {
   "cell_type": "code",
   "execution_count": 4,
   "metadata": {},
   "outputs": [
    {
     "data": {
      "text/html": [
       "<div>\n",
       "<style scoped>\n",
       "    .dataframe tbody tr th:only-of-type {\n",
       "        vertical-align: middle;\n",
       "    }\n",
       "\n",
       "    .dataframe tbody tr th {\n",
       "        vertical-align: top;\n",
       "    }\n",
       "\n",
       "    .dataframe thead th {\n",
       "        text-align: right;\n",
       "    }\n",
       "</style>\n",
       "<table border=\"1\" class=\"dataframe\">\n",
       "  <thead>\n",
       "    <tr style=\"text-align: right;\">\n",
       "      <th></th>\n",
       "      <th>地区</th>\n",
       "      <th>蔬菜种类</th>\n",
       "      <th>面积（万亩）</th>\n",
       "      <th>产量（万吨）</th>\n",
       "      <th>年份</th>\n",
       "      <th>数据来源</th>\n",
       "    </tr>\n",
       "  </thead>\n",
       "  <tbody>\n",
       "    <tr>\n",
       "      <th>0</th>\n",
       "      <td>北京</td>\n",
       "      <td>大白菜</td>\n",
       "      <td>13.7854</td>\n",
       "      <td>73.6677</td>\n",
       "      <td>1990</td>\n",
       "      <td>中国蔬菜专业统计资料</td>\n",
       "    </tr>\n",
       "    <tr>\n",
       "      <th>1</th>\n",
       "      <td>天津</td>\n",
       "      <td>大白菜</td>\n",
       "      <td>9.7905</td>\n",
       "      <td>37.8435</td>\n",
       "      <td>1990</td>\n",
       "      <td>中国蔬菜专业统计资料</td>\n",
       "    </tr>\n",
       "    <tr>\n",
       "      <th>2</th>\n",
       "      <td>河北</td>\n",
       "      <td>大白菜</td>\n",
       "      <td>140.6000</td>\n",
       "      <td>679.1500</td>\n",
       "      <td>1990</td>\n",
       "      <td>中国蔬菜专业统计资料</td>\n",
       "    </tr>\n",
       "    <tr>\n",
       "      <th>3</th>\n",
       "      <td>山西</td>\n",
       "      <td>大白菜</td>\n",
       "      <td>13.1000</td>\n",
       "      <td>65.5000</td>\n",
       "      <td>1990</td>\n",
       "      <td>中国蔬菜专业统计资料</td>\n",
       "    </tr>\n",
       "    <tr>\n",
       "      <th>4</th>\n",
       "      <td>内蒙古</td>\n",
       "      <td>大白菜</td>\n",
       "      <td>21.0573</td>\n",
       "      <td>92.7664</td>\n",
       "      <td>1990</td>\n",
       "      <td>中国蔬菜专业统计资料</td>\n",
       "    </tr>\n",
       "  </tbody>\n",
       "</table>\n",
       "</div>"
      ],
      "text/plain": [
       "    地区 蔬菜种类    面积（万亩）    产量（万吨）    年份        数据来源\n",
       "0   北京  大白菜   13.7854   73.6677  1990  中国蔬菜专业统计资料\n",
       "1   天津  大白菜    9.7905   37.8435  1990  中国蔬菜专业统计资料\n",
       "2   河北  大白菜  140.6000  679.1500  1990  中国蔬菜专业统计资料\n",
       "3   山西  大白菜   13.1000   65.5000  1990  中国蔬菜专业统计资料\n",
       "4  内蒙古  大白菜   21.0573   92.7664  1990  中国蔬菜专业统计资料"
      ]
     },
     "execution_count": 4,
     "metadata": {},
     "output_type": "execute_result"
    }
   ],
   "source": [
    "df.head()"
   ]
  },
  {
   "cell_type": "code",
   "execution_count": 5,
   "metadata": {},
   "outputs": [
    {
     "data": {
      "text/html": [
       "<div>\n",
       "<style scoped>\n",
       "    .dataframe tbody tr th:only-of-type {\n",
       "        vertical-align: middle;\n",
       "    }\n",
       "\n",
       "    .dataframe tbody tr th {\n",
       "        vertical-align: top;\n",
       "    }\n",
       "\n",
       "    .dataframe thead th {\n",
       "        text-align: right;\n",
       "    }\n",
       "</style>\n",
       "<table border=\"1\" class=\"dataframe\">\n",
       "  <thead>\n",
       "    <tr style=\"text-align: right;\">\n",
       "      <th></th>\n",
       "      <th>地区</th>\n",
       "      <th>蔬菜种类</th>\n",
       "      <th>面积（万亩）</th>\n",
       "      <th>产量（万吨）</th>\n",
       "      <th>年份</th>\n",
       "      <th>数据来源</th>\n",
       "    </tr>\n",
       "  </thead>\n",
       "  <tbody>\n",
       "    <tr>\n",
       "      <th>4830</th>\n",
       "      <td>陕西</td>\n",
       "      <td>其他</td>\n",
       "      <td>103.575500</td>\n",
       "      <td>146.717099</td>\n",
       "      <td>2013</td>\n",
       "      <td>种植业司</td>\n",
       "    </tr>\n",
       "    <tr>\n",
       "      <th>4831</th>\n",
       "      <td>甘肃</td>\n",
       "      <td>其他</td>\n",
       "      <td>166.554560</td>\n",
       "      <td>307.565740</td>\n",
       "      <td>2013</td>\n",
       "      <td>种植业司</td>\n",
       "    </tr>\n",
       "    <tr>\n",
       "      <th>4832</th>\n",
       "      <td>青海</td>\n",
       "      <td>其他</td>\n",
       "      <td>13.317550</td>\n",
       "      <td>22.525060</td>\n",
       "      <td>2013</td>\n",
       "      <td>种植业司</td>\n",
       "    </tr>\n",
       "    <tr>\n",
       "      <th>4833</th>\n",
       "      <td>宁夏</td>\n",
       "      <td>其他</td>\n",
       "      <td>20.516690</td>\n",
       "      <td>33.247990</td>\n",
       "      <td>2013</td>\n",
       "      <td>种植业司</td>\n",
       "    </tr>\n",
       "    <tr>\n",
       "      <th>4834</th>\n",
       "      <td>新疆</td>\n",
       "      <td>其他</td>\n",
       "      <td>36.833937</td>\n",
       "      <td>86.596938</td>\n",
       "      <td>2013</td>\n",
       "      <td>种植业司</td>\n",
       "    </tr>\n",
       "  </tbody>\n",
       "</table>\n",
       "</div>"
      ],
      "text/plain": [
       "      地区 蔬菜种类      面积（万亩）      产量（万吨）    年份  数据来源\n",
       "4830  陕西   其他  103.575500  146.717099  2013  种植业司\n",
       "4831  甘肃   其他  166.554560  307.565740  2013  种植业司\n",
       "4832  青海   其他   13.317550   22.525060  2013  种植业司\n",
       "4833  宁夏   其他   20.516690   33.247990  2013  种植业司\n",
       "4834  新疆   其他   36.833937   86.596938  2013  种植业司"
      ]
     },
     "execution_count": 5,
     "metadata": {},
     "output_type": "execute_result"
    }
   ],
   "source": [
    "df.tail()"
   ]
  },
  {
   "cell_type": "code",
   "execution_count": 6,
   "metadata": {},
   "outputs": [
    {
     "name": "stdout",
     "output_type": "stream",
     "text": [
      "<class 'pandas.core.frame.DataFrame'>\n",
      "RangeIndex: 4835 entries, 0 to 4834\n",
      "Data columns (total 6 columns):\n",
      "地区        4835 non-null object\n",
      "蔬菜种类      4835 non-null object\n",
      "面积（万亩）    4391 non-null float64\n",
      "产量（万吨）    4389 non-null float64\n",
      "年份        4835 non-null int64\n",
      "数据来源      4835 non-null object\n",
      "dtypes: float64(2), int64(1), object(3)\n",
      "memory usage: 226.7+ KB\n"
     ]
    }
   ],
   "source": [
    "df.info()"
   ]
  },
  {
   "cell_type": "markdown",
   "metadata": {},
   "source": [
    "标准差、最大最小值"
   ]
  },
  {
   "cell_type": "code",
   "execution_count": 7,
   "metadata": {},
   "outputs": [
    {
     "data": {
      "text/html": [
       "<div>\n",
       "<style scoped>\n",
       "    .dataframe tbody tr th:only-of-type {\n",
       "        vertical-align: middle;\n",
       "    }\n",
       "\n",
       "    .dataframe tbody tr th {\n",
       "        vertical-align: top;\n",
       "    }\n",
       "\n",
       "    .dataframe thead th {\n",
       "        text-align: right;\n",
       "    }\n",
       "</style>\n",
       "<table border=\"1\" class=\"dataframe\">\n",
       "  <thead>\n",
       "    <tr style=\"text-align: right;\">\n",
       "      <th></th>\n",
       "      <th>面积（万亩）</th>\n",
       "      <th>产量（万吨）</th>\n",
       "      <th>年份</th>\n",
       "    </tr>\n",
       "  </thead>\n",
       "  <tbody>\n",
       "    <tr>\n",
       "      <th>count</th>\n",
       "      <td>4391.000000</td>\n",
       "      <td>4389.000000</td>\n",
       "      <td>4835.000000</td>\n",
       "    </tr>\n",
       "    <tr>\n",
       "      <th>mean</th>\n",
       "      <td>41.212546</td>\n",
       "      <td>97.181211</td>\n",
       "      <td>2010.271975</td>\n",
       "    </tr>\n",
       "    <tr>\n",
       "      <th>std</th>\n",
       "      <td>69.030834</td>\n",
       "      <td>171.455878</td>\n",
       "      <td>10.064823</td>\n",
       "    </tr>\n",
       "    <tr>\n",
       "      <th>min</th>\n",
       "      <td>0.000300</td>\n",
       "      <td>0.000980</td>\n",
       "      <td>1990.000000</td>\n",
       "    </tr>\n",
       "    <tr>\n",
       "      <th>25%</th>\n",
       "      <td>4.377000</td>\n",
       "      <td>8.832000</td>\n",
       "      <td>2013.000000</td>\n",
       "    </tr>\n",
       "    <tr>\n",
       "      <th>50%</th>\n",
       "      <td>18.500750</td>\n",
       "      <td>35.978664</td>\n",
       "      <td>2015.000000</td>\n",
       "    </tr>\n",
       "    <tr>\n",
       "      <th>75%</th>\n",
       "      <td>48.617850</td>\n",
       "      <td>106.201270</td>\n",
       "      <td>2016.000000</td>\n",
       "    </tr>\n",
       "    <tr>\n",
       "      <th>max</th>\n",
       "      <td>727.017300</td>\n",
       "      <td>1482.357830</td>\n",
       "      <td>2017.000000</td>\n",
       "    </tr>\n",
       "  </tbody>\n",
       "</table>\n",
       "</div>"
      ],
      "text/plain": [
       "            面积（万亩）       产量（万吨）           年份\n",
       "count  4391.000000  4389.000000  4835.000000\n",
       "mean     41.212546    97.181211  2010.271975\n",
       "std      69.030834   171.455878    10.064823\n",
       "min       0.000300     0.000980  1990.000000\n",
       "25%       4.377000     8.832000  2013.000000\n",
       "50%      18.500750    35.978664  2015.000000\n",
       "75%      48.617850   106.201270  2016.000000\n",
       "max     727.017300  1482.357830  2017.000000"
      ]
     },
     "execution_count": 7,
     "metadata": {},
     "output_type": "execute_result"
    }
   ],
   "source": [
    "df.describe()"
   ]
  },
  {
   "cell_type": "code",
   "execution_count": 8,
   "metadata": {},
   "outputs": [
    {
     "data": {
      "text/plain": [
       "0"
      ]
     },
     "execution_count": 8,
     "metadata": {},
     "output_type": "execute_result"
    }
   ],
   "source": [
    "#检查重复数据\n",
    "sum(df.duplicated())"
   ]
  },
  {
   "cell_type": "code",
   "execution_count": 10,
   "metadata": {},
   "outputs": [
    {
     "data": {
      "text/plain": [
       "地区          31\n",
       "蔬菜种类        36\n",
       "面积（万亩）    4221\n",
       "产量（万吨）    4301\n",
       "年份           7\n",
       "数据来源         2\n",
       "dtype: int64"
      ]
     },
     "execution_count": 10,
     "metadata": {},
     "output_type": "execute_result"
    }
   ],
   "source": [
    "df.nunique()"
   ]
  },
  {
   "cell_type": "code",
   "execution_count": 12,
   "metadata": {},
   "outputs": [],
   "source": [
    "ncolumns = df.columns.size"
   ]
  },
  {
   "cell_type": "code",
   "execution_count": 17,
   "metadata": {},
   "outputs": [
    {
     "name": "stderr",
     "output_type": "stream",
     "text": [
      "C:\\Users\\cva_b\\Anaconda3\\lib\\site-packages\\ipykernel_launcher.py:1: DeprecationWarning: \n",
      ".ix is deprecated. Please use\n",
      ".loc for label based indexing or\n",
      ".iloc for positional indexing\n",
      "\n",
      "See the documentation here:\n",
      "http://pandas.pydata.org/pandas-docs/stable/indexing.html#ix-indexer-is-deprecated\n",
      "  \"\"\"Entry point for launching an IPython kernel.\n"
     ]
    },
    {
     "data": {
      "text/plain": [
       "array(['大白菜', '普通白菜', '甘蓝', '菠菜', '萝卜', '胡萝卜', '马铃薯', '韭菜', '大葱', '洋葱',\n",
       "       '大蒜', '花椰菜', '莴笋', '芹菜', '芥菜', '番茄', '茄子', '甜椒', '辣椒', '菜豆', '豇豆',\n",
       "       '黄瓜', '南瓜', '芦笋', '其他', '结球甘蓝', '青花菜', '苦瓜', '丝瓜', '西葫芦', '冬瓜',\n",
       "       '雍菜', '莴苣', '姜', '芋', '莲藕'], dtype=object)"
      ]
     },
     "execution_count": 17,
     "metadata": {},
     "output_type": "execute_result"
    }
   ],
   "source": [
    "df.ix[:,1].unique()\n",
    "'''\n",
    "C:\\Users\\cva_b\\Anaconda3\\lib\\site-packages\\ipykernel_launcher.py:1: DeprecationWarning: \n",
    ".ix is deprecated. Please use\n",
    ".loc for label based indexing or\n",
    ".iloc for positional indexing\n",
    "\n",
    "See the documentation here:\n",
    "http://pandas.pydata.org/pandas-docs/stable/indexing.html#ix-indexer-is-deprecated\n",
    "  \"\"\"Entry point for launching an IPython kernel.\n",
    "  '''\n"
   ]
  },
  {
   "cell_type": "code",
   "execution_count": null,
   "metadata": {},
   "outputs": [],
   "source": [
    "#将0变为null\n",
    "df.replace(0,np.nan)"
   ]
  }
 ],
 "metadata": {
  "kernelspec": {
   "display_name": "Python 3",
   "language": "python",
   "name": "python3"
  },
  "language_info": {
   "codemirror_mode": {
    "name": "ipython",
    "version": 3
   },
   "file_extension": ".py",
   "mimetype": "text/x-python",
   "name": "python",
   "nbconvert_exporter": "python",
   "pygments_lexer": "ipython3",
   "version": "3.6.6"
  }
 },
 "nbformat": 4,
 "nbformat_minor": 2
}
